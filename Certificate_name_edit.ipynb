{
 "cells": [
  {
   "cell_type": "code",
   "execution_count": 6,
   "id": "169d3783",
   "metadata": {},
   "outputs": [],
   "source": [
    "from PIL import Image, ImageFont, ImageDraw "
   ]
  },
  {
   "cell_type": "code",
   "execution_count": 50,
   "id": "7e3bba41",
   "metadata": {},
   "outputs": [],
   "source": [
    "# Creating multiple images using names\n",
    "names = ['Ramkumar Eetakota','Srija Sunkara','Swarupa Perumalla','Akhila Vaddamani','Nagamalleswararao']\n",
    "for i in range(len(names)):\n",
    "    my_image = Image.open(\"Internship_Sample_Certificate.jpg\")\n",
    "    title_font = ImageFont.truetype('C:\\Users\\DELL\\Downloads\\ITCEDSCR.TTF', 120)\n",
    "    #title_text = \"Ramkumar Eetakota\"\n",
    "    image_editable = ImageDraw.Draw(my_image)\n",
    "    image_editable.text((810,840), names[i], (235, 52, 52), font=title_font)\n",
    "    #my_image.show()\n",
    "    my_image.save(\"./Tableau/result\"+str(i)+\".jpg\")"
   ]
  },
  {
   "cell_type": "code",
   "execution_count": 91,
   "id": "083163ba",
   "metadata": {},
   "outputs": [],
   "source": [
    "# Creating multiple images using names and ids \n",
    "names = {'Ramkumar Eetakota':'IN20001','Srija Sunkara':'IN20002','Swarupa Perumalla':'IN20003','Akhila Vaddamani':'IN20004','Nagamalleswararao':'IN20005'}\n",
    "for i in names:\n",
    "    my_image = Image.open(\"Internship_Sample_Certificate.jpg\")\n",
    "    title_font = ImageFont.truetype(r'C:\\Users\\DELL\\Downloads\\ITCEDSCR.TTF', 120)\n",
    "    title_font1 = ImageFont.truetype(r'C:\\Users\\DELL\\Downloads\\BKANT.TTF', 50)\n",
    "    title_text = str(i)\n",
    "    text_id = names[i]\n",
    "    image_editable = ImageDraw.Draw(my_image)\n",
    "    image_editable.text((810,840), title_text, (235, 52, 52), font=title_font)\n",
    "    image_editable.text((350,1435), text_id, (13, 12, 12), font=title_font1)\n",
    "    #my_image.show()\n",
    "    my_image.save(\"./Tableau/\"+str(i)+\".jpg\")"
   ]
  },
  {
   "cell_type": "code",
   "execution_count": 89,
   "id": "07cf9fb9",
   "metadata": {},
   "outputs": [],
   "source": [
    "# Creating single image using name and id \n",
    "my_image = Image.open(\"Internship_Sample_Certificate.jpg\")\n",
    "title_font = ImageFont.truetype(r'C:\\Users\\DELL\\Downloads\\ITCEDSCR.TTF', 120)\n",
    "title_font1 = ImageFont.truetype(r'C:\\Users\\DELL\\Downloads\\BKANT.TTF', 50)\n",
    "title_text = \"Pawan Kalyan\"\n",
    "text_id = 'IN20001'\n",
    "image_editable = ImageDraw.Draw(my_image)\n",
    "image_editable.text((810,840), title_text, (235, 52, 52), font=title_font)\n",
    "image_editable.text((350,1435), text_id, (13, 12, 12), font=title_font1)\n",
    "my_image.show()\n",
    "my_image.save(\"result.jpg\")"
   ]
  },
  {
   "cell_type": "code",
   "execution_count": 93,
   "id": "2aee7cad",
   "metadata": {},
   "outputs": [
    {
     "name": "stdout",
     "output_type": "stream",
     "text": [
      "IN20001\n",
      "IN20002\n",
      "IN20003\n",
      "IN20004\n",
      "IN20005\n"
     ]
    }
   ],
   "source": [
    "names = {'Ramkumar Eetakota':'IN20001','Srija Sunkara':'IN20002','Swarupa Perumalla':'IN20003','Akhila Vaddamani':'IN20004','Nagamalleswararao':'IN20005'}\n",
    "for i in names.keys():\n",
    "    print(names[i])"
   ]
  },
  {
   "cell_type": "code",
   "execution_count": 96,
   "id": "72ee692f",
   "metadata": {},
   "outputs": [],
   "source": [
    "import pandas as pd\n",
    "df = pd.DataFrame({'names':names.keys(),\n",
    "                 'id':names.values()})"
   ]
  },
  {
   "cell_type": "code",
   "execution_count": 97,
   "id": "6c6b4356",
   "metadata": {},
   "outputs": [
    {
     "data": {
      "text/html": [
       "<div>\n",
       "<style scoped>\n",
       "    .dataframe tbody tr th:only-of-type {\n",
       "        vertical-align: middle;\n",
       "    }\n",
       "\n",
       "    .dataframe tbody tr th {\n",
       "        vertical-align: top;\n",
       "    }\n",
       "\n",
       "    .dataframe thead th {\n",
       "        text-align: right;\n",
       "    }\n",
       "</style>\n",
       "<table border=\"1\" class=\"dataframe\">\n",
       "  <thead>\n",
       "    <tr style=\"text-align: right;\">\n",
       "      <th></th>\n",
       "      <th>names</th>\n",
       "      <th>id</th>\n",
       "    </tr>\n",
       "  </thead>\n",
       "  <tbody>\n",
       "    <tr>\n",
       "      <th>0</th>\n",
       "      <td>Ramkumar Eetakota</td>\n",
       "      <td>IN20001</td>\n",
       "    </tr>\n",
       "    <tr>\n",
       "      <th>1</th>\n",
       "      <td>Srija Sunkara</td>\n",
       "      <td>IN20002</td>\n",
       "    </tr>\n",
       "    <tr>\n",
       "      <th>2</th>\n",
       "      <td>Swarupa Perumalla</td>\n",
       "      <td>IN20003</td>\n",
       "    </tr>\n",
       "    <tr>\n",
       "      <th>3</th>\n",
       "      <td>Akhila Vaddamani</td>\n",
       "      <td>IN20004</td>\n",
       "    </tr>\n",
       "    <tr>\n",
       "      <th>4</th>\n",
       "      <td>Nagamalleswararao</td>\n",
       "      <td>IN20005</td>\n",
       "    </tr>\n",
       "  </tbody>\n",
       "</table>\n",
       "</div>"
      ],
      "text/plain": [
       "               names       id\n",
       "0  Ramkumar Eetakota  IN20001\n",
       "1      Srija Sunkara  IN20002\n",
       "2  Swarupa Perumalla  IN20003\n",
       "3   Akhila Vaddamani  IN20004\n",
       "4  Nagamalleswararao  IN20005"
      ]
     },
     "execution_count": 97,
     "metadata": {},
     "output_type": "execute_result"
    }
   ],
   "source": [
    "df"
   ]
  },
  {
   "cell_type": "code",
   "execution_count": 100,
   "id": "a57c7867",
   "metadata": {},
   "outputs": [
    {
     "data": {
      "text/plain": [
       "{'Ramkumar Eetakota': 'IN20001',\n",
       " 'Srija Sunkara': 'IN20002',\n",
       " 'Swarupa Perumalla': 'IN20003',\n",
       " 'Akhila Vaddamani': 'IN20004',\n",
       " 'Nagamalleswararao': 'IN20005'}"
      ]
     },
     "execution_count": 100,
     "metadata": {},
     "output_type": "execute_result"
    }
   ],
   "source": [
    "#Converting dataframe into dictionary\n",
    "dict(zip(df.names, df.id))"
   ]
  },
  {
   "cell_type": "code",
   "execution_count": null,
   "id": "a30add47",
   "metadata": {},
   "outputs": [],
   "source": []
  }
 ],
 "metadata": {
  "kernelspec": {
   "display_name": "Python 3",
   "language": "python",
   "name": "python3"
  },
  "language_info": {
   "codemirror_mode": {
    "name": "ipython",
    "version": 3
   },
   "file_extension": ".py",
   "mimetype": "text/x-python",
   "name": "python",
   "nbconvert_exporter": "python",
   "pygments_lexer": "ipython3",
   "version": "3.8.8"
  }
 },
 "nbformat": 4,
 "nbformat_minor": 5
}
