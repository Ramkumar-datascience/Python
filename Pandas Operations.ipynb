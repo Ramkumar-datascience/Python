{
 "cells": [
  {
   "cell_type": "code",
   "execution_count": 34,
   "metadata": {},
   "outputs": [],
   "source": [
    "import pandas as pd\n",
    "#names = ['first','last','mail','time','status','phone','min','min2','enrolled','handleby','unnamed']\n",
    "df_reg = pd.read_csv(r\"C:\\Users\\Kanav\\Downloads\\reg1.csv\")\n",
    "df_att = pd.read_csv(r\"C:\\Users\\Kanav\\Downloads\\att1.csv\")"
   ]
  },
  {
   "cell_type": "code",
   "execution_count": 35,
   "metadata": {},
   "outputs": [
    {
     "data": {
      "text/html": [
       "<div>\n",
       "<style scoped>\n",
       "    .dataframe tbody tr th:only-of-type {\n",
       "        vertical-align: middle;\n",
       "    }\n",
       "\n",
       "    .dataframe tbody tr th {\n",
       "        vertical-align: top;\n",
       "    }\n",
       "\n",
       "    .dataframe thead th {\n",
       "        text-align: right;\n",
       "    }\n",
       "</style>\n",
       "<table border=\"1\" class=\"dataframe\">\n",
       "  <thead>\n",
       "    <tr style=\"text-align: right;\">\n",
       "      <th></th>\n",
       "      <th>Name (Original Name)</th>\n",
       "      <th>User Email</th>\n",
       "      <th>Join Time</th>\n",
       "      <th>Leave Time</th>\n",
       "      <th>Duration (Minutes)</th>\n",
       "      <th>Guest</th>\n",
       "      <th>Recording Consent</th>\n",
       "    </tr>\n",
       "  </thead>\n",
       "  <tbody>\n",
       "    <tr>\n",
       "      <th>0</th>\n",
       "      <td>Innomatics Research Labs</td>\n",
       "      <td>info@innomatics.in</td>\n",
       "      <td>12/04/2021 10:55:14 AM</td>\n",
       "      <td>12/04/2021 01:08:11 PM</td>\n",
       "      <td>133</td>\n",
       "      <td>No</td>\n",
       "      <td>Y</td>\n",
       "    </tr>\n",
       "    <tr>\n",
       "      <th>1</th>\n",
       "      <td>Daya anandh</td>\n",
       "      <td>csree8@gmail.com</td>\n",
       "      <td>12/04/2021 10:55:18 AM</td>\n",
       "      <td>12/04/2021 01:08:10 PM</td>\n",
       "      <td>133</td>\n",
       "      <td>Yes</td>\n",
       "      <td>Y</td>\n",
       "    </tr>\n",
       "    <tr>\n",
       "      <th>2</th>\n",
       "      <td>Hari Kiran V G</td>\n",
       "      <td>iamharikiran2001@gmail.com</td>\n",
       "      <td>12/04/2021 10:55:24 AM</td>\n",
       "      <td>12/04/2021 11:46:55 AM</td>\n",
       "      <td>52</td>\n",
       "      <td>Yes</td>\n",
       "      <td>Y</td>\n",
       "    </tr>\n",
       "    <tr>\n",
       "      <th>3</th>\n",
       "      <td>Nagalaxmi Vinjamooti</td>\n",
       "      <td>nagalaxmi.v438@gmail.com</td>\n",
       "      <td>12/04/2021 10:55:25 AM</td>\n",
       "      <td>12/04/2021 11:25:22 AM</td>\n",
       "      <td>30</td>\n",
       "      <td>Yes</td>\n",
       "      <td>Y</td>\n",
       "    </tr>\n",
       "    <tr>\n",
       "      <th>4</th>\n",
       "      <td>Vaibhav Thakre</td>\n",
       "      <td>vaibhav_thakare@rediffmail.com</td>\n",
       "      <td>12/04/2021 10:55:25 AM</td>\n",
       "      <td>12/04/2021 01:08:01 PM</td>\n",
       "      <td>133</td>\n",
       "      <td>Yes</td>\n",
       "      <td>Y</td>\n",
       "    </tr>\n",
       "  </tbody>\n",
       "</table>\n",
       "</div>"
      ],
      "text/plain": [
       "       Name (Original Name)                      User Email  \\\n",
       "0  Innomatics Research Labs              info@innomatics.in   \n",
       "1               Daya anandh                csree8@gmail.com   \n",
       "2            Hari Kiran V G      iamharikiran2001@gmail.com   \n",
       "3      Nagalaxmi Vinjamooti        nagalaxmi.v438@gmail.com   \n",
       "4            Vaibhav Thakre  vaibhav_thakare@rediffmail.com   \n",
       "\n",
       "                Join Time              Leave Time  Duration (Minutes) Guest  \\\n",
       "0  12/04/2021 10:55:14 AM  12/04/2021 01:08:11 PM                 133    No   \n",
       "1  12/04/2021 10:55:18 AM  12/04/2021 01:08:10 PM                 133   Yes   \n",
       "2  12/04/2021 10:55:24 AM  12/04/2021 11:46:55 AM                  52   Yes   \n",
       "3  12/04/2021 10:55:25 AM  12/04/2021 11:25:22 AM                  30   Yes   \n",
       "4  12/04/2021 10:55:25 AM  12/04/2021 01:08:01 PM                 133   Yes   \n",
       "\n",
       "  Recording Consent  \n",
       "0                 Y  \n",
       "1                 Y  \n",
       "2                 Y  \n",
       "3                 Y  \n",
       "4                 Y  "
      ]
     },
     "execution_count": 35,
     "metadata": {},
     "output_type": "execute_result"
    }
   ],
   "source": [
    "df_att.head()"
   ]
  },
  {
   "cell_type": "code",
   "execution_count": 36,
   "metadata": {},
   "outputs": [
    {
     "data": {
      "text/plain": [
       "(121, 7)"
      ]
     },
     "execution_count": 36,
     "metadata": {},
     "output_type": "execute_result"
    }
   ],
   "source": [
    "df_att.shape"
   ]
  },
  {
   "cell_type": "code",
   "execution_count": 37,
   "metadata": {},
   "outputs": [
    {
     "data": {
      "text/html": [
       "<div>\n",
       "<style scoped>\n",
       "    .dataframe tbody tr th:only-of-type {\n",
       "        vertical-align: middle;\n",
       "    }\n",
       "\n",
       "    .dataframe tbody tr th {\n",
       "        vertical-align: top;\n",
       "    }\n",
       "\n",
       "    .dataframe thead th {\n",
       "        text-align: right;\n",
       "    }\n",
       "</style>\n",
       "<table border=\"1\" class=\"dataframe\">\n",
       "  <thead>\n",
       "    <tr style=\"text-align: right;\">\n",
       "      <th></th>\n",
       "      <th>First Name</th>\n",
       "      <th>Last Name</th>\n",
       "      <th>User Email</th>\n",
       "      <th>Registration Time</th>\n",
       "      <th>Approval Status</th>\n",
       "      <th>Phone</th>\n",
       "    </tr>\n",
       "  </thead>\n",
       "  <tbody>\n",
       "    <tr>\n",
       "      <th>0</th>\n",
       "      <td>Jayashree</td>\n",
       "      <td>Hire</td>\n",
       "      <td>jayuhire24@gmail.com</td>\n",
       "      <td>03-12-2021 18:25</td>\n",
       "      <td>approved</td>\n",
       "      <td>7058136044</td>\n",
       "    </tr>\n",
       "    <tr>\n",
       "      <th>1</th>\n",
       "      <td>Pranay</td>\n",
       "      <td>Manepally</td>\n",
       "      <td>manepallypranay98@gmail.com</td>\n",
       "      <td>04-12-2021 11:00</td>\n",
       "      <td>approved</td>\n",
       "      <td>9959623900</td>\n",
       "    </tr>\n",
       "    <tr>\n",
       "      <th>2</th>\n",
       "      <td>Sudarsana</td>\n",
       "      <td>Narravula</td>\n",
       "      <td>sudarsananarravula@gmail.com</td>\n",
       "      <td>03-12-2021 21:23</td>\n",
       "      <td>approved</td>\n",
       "      <td>7989408487</td>\n",
       "    </tr>\n",
       "    <tr>\n",
       "      <th>3</th>\n",
       "      <td>RUPALI</td>\n",
       "      <td>RATHOD</td>\n",
       "      <td>Rupalirathod10@gmail.com</td>\n",
       "      <td>03-12-2021 21:25</td>\n",
       "      <td>approved</td>\n",
       "      <td>7841844494</td>\n",
       "    </tr>\n",
       "    <tr>\n",
       "      <th>4</th>\n",
       "      <td>sanu</td>\n",
       "      <td>kumar</td>\n",
       "      <td>sanuk0399@gmail.com</td>\n",
       "      <td>04-12-2021 11:31</td>\n",
       "      <td>approved</td>\n",
       "      <td>8709883756</td>\n",
       "    </tr>\n",
       "  </tbody>\n",
       "</table>\n",
       "</div>"
      ],
      "text/plain": [
       "  First Name  Last Name                    User Email Registration Time  \\\n",
       "0  Jayashree       Hire          jayuhire24@gmail.com  03-12-2021 18:25   \n",
       "1     Pranay  Manepally   manepallypranay98@gmail.com  04-12-2021 11:00   \n",
       "2  Sudarsana  Narravula  sudarsananarravula@gmail.com  03-12-2021 21:23   \n",
       "3     RUPALI     RATHOD      Rupalirathod10@gmail.com  03-12-2021 21:25   \n",
       "4       sanu      kumar           sanuk0399@gmail.com  04-12-2021 11:31   \n",
       "\n",
       "  Approval Status       Phone  \n",
       "0        approved  7058136044  \n",
       "1        approved  9959623900  \n",
       "2        approved  7989408487  \n",
       "3        approved  7841844494  \n",
       "4        approved  8709883756  "
      ]
     },
     "execution_count": 37,
     "metadata": {},
     "output_type": "execute_result"
    }
   ],
   "source": [
    "df_reg.head()"
   ]
  },
  {
   "cell_type": "code",
   "execution_count": 38,
   "metadata": {},
   "outputs": [
    {
     "data": {
      "text/plain": [
       "(143, 6)"
      ]
     },
     "execution_count": 38,
     "metadata": {},
     "output_type": "execute_result"
    }
   ],
   "source": [
    "df_reg.shape"
   ]
  },
  {
   "cell_type": "code",
   "execution_count": 39,
   "metadata": {},
   "outputs": [],
   "source": [
    "#df.drop_duplicates(subset=\"User Email\")"
   ]
  },
  {
   "cell_type": "code",
   "execution_count": 40,
   "metadata": {},
   "outputs": [],
   "source": [
    "#df[df.duplicated('User Email',keep = 'last')][-20:]"
   ]
  },
  {
   "cell_type": "code",
   "execution_count": 41,
   "metadata": {},
   "outputs": [],
   "source": [
    "df_duplicate = df_att[df_att['User Email'].map(df_att['User Email'].value_counts())> 1]\n",
    "df_unique = df_att[df_att['User Email'].map(df_att['User Email'].value_counts())== 1]"
   ]
  },
  {
   "cell_type": "code",
   "execution_count": 42,
   "metadata": {},
   "outputs": [
    {
     "name": "stdout",
     "output_type": "stream",
     "text": [
      "<class 'pandas.core.frame.DataFrame'>\n",
      "Int64Index: 76 entries, 3 to 120\n",
      "Data columns (total 7 columns):\n",
      " #   Column                Non-Null Count  Dtype \n",
      "---  ------                --------------  ----- \n",
      " 0   Name (Original Name)  76 non-null     object\n",
      " 1   User Email            76 non-null     object\n",
      " 2   Join Time             76 non-null     object\n",
      " 3   Leave Time            76 non-null     object\n",
      " 4   Duration (Minutes)    76 non-null     int64 \n",
      " 5   Guest                 76 non-null     object\n",
      " 6   Recording Consent     48 non-null     object\n",
      "dtypes: int64(1), object(6)\n",
      "memory usage: 4.8+ KB\n"
     ]
    }
   ],
   "source": [
    "df_duplicate.info()"
   ]
  },
  {
   "cell_type": "code",
   "execution_count": 43,
   "metadata": {},
   "outputs": [
    {
     "data": {
      "text/html": [
       "<div>\n",
       "<style scoped>\n",
       "    .dataframe tbody tr th:only-of-type {\n",
       "        vertical-align: middle;\n",
       "    }\n",
       "\n",
       "    .dataframe tbody tr th {\n",
       "        vertical-align: top;\n",
       "    }\n",
       "\n",
       "    .dataframe thead th {\n",
       "        text-align: right;\n",
       "    }\n",
       "</style>\n",
       "<table border=\"1\" class=\"dataframe\">\n",
       "  <thead>\n",
       "    <tr style=\"text-align: right;\">\n",
       "      <th></th>\n",
       "      <th>Duration (Minutes)</th>\n",
       "    </tr>\n",
       "    <tr>\n",
       "      <th>User Email</th>\n",
       "      <th></th>\n",
       "    </tr>\n",
       "  </thead>\n",
       "  <tbody>\n",
       "    <tr>\n",
       "      <th>143aashishyadav@gmail.com</th>\n",
       "      <td>4</td>\n",
       "    </tr>\n",
       "    <tr>\n",
       "      <th>abhijeetpatil0902@gmail.com</th>\n",
       "      <td>110</td>\n",
       "    </tr>\n",
       "    <tr>\n",
       "      <th>arjun.arjunnagpal@gmail.com</th>\n",
       "      <td>29</td>\n",
       "    </tr>\n",
       "    <tr>\n",
       "      <th>bvspr1065@gmail.com</th>\n",
       "      <td>127</td>\n",
       "    </tr>\n",
       "    <tr>\n",
       "      <th>cadetshafi47@gmail.com</th>\n",
       "      <td>216</td>\n",
       "    </tr>\n",
       "    <tr>\n",
       "      <th>chapaacharjee3444@gmail.com</th>\n",
       "      <td>125</td>\n",
       "    </tr>\n",
       "    <tr>\n",
       "      <th>dadaladheeraj124@gmail.com</th>\n",
       "      <td>94</td>\n",
       "    </tr>\n",
       "    <tr>\n",
       "      <th>dhanya.nitte@gmail.com</th>\n",
       "      <td>232</td>\n",
       "    </tr>\n",
       "    <tr>\n",
       "      <th>irfanhyd96@gmail.com</th>\n",
       "      <td>20</td>\n",
       "    </tr>\n",
       "    <tr>\n",
       "      <th>kashyapnitishkn@gmail.com</th>\n",
       "      <td>115</td>\n",
       "    </tr>\n",
       "    <tr>\n",
       "      <th>lekhaprajapati26@gmail.com</th>\n",
       "      <td>107</td>\n",
       "    </tr>\n",
       "    <tr>\n",
       "      <th>manepallypranay98@gmail.com</th>\n",
       "      <td>127</td>\n",
       "    </tr>\n",
       "    <tr>\n",
       "      <th>manojpappula@gmail.com</th>\n",
       "      <td>59</td>\n",
       "    </tr>\n",
       "    <tr>\n",
       "      <th>mounikamudavath031@gmail.com</th>\n",
       "      <td>21</td>\n",
       "    </tr>\n",
       "    <tr>\n",
       "      <th>nagalaxmi.v438@gmail.com</th>\n",
       "      <td>114</td>\n",
       "    </tr>\n",
       "    <tr>\n",
       "      <th>phanimsba@gmail.com</th>\n",
       "      <td>130</td>\n",
       "    </tr>\n",
       "    <tr>\n",
       "      <th>raghav4ds@gmail.com</th>\n",
       "      <td>122</td>\n",
       "    </tr>\n",
       "    <tr>\n",
       "      <th>rajeshwariadike07@gmail.com</th>\n",
       "      <td>129</td>\n",
       "    </tr>\n",
       "    <tr>\n",
       "      <th>rishiagrawal23.08.2001@gmail.com</th>\n",
       "      <td>20</td>\n",
       "    </tr>\n",
       "    <tr>\n",
       "      <th>rithesh3125@gmail.com</th>\n",
       "      <td>82</td>\n",
       "    </tr>\n",
       "    <tr>\n",
       "      <th>shipra.sarwada1995@gmail.com</th>\n",
       "      <td>133</td>\n",
       "    </tr>\n",
       "    <tr>\n",
       "      <th>swethakori779@gmail.com</th>\n",
       "      <td>64</td>\n",
       "    </tr>\n",
       "    <tr>\n",
       "      <th>vaishnavimodhugu@gmail.com</th>\n",
       "      <td>34</td>\n",
       "    </tr>\n",
       "    <tr>\n",
       "      <th>vharishreddy.88@gmail.com</th>\n",
       "      <td>40</td>\n",
       "    </tr>\n",
       "    <tr>\n",
       "      <th>vuppalavishnu8@gmail.com</th>\n",
       "      <td>87</td>\n",
       "    </tr>\n",
       "  </tbody>\n",
       "</table>\n",
       "</div>"
      ],
      "text/plain": [
       "                                  Duration (Minutes)\n",
       "User Email                                          \n",
       "143aashishyadav@gmail.com                          4\n",
       "abhijeetpatil0902@gmail.com                      110\n",
       "arjun.arjunnagpal@gmail.com                       29\n",
       "bvspr1065@gmail.com                              127\n",
       "cadetshafi47@gmail.com                           216\n",
       "chapaacharjee3444@gmail.com                      125\n",
       "dadaladheeraj124@gmail.com                        94\n",
       "dhanya.nitte@gmail.com                           232\n",
       "irfanhyd96@gmail.com                              20\n",
       "kashyapnitishkn@gmail.com                        115\n",
       "lekhaprajapati26@gmail.com                       107\n",
       "manepallypranay98@gmail.com                      127\n",
       "manojpappula@gmail.com                            59\n",
       "mounikamudavath031@gmail.com                      21\n",
       "nagalaxmi.v438@gmail.com                         114\n",
       "phanimsba@gmail.com                              130\n",
       "raghav4ds@gmail.com                              122\n",
       "rajeshwariadike07@gmail.com                      129\n",
       "rishiagrawal23.08.2001@gmail.com                  20\n",
       "rithesh3125@gmail.com                             82\n",
       "shipra.sarwada1995@gmail.com                     133\n",
       "swethakori779@gmail.com                           64\n",
       "vaishnavimodhugu@gmail.com                        34\n",
       "vharishreddy.88@gmail.com                         40\n",
       "vuppalavishnu8@gmail.com                          87"
      ]
     },
     "execution_count": 43,
     "metadata": {},
     "output_type": "execute_result"
    }
   ],
   "source": [
    "a = df_duplicate.groupby(['User Email']).sum()\n",
    "b = df_unique.groupby('User Email').sum()\n",
    "a"
   ]
  },
  {
   "cell_type": "code",
   "execution_count": 44,
   "metadata": {},
   "outputs": [],
   "source": [
    "df1 = pd.concat([a,b],axis=0)\n",
    "df1 = df1.reset_index()"
   ]
  },
  {
   "cell_type": "code",
   "execution_count": 45,
   "metadata": {},
   "outputs": [
    {
     "data": {
      "text/html": [
       "<div>\n",
       "<style scoped>\n",
       "    .dataframe tbody tr th:only-of-type {\n",
       "        vertical-align: middle;\n",
       "    }\n",
       "\n",
       "    .dataframe tbody tr th {\n",
       "        vertical-align: top;\n",
       "    }\n",
       "\n",
       "    .dataframe thead th {\n",
       "        text-align: right;\n",
       "    }\n",
       "</style>\n",
       "<table border=\"1\" class=\"dataframe\">\n",
       "  <thead>\n",
       "    <tr style=\"text-align: right;\">\n",
       "      <th></th>\n",
       "      <th>User Email</th>\n",
       "      <th>Duration (Minutes)</th>\n",
       "    </tr>\n",
       "  </thead>\n",
       "  <tbody>\n",
       "    <tr>\n",
       "      <th>0</th>\n",
       "      <td>143aashishyadav@gmail.com</td>\n",
       "      <td>4</td>\n",
       "    </tr>\n",
       "    <tr>\n",
       "      <th>1</th>\n",
       "      <td>abhijeetpatil0902@gmail.com</td>\n",
       "      <td>110</td>\n",
       "    </tr>\n",
       "    <tr>\n",
       "      <th>2</th>\n",
       "      <td>arjun.arjunnagpal@gmail.com</td>\n",
       "      <td>29</td>\n",
       "    </tr>\n",
       "    <tr>\n",
       "      <th>3</th>\n",
       "      <td>bvspr1065@gmail.com</td>\n",
       "      <td>127</td>\n",
       "    </tr>\n",
       "    <tr>\n",
       "      <th>4</th>\n",
       "      <td>cadetshafi47@gmail.com</td>\n",
       "      <td>216</td>\n",
       "    </tr>\n",
       "    <tr>\n",
       "      <th>...</th>\n",
       "      <td>...</td>\n",
       "      <td>...</td>\n",
       "    </tr>\n",
       "    <tr>\n",
       "      <th>65</th>\n",
       "      <td>susmitaadhikary837@gmail.com</td>\n",
       "      <td>17</td>\n",
       "    </tr>\n",
       "    <tr>\n",
       "      <th>66</th>\n",
       "      <td>tim85.jt@gmail.com</td>\n",
       "      <td>3</td>\n",
       "    </tr>\n",
       "    <tr>\n",
       "      <th>67</th>\n",
       "      <td>vaibhav_thakare@rediffmail.com</td>\n",
       "      <td>133</td>\n",
       "    </tr>\n",
       "    <tr>\n",
       "      <th>68</th>\n",
       "      <td>vshashi120@gmail.com</td>\n",
       "      <td>92</td>\n",
       "    </tr>\n",
       "    <tr>\n",
       "      <th>69</th>\n",
       "      <td>yashwanthallwar10@gmail.com</td>\n",
       "      <td>4</td>\n",
       "    </tr>\n",
       "  </tbody>\n",
       "</table>\n",
       "<p>70 rows × 2 columns</p>\n",
       "</div>"
      ],
      "text/plain": [
       "                        User Email  Duration (Minutes)\n",
       "0        143aashishyadav@gmail.com                   4\n",
       "1      abhijeetpatil0902@gmail.com                 110\n",
       "2      arjun.arjunnagpal@gmail.com                  29\n",
       "3              bvspr1065@gmail.com                 127\n",
       "4           cadetshafi47@gmail.com                 216\n",
       "..                             ...                 ...\n",
       "65    susmitaadhikary837@gmail.com                  17\n",
       "66              tim85.jt@gmail.com                   3\n",
       "67  vaibhav_thakare@rediffmail.com                 133\n",
       "68            vshashi120@gmail.com                  92\n",
       "69     yashwanthallwar10@gmail.com                   4\n",
       "\n",
       "[70 rows x 2 columns]"
      ]
     },
     "execution_count": 45,
     "metadata": {},
     "output_type": "execute_result"
    }
   ],
   "source": [
    "df1"
   ]
  },
  {
   "cell_type": "code",
   "execution_count": 46,
   "metadata": {},
   "outputs": [],
   "source": [
    "df2 = pd.merge(df1, df_att, on=['User Email'], how='left')\n",
    "final = df2.drop_duplicates(subset=\"User Email\")"
   ]
  },
  {
   "cell_type": "code",
   "execution_count": 47,
   "metadata": {},
   "outputs": [],
   "source": [
    "final = final.reset_index()\n"
   ]
  },
  {
   "cell_type": "code",
   "execution_count": 48,
   "metadata": {},
   "outputs": [],
   "source": [
    "final = final.drop('index',axis=1)"
   ]
  },
  {
   "cell_type": "code",
   "execution_count": 49,
   "metadata": {},
   "outputs": [
    {
     "data": {
      "text/html": [
       "<div>\n",
       "<style scoped>\n",
       "    .dataframe tbody tr th:only-of-type {\n",
       "        vertical-align: middle;\n",
       "    }\n",
       "\n",
       "    .dataframe tbody tr th {\n",
       "        vertical-align: top;\n",
       "    }\n",
       "\n",
       "    .dataframe thead th {\n",
       "        text-align: right;\n",
       "    }\n",
       "</style>\n",
       "<table border=\"1\" class=\"dataframe\">\n",
       "  <thead>\n",
       "    <tr style=\"text-align: right;\">\n",
       "      <th></th>\n",
       "      <th>User Email</th>\n",
       "      <th>Duration (Minutes)_x</th>\n",
       "      <th>Name (Original Name)</th>\n",
       "      <th>Join Time</th>\n",
       "      <th>Leave Time</th>\n",
       "      <th>Duration (Minutes)_y</th>\n",
       "      <th>Guest</th>\n",
       "      <th>Recording Consent</th>\n",
       "    </tr>\n",
       "  </thead>\n",
       "  <tbody>\n",
       "    <tr>\n",
       "      <th>0</th>\n",
       "      <td>143aashishyadav@gmail.com</td>\n",
       "      <td>4</td>\n",
       "      <td>Aashish Yadav</td>\n",
       "      <td>12/04/2021 11:33:33 AM</td>\n",
       "      <td>12/04/2021 11:35:14 AM</td>\n",
       "      <td>2</td>\n",
       "      <td>Yes</td>\n",
       "      <td>Y</td>\n",
       "    </tr>\n",
       "    <tr>\n",
       "      <th>1</th>\n",
       "      <td>abhijeetpatil0902@gmail.com</td>\n",
       "      <td>110</td>\n",
       "      <td>Abhijeet Patil</td>\n",
       "      <td>12/04/2021 11:09:23 AM</td>\n",
       "      <td>12/04/2021 11:57:26 AM</td>\n",
       "      <td>49</td>\n",
       "      <td>Yes</td>\n",
       "      <td>Y</td>\n",
       "    </tr>\n",
       "    <tr>\n",
       "      <th>2</th>\n",
       "      <td>arjun.arjunnagpal@gmail.com</td>\n",
       "      <td>29</td>\n",
       "      <td>ARJUN NAGPAL</td>\n",
       "      <td>12/04/2021 11:03:10 AM</td>\n",
       "      <td>12/04/2021 11:03:19 AM</td>\n",
       "      <td>1</td>\n",
       "      <td>Yes</td>\n",
       "      <td>Y</td>\n",
       "    </tr>\n",
       "    <tr>\n",
       "      <th>3</th>\n",
       "      <td>bvspr1065@gmail.com</td>\n",
       "      <td>127</td>\n",
       "      <td>Sai Praneeth Bommireddy</td>\n",
       "      <td>12/04/2021 10:57:39 AM</td>\n",
       "      <td>12/04/2021 10:58:50 AM</td>\n",
       "      <td>2</td>\n",
       "      <td>Yes</td>\n",
       "      <td>Y</td>\n",
       "    </tr>\n",
       "    <tr>\n",
       "      <th>4</th>\n",
       "      <td>cadetshafi47@gmail.com</td>\n",
       "      <td>216</td>\n",
       "      <td>Sathwik Syed</td>\n",
       "      <td>12/04/2021 10:56:25 AM</td>\n",
       "      <td>12/04/2021 11:04:33 AM</td>\n",
       "      <td>9</td>\n",
       "      <td>Yes</td>\n",
       "      <td>Y</td>\n",
       "    </tr>\n",
       "    <tr>\n",
       "      <th>...</th>\n",
       "      <td>...</td>\n",
       "      <td>...</td>\n",
       "      <td>...</td>\n",
       "      <td>...</td>\n",
       "      <td>...</td>\n",
       "      <td>...</td>\n",
       "      <td>...</td>\n",
       "      <td>...</td>\n",
       "    </tr>\n",
       "    <tr>\n",
       "      <th>65</th>\n",
       "      <td>susmitaadhikary837@gmail.com</td>\n",
       "      <td>17</td>\n",
       "      <td>Susmita Adhikary</td>\n",
       "      <td>12/04/2021 11:50:55 AM</td>\n",
       "      <td>12/04/2021 12:07:51 PM</td>\n",
       "      <td>17</td>\n",
       "      <td>Yes</td>\n",
       "      <td>Y</td>\n",
       "    </tr>\n",
       "    <tr>\n",
       "      <th>66</th>\n",
       "      <td>tim85.jt@gmail.com</td>\n",
       "      <td>3</td>\n",
       "      <td>John Timothy</td>\n",
       "      <td>12/04/2021 12:28:50 PM</td>\n",
       "      <td>12/04/2021 12:31:41 PM</td>\n",
       "      <td>3</td>\n",
       "      <td>Yes</td>\n",
       "      <td>Y</td>\n",
       "    </tr>\n",
       "    <tr>\n",
       "      <th>67</th>\n",
       "      <td>vaibhav_thakare@rediffmail.com</td>\n",
       "      <td>133</td>\n",
       "      <td>Vaibhav Thakre</td>\n",
       "      <td>12/04/2021 10:55:25 AM</td>\n",
       "      <td>12/04/2021 01:08:01 PM</td>\n",
       "      <td>133</td>\n",
       "      <td>Yes</td>\n",
       "      <td>Y</td>\n",
       "    </tr>\n",
       "    <tr>\n",
       "      <th>68</th>\n",
       "      <td>vshashi120@gmail.com</td>\n",
       "      <td>92</td>\n",
       "      <td>Shashi Verma</td>\n",
       "      <td>12/04/2021 10:57:59 AM</td>\n",
       "      <td>12/04/2021 12:29:35 PM</td>\n",
       "      <td>92</td>\n",
       "      <td>Yes</td>\n",
       "      <td>Y</td>\n",
       "    </tr>\n",
       "    <tr>\n",
       "      <th>69</th>\n",
       "      <td>yashwanthallwar10@gmail.com</td>\n",
       "      <td>4</td>\n",
       "      <td>Yashwanth Allwar</td>\n",
       "      <td>12/04/2021 11:20:23 AM</td>\n",
       "      <td>12/04/2021 11:23:29 AM</td>\n",
       "      <td>4</td>\n",
       "      <td>Yes</td>\n",
       "      <td>Y</td>\n",
       "    </tr>\n",
       "  </tbody>\n",
       "</table>\n",
       "<p>70 rows × 8 columns</p>\n",
       "</div>"
      ],
      "text/plain": [
       "                        User Email  Duration (Minutes)_x  \\\n",
       "0        143aashishyadav@gmail.com                     4   \n",
       "1      abhijeetpatil0902@gmail.com                   110   \n",
       "2      arjun.arjunnagpal@gmail.com                    29   \n",
       "3              bvspr1065@gmail.com                   127   \n",
       "4           cadetshafi47@gmail.com                   216   \n",
       "..                             ...                   ...   \n",
       "65    susmitaadhikary837@gmail.com                    17   \n",
       "66              tim85.jt@gmail.com                     3   \n",
       "67  vaibhav_thakare@rediffmail.com                   133   \n",
       "68            vshashi120@gmail.com                    92   \n",
       "69     yashwanthallwar10@gmail.com                     4   \n",
       "\n",
       "       Name (Original Name)               Join Time              Leave Time  \\\n",
       "0             Aashish Yadav  12/04/2021 11:33:33 AM  12/04/2021 11:35:14 AM   \n",
       "1            Abhijeet Patil  12/04/2021 11:09:23 AM  12/04/2021 11:57:26 AM   \n",
       "2              ARJUN NAGPAL  12/04/2021 11:03:10 AM  12/04/2021 11:03:19 AM   \n",
       "3   Sai Praneeth Bommireddy  12/04/2021 10:57:39 AM  12/04/2021 10:58:50 AM   \n",
       "4              Sathwik Syed  12/04/2021 10:56:25 AM  12/04/2021 11:04:33 AM   \n",
       "..                      ...                     ...                     ...   \n",
       "65         Susmita Adhikary  12/04/2021 11:50:55 AM  12/04/2021 12:07:51 PM   \n",
       "66             John Timothy  12/04/2021 12:28:50 PM  12/04/2021 12:31:41 PM   \n",
       "67           Vaibhav Thakre  12/04/2021 10:55:25 AM  12/04/2021 01:08:01 PM   \n",
       "68             Shashi Verma  12/04/2021 10:57:59 AM  12/04/2021 12:29:35 PM   \n",
       "69         Yashwanth Allwar  12/04/2021 11:20:23 AM  12/04/2021 11:23:29 AM   \n",
       "\n",
       "    Duration (Minutes)_y Guest Recording Consent  \n",
       "0                      2   Yes                 Y  \n",
       "1                     49   Yes                 Y  \n",
       "2                      1   Yes                 Y  \n",
       "3                      2   Yes                 Y  \n",
       "4                      9   Yes                 Y  \n",
       "..                   ...   ...               ...  \n",
       "65                    17   Yes                 Y  \n",
       "66                     3   Yes                 Y  \n",
       "67                   133   Yes                 Y  \n",
       "68                    92   Yes                 Y  \n",
       "69                     4   Yes                 Y  \n",
       "\n",
       "[70 rows x 8 columns]"
      ]
     },
     "execution_count": 49,
     "metadata": {},
     "output_type": "execute_result"
    }
   ],
   "source": [
    "final"
   ]
  },
  {
   "cell_type": "code",
   "execution_count": 50,
   "metadata": {},
   "outputs": [],
   "source": [
    "#final.to_csv('Mainframes_final_list.csv')"
   ]
  },
  {
   "cell_type": "code",
   "execution_count": 51,
   "metadata": {},
   "outputs": [],
   "source": [
    "final['Percentage'] = [(i/final[\"Duration (Minutes)_x\"].max())*100 for i in final[\"Duration (Minutes)_x\"] ]"
   ]
  },
  {
   "cell_type": "code",
   "execution_count": 52,
   "metadata": {},
   "outputs": [
    {
     "name": "stdout",
     "output_type": "stream",
     "text": [
      "<class 'pandas.core.frame.DataFrame'>\n",
      "RangeIndex: 70 entries, 0 to 69\n",
      "Data columns (total 9 columns):\n",
      " #   Column                Non-Null Count  Dtype  \n",
      "---  ------                --------------  -----  \n",
      " 0   User Email            70 non-null     object \n",
      " 1   Duration (Minutes)_x  70 non-null     int64  \n",
      " 2   Name (Original Name)  70 non-null     object \n",
      " 3   Join Time             70 non-null     object \n",
      " 4   Leave Time            70 non-null     object \n",
      " 5   Duration (Minutes)_y  70 non-null     int64  \n",
      " 6   Guest                 70 non-null     object \n",
      " 7   Recording Consent     68 non-null     object \n",
      " 8   Percentage            70 non-null     float64\n",
      "dtypes: float64(1), int64(2), object(6)\n",
      "memory usage: 5.0+ KB\n"
     ]
    }
   ],
   "source": [
    "final.info()"
   ]
  },
  {
   "cell_type": "code",
   "execution_count": 53,
   "metadata": {},
   "outputs": [
    {
     "data": {
      "text/html": [
       "<div>\n",
       "<style scoped>\n",
       "    .dataframe tbody tr th:only-of-type {\n",
       "        vertical-align: middle;\n",
       "    }\n",
       "\n",
       "    .dataframe tbody tr th {\n",
       "        vertical-align: top;\n",
       "    }\n",
       "\n",
       "    .dataframe thead th {\n",
       "        text-align: right;\n",
       "    }\n",
       "</style>\n",
       "<table border=\"1\" class=\"dataframe\">\n",
       "  <thead>\n",
       "    <tr style=\"text-align: right;\">\n",
       "      <th></th>\n",
       "      <th>User Email</th>\n",
       "      <th>Duration (Minutes)_x</th>\n",
       "      <th>Name (Original Name)</th>\n",
       "      <th>Join Time</th>\n",
       "      <th>Leave Time</th>\n",
       "      <th>Duration (Minutes)_y</th>\n",
       "      <th>Guest</th>\n",
       "      <th>Recording Consent</th>\n",
       "      <th>Percentage</th>\n",
       "    </tr>\n",
       "  </thead>\n",
       "  <tbody>\n",
       "    <tr>\n",
       "      <th>0</th>\n",
       "      <td>143aashishyadav@gmail.com</td>\n",
       "      <td>4</td>\n",
       "      <td>Aashish Yadav</td>\n",
       "      <td>12/04/2021 11:33:33 AM</td>\n",
       "      <td>12/04/2021 11:35:14 AM</td>\n",
       "      <td>2</td>\n",
       "      <td>Yes</td>\n",
       "      <td>Y</td>\n",
       "      <td>1.724138</td>\n",
       "    </tr>\n",
       "    <tr>\n",
       "      <th>1</th>\n",
       "      <td>abhijeetpatil0902@gmail.com</td>\n",
       "      <td>110</td>\n",
       "      <td>Abhijeet Patil</td>\n",
       "      <td>12/04/2021 11:09:23 AM</td>\n",
       "      <td>12/04/2021 11:57:26 AM</td>\n",
       "      <td>49</td>\n",
       "      <td>Yes</td>\n",
       "      <td>Y</td>\n",
       "      <td>47.413793</td>\n",
       "    </tr>\n",
       "    <tr>\n",
       "      <th>2</th>\n",
       "      <td>arjun.arjunnagpal@gmail.com</td>\n",
       "      <td>29</td>\n",
       "      <td>ARJUN NAGPAL</td>\n",
       "      <td>12/04/2021 11:03:10 AM</td>\n",
       "      <td>12/04/2021 11:03:19 AM</td>\n",
       "      <td>1</td>\n",
       "      <td>Yes</td>\n",
       "      <td>Y</td>\n",
       "      <td>12.500000</td>\n",
       "    </tr>\n",
       "    <tr>\n",
       "      <th>3</th>\n",
       "      <td>bvspr1065@gmail.com</td>\n",
       "      <td>127</td>\n",
       "      <td>Sai Praneeth Bommireddy</td>\n",
       "      <td>12/04/2021 10:57:39 AM</td>\n",
       "      <td>12/04/2021 10:58:50 AM</td>\n",
       "      <td>2</td>\n",
       "      <td>Yes</td>\n",
       "      <td>Y</td>\n",
       "      <td>54.741379</td>\n",
       "    </tr>\n",
       "    <tr>\n",
       "      <th>4</th>\n",
       "      <td>cadetshafi47@gmail.com</td>\n",
       "      <td>216</td>\n",
       "      <td>Sathwik Syed</td>\n",
       "      <td>12/04/2021 10:56:25 AM</td>\n",
       "      <td>12/04/2021 11:04:33 AM</td>\n",
       "      <td>9</td>\n",
       "      <td>Yes</td>\n",
       "      <td>Y</td>\n",
       "      <td>93.103448</td>\n",
       "    </tr>\n",
       "  </tbody>\n",
       "</table>\n",
       "</div>"
      ],
      "text/plain": [
       "                    User Email  Duration (Minutes)_x     Name (Original Name)  \\\n",
       "0    143aashishyadav@gmail.com                     4            Aashish Yadav   \n",
       "1  abhijeetpatil0902@gmail.com                   110           Abhijeet Patil   \n",
       "2  arjun.arjunnagpal@gmail.com                    29             ARJUN NAGPAL   \n",
       "3          bvspr1065@gmail.com                   127  Sai Praneeth Bommireddy   \n",
       "4       cadetshafi47@gmail.com                   216             Sathwik Syed   \n",
       "\n",
       "                Join Time              Leave Time  Duration (Minutes)_y Guest  \\\n",
       "0  12/04/2021 11:33:33 AM  12/04/2021 11:35:14 AM                     2   Yes   \n",
       "1  12/04/2021 11:09:23 AM  12/04/2021 11:57:26 AM                    49   Yes   \n",
       "2  12/04/2021 11:03:10 AM  12/04/2021 11:03:19 AM                     1   Yes   \n",
       "3  12/04/2021 10:57:39 AM  12/04/2021 10:58:50 AM                     2   Yes   \n",
       "4  12/04/2021 10:56:25 AM  12/04/2021 11:04:33 AM                     9   Yes   \n",
       "\n",
       "  Recording Consent  Percentage  \n",
       "0                 Y    1.724138  \n",
       "1                 Y   47.413793  \n",
       "2                 Y   12.500000  \n",
       "3                 Y   54.741379  \n",
       "4                 Y   93.103448  "
      ]
     },
     "execution_count": 53,
     "metadata": {},
     "output_type": "execute_result"
    }
   ],
   "source": [
    "final.head()"
   ]
  },
  {
   "cell_type": "code",
   "execution_count": 54,
   "metadata": {},
   "outputs": [
    {
     "data": {
      "text/html": [
       "<div>\n",
       "<style scoped>\n",
       "    .dataframe tbody tr th:only-of-type {\n",
       "        vertical-align: middle;\n",
       "    }\n",
       "\n",
       "    .dataframe tbody tr th {\n",
       "        vertical-align: top;\n",
       "    }\n",
       "\n",
       "    .dataframe thead th {\n",
       "        text-align: right;\n",
       "    }\n",
       "</style>\n",
       "<table border=\"1\" class=\"dataframe\">\n",
       "  <thead>\n",
       "    <tr style=\"text-align: right;\">\n",
       "      <th></th>\n",
       "      <th>User Email</th>\n",
       "      <th>Duration (Minutes)_x</th>\n",
       "      <th>Name (Original Name)</th>\n",
       "      <th>Join Time</th>\n",
       "      <th>Leave Time</th>\n",
       "      <th>Duration (Minutes)_y</th>\n",
       "      <th>Guest</th>\n",
       "      <th>Recording Consent</th>\n",
       "      <th>Percentage</th>\n",
       "    </tr>\n",
       "  </thead>\n",
       "  <tbody>\n",
       "    <tr>\n",
       "      <th>28</th>\n",
       "      <td>atulbhosle277@gmail.com</td>\n",
       "      <td>2</td>\n",
       "      <td>Atul Bhosle</td>\n",
       "      <td>12/04/2021 11:26:34 AM</td>\n",
       "      <td>12/04/2021 11:28:18 AM</td>\n",
       "      <td>2</td>\n",
       "      <td>Yes</td>\n",
       "      <td>Y</td>\n",
       "      <td>0.862069</td>\n",
       "    </tr>\n",
       "    <tr>\n",
       "      <th>46</th>\n",
       "      <td>mohd.fauzan78692@gmail.com</td>\n",
       "      <td>2</td>\n",
       "      <td>Mohd Fauzan</td>\n",
       "      <td>12/04/2021 11:40:38 AM</td>\n",
       "      <td>12/04/2021 11:41:48 AM</td>\n",
       "      <td>2</td>\n",
       "      <td>Yes</td>\n",
       "      <td>Y</td>\n",
       "      <td>0.862069</td>\n",
       "    </tr>\n",
       "    <tr>\n",
       "      <th>55</th>\n",
       "      <td>sagarkachare11@gmail.com</td>\n",
       "      <td>2</td>\n",
       "      <td>Sagar Kachare</td>\n",
       "      <td>12/04/2021 11:24:31 AM</td>\n",
       "      <td>12/04/2021 11:25:55 AM</td>\n",
       "      <td>2</td>\n",
       "      <td>Yes</td>\n",
       "      <td>Y</td>\n",
       "      <td>0.862069</td>\n",
       "    </tr>\n",
       "  </tbody>\n",
       "</table>\n",
       "</div>"
      ],
      "text/plain": [
       "                    User Email  Duration (Minutes)_x Name (Original Name)  \\\n",
       "28     atulbhosle277@gmail.com                     2          Atul Bhosle   \n",
       "46  mohd.fauzan78692@gmail.com                     2          Mohd Fauzan   \n",
       "55    sagarkachare11@gmail.com                     2        Sagar Kachare   \n",
       "\n",
       "                 Join Time              Leave Time  Duration (Minutes)_y  \\\n",
       "28  12/04/2021 11:26:34 AM  12/04/2021 11:28:18 AM                     2   \n",
       "46  12/04/2021 11:40:38 AM  12/04/2021 11:41:48 AM                     2   \n",
       "55  12/04/2021 11:24:31 AM  12/04/2021 11:25:55 AM                     2   \n",
       "\n",
       "   Guest Recording Consent  Percentage  \n",
       "28   Yes                 Y    0.862069  \n",
       "46   Yes                 Y    0.862069  \n",
       "55   Yes                 Y    0.862069  "
      ]
     },
     "execution_count": 54,
     "metadata": {},
     "output_type": "execute_result"
    }
   ],
   "source": [
    "final[final[\"Duration (Minutes)_x\"] == final[\"Duration (Minutes)_x\"].min()]"
   ]
  },
  {
   "cell_type": "code",
   "execution_count": 55,
   "metadata": {},
   "outputs": [],
   "source": [
    "#final.to_csv(\"fsd.csv\")"
   ]
  },
  {
   "cell_type": "code",
   "execution_count": 56,
   "metadata": {},
   "outputs": [
    {
     "data": {
      "text/html": [
       "<div>\n",
       "<style scoped>\n",
       "    .dataframe tbody tr th:only-of-type {\n",
       "        vertical-align: middle;\n",
       "    }\n",
       "\n",
       "    .dataframe tbody tr th {\n",
       "        vertical-align: top;\n",
       "    }\n",
       "\n",
       "    .dataframe thead th {\n",
       "        text-align: right;\n",
       "    }\n",
       "</style>\n",
       "<table border=\"1\" class=\"dataframe\">\n",
       "  <thead>\n",
       "    <tr style=\"text-align: right;\">\n",
       "      <th></th>\n",
       "      <th>User Email</th>\n",
       "      <th>Duration (Minutes)_x</th>\n",
       "      <th>Name (Original Name)</th>\n",
       "      <th>Join Time</th>\n",
       "      <th>Leave Time</th>\n",
       "      <th>Duration (Minutes)_y</th>\n",
       "      <th>Guest</th>\n",
       "      <th>Recording Consent</th>\n",
       "      <th>Percentage</th>\n",
       "    </tr>\n",
       "  </thead>\n",
       "  <tbody>\n",
       "    <tr>\n",
       "      <th>7</th>\n",
       "      <td>dhanya.nitte@gmail.com</td>\n",
       "      <td>232</td>\n",
       "      <td>Dhanya</td>\n",
       "      <td>12/04/2021 11:03:33 AM</td>\n",
       "      <td>12/04/2021 11:30:46 AM</td>\n",
       "      <td>28</td>\n",
       "      <td>Yes</td>\n",
       "      <td>Y</td>\n",
       "      <td>100.0</td>\n",
       "    </tr>\n",
       "  </tbody>\n",
       "</table>\n",
       "</div>"
      ],
      "text/plain": [
       "               User Email  Duration (Minutes)_x Name (Original Name)  \\\n",
       "7  dhanya.nitte@gmail.com                   232               Dhanya   \n",
       "\n",
       "                Join Time              Leave Time  Duration (Minutes)_y Guest  \\\n",
       "7  12/04/2021 11:03:33 AM  12/04/2021 11:30:46 AM                    28   Yes   \n",
       "\n",
       "  Recording Consent  Percentage  \n",
       "7                 Y       100.0  "
      ]
     },
     "execution_count": 56,
     "metadata": {},
     "output_type": "execute_result"
    }
   ],
   "source": [
    "final[final[\"Duration (Minutes)_x\"] == final[\"Duration (Minutes)_x\"].max()]"
   ]
  },
  {
   "cell_type": "code",
   "execution_count": 57,
   "metadata": {},
   "outputs": [
    {
     "data": {
      "text/plain": [
       "User Email              18\n",
       "Duration (Minutes)_x    18\n",
       "Name (Original Name)    18\n",
       "Join Time               18\n",
       "Leave Time              18\n",
       "Duration (Minutes)_y    18\n",
       "Guest                   18\n",
       "Recording Consent       17\n",
       "Percentage              18\n",
       "dtype: int64"
      ]
     },
     "execution_count": 57,
     "metadata": {},
     "output_type": "execute_result"
    }
   ],
   "source": [
    "final[final[\"Duration (Minutes)_x\"] > 120].count()"
   ]
  },
  {
   "cell_type": "code",
   "execution_count": 58,
   "metadata": {},
   "outputs": [],
   "source": [
    "#final[final[\"Duration (Minutes)_x\"]>40].to_csv(\"./TFA_14_Aug/Final_list.csv\")"
   ]
  },
  {
   "cell_type": "code",
   "execution_count": 59,
   "metadata": {},
   "outputs": [
    {
     "data": {
      "text/html": [
       "<div>\n",
       "<style scoped>\n",
       "    .dataframe tbody tr th:only-of-type {\n",
       "        vertical-align: middle;\n",
       "    }\n",
       "\n",
       "    .dataframe tbody tr th {\n",
       "        vertical-align: top;\n",
       "    }\n",
       "\n",
       "    .dataframe thead th {\n",
       "        text-align: right;\n",
       "    }\n",
       "</style>\n",
       "<table border=\"1\" class=\"dataframe\">\n",
       "  <thead>\n",
       "    <tr style=\"text-align: right;\">\n",
       "      <th></th>\n",
       "      <th>First Name</th>\n",
       "      <th>Last Name</th>\n",
       "      <th>User Email</th>\n",
       "      <th>Registration Time</th>\n",
       "      <th>Approval Status</th>\n",
       "      <th>Phone</th>\n",
       "    </tr>\n",
       "  </thead>\n",
       "  <tbody>\n",
       "    <tr>\n",
       "      <th>0</th>\n",
       "      <td>Jayashree</td>\n",
       "      <td>Hire</td>\n",
       "      <td>jayuhire24@gmail.com</td>\n",
       "      <td>03-12-2021 18:25</td>\n",
       "      <td>approved</td>\n",
       "      <td>7058136044</td>\n",
       "    </tr>\n",
       "    <tr>\n",
       "      <th>1</th>\n",
       "      <td>Pranay</td>\n",
       "      <td>Manepally</td>\n",
       "      <td>manepallypranay98@gmail.com</td>\n",
       "      <td>04-12-2021 11:00</td>\n",
       "      <td>approved</td>\n",
       "      <td>9959623900</td>\n",
       "    </tr>\n",
       "    <tr>\n",
       "      <th>2</th>\n",
       "      <td>Sudarsana</td>\n",
       "      <td>Narravula</td>\n",
       "      <td>sudarsananarravula@gmail.com</td>\n",
       "      <td>03-12-2021 21:23</td>\n",
       "      <td>approved</td>\n",
       "      <td>7989408487</td>\n",
       "    </tr>\n",
       "    <tr>\n",
       "      <th>3</th>\n",
       "      <td>RUPALI</td>\n",
       "      <td>RATHOD</td>\n",
       "      <td>Rupalirathod10@gmail.com</td>\n",
       "      <td>03-12-2021 21:25</td>\n",
       "      <td>approved</td>\n",
       "      <td>7841844494</td>\n",
       "    </tr>\n",
       "    <tr>\n",
       "      <th>4</th>\n",
       "      <td>sanu</td>\n",
       "      <td>kumar</td>\n",
       "      <td>sanuk0399@gmail.com</td>\n",
       "      <td>04-12-2021 11:31</td>\n",
       "      <td>approved</td>\n",
       "      <td>8709883756</td>\n",
       "    </tr>\n",
       "    <tr>\n",
       "      <th>...</th>\n",
       "      <td>...</td>\n",
       "      <td>...</td>\n",
       "      <td>...</td>\n",
       "      <td>...</td>\n",
       "      <td>...</td>\n",
       "      <td>...</td>\n",
       "    </tr>\n",
       "    <tr>\n",
       "      <th>138</th>\n",
       "      <td>LEELA MANOJ KUMAR</td>\n",
       "      <td>PAPPULA</td>\n",
       "      <td>manojpappula@gmail.com</td>\n",
       "      <td>04-12-2021 11:03</td>\n",
       "      <td>approved</td>\n",
       "      <td>9492085399</td>\n",
       "    </tr>\n",
       "    <tr>\n",
       "      <th>139</th>\n",
       "      <td>Mohan</td>\n",
       "      <td>Sai</td>\n",
       "      <td>mohansai41@gmail.com</td>\n",
       "      <td>04-12-2021 00:52</td>\n",
       "      <td>approved</td>\n",
       "      <td>9160171467</td>\n",
       "    </tr>\n",
       "    <tr>\n",
       "      <th>140</th>\n",
       "      <td>Phani</td>\n",
       "      <td>k</td>\n",
       "      <td>phanimsba@gmail.com</td>\n",
       "      <td>04-12-2021 10:58</td>\n",
       "      <td>approved</td>\n",
       "      <td>9100560557</td>\n",
       "    </tr>\n",
       "    <tr>\n",
       "      <th>141</th>\n",
       "      <td>Akshay</td>\n",
       "      <td>Kumar</td>\n",
       "      <td>bhimakshaykumar@gmail.com</td>\n",
       "      <td>03-12-2021 20:11</td>\n",
       "      <td>approved</td>\n",
       "      <td>8273619202</td>\n",
       "    </tr>\n",
       "    <tr>\n",
       "      <th>142</th>\n",
       "      <td>Ramya Sri</td>\n",
       "      <td>Ramanukolanu</td>\n",
       "      <td>ramyasri.ramanukolanu@gmail.com</td>\n",
       "      <td>03-12-2021 20:35</td>\n",
       "      <td>approved</td>\n",
       "      <td>9494550280</td>\n",
       "    </tr>\n",
       "  </tbody>\n",
       "</table>\n",
       "<p>143 rows × 6 columns</p>\n",
       "</div>"
      ],
      "text/plain": [
       "            First Name     Last Name                       User Email  \\\n",
       "0            Jayashree          Hire             jayuhire24@gmail.com   \n",
       "1               Pranay     Manepally      manepallypranay98@gmail.com   \n",
       "2            Sudarsana     Narravula     sudarsananarravula@gmail.com   \n",
       "3               RUPALI        RATHOD         Rupalirathod10@gmail.com   \n",
       "4                 sanu         kumar              sanuk0399@gmail.com   \n",
       "..                 ...           ...                              ...   \n",
       "138  LEELA MANOJ KUMAR       PAPPULA           manojpappula@gmail.com   \n",
       "139              Mohan           Sai             mohansai41@gmail.com   \n",
       "140              Phani             k              phanimsba@gmail.com   \n",
       "141             Akshay         Kumar        bhimakshaykumar@gmail.com   \n",
       "142          Ramya Sri  Ramanukolanu  ramyasri.ramanukolanu@gmail.com   \n",
       "\n",
       "    Registration Time Approval Status       Phone  \n",
       "0    03-12-2021 18:25        approved  7058136044  \n",
       "1    04-12-2021 11:00        approved  9959623900  \n",
       "2    03-12-2021 21:23        approved  7989408487  \n",
       "3    03-12-2021 21:25        approved  7841844494  \n",
       "4    04-12-2021 11:31        approved  8709883756  \n",
       "..                ...             ...         ...  \n",
       "138  04-12-2021 11:03        approved  9492085399  \n",
       "139  04-12-2021 00:52        approved  9160171467  \n",
       "140  04-12-2021 10:58        approved  9100560557  \n",
       "141  03-12-2021 20:11        approved  8273619202  \n",
       "142  03-12-2021 20:35        approved  9494550280  \n",
       "\n",
       "[143 rows x 6 columns]"
      ]
     },
     "execution_count": 59,
     "metadata": {},
     "output_type": "execute_result"
    }
   ],
   "source": [
    "df_reg = df_reg.drop_duplicates(subset='User Email')\n",
    "df_reg"
   ]
  },
  {
   "cell_type": "code",
   "execution_count": 60,
   "metadata": {},
   "outputs": [
    {
     "data": {
      "text/html": [
       "<div>\n",
       "<style scoped>\n",
       "    .dataframe tbody tr th:only-of-type {\n",
       "        vertical-align: middle;\n",
       "    }\n",
       "\n",
       "    .dataframe tbody tr th {\n",
       "        vertical-align: top;\n",
       "    }\n",
       "\n",
       "    .dataframe thead th {\n",
       "        text-align: right;\n",
       "    }\n",
       "</style>\n",
       "<table border=\"1\" class=\"dataframe\">\n",
       "  <thead>\n",
       "    <tr style=\"text-align: right;\">\n",
       "      <th></th>\n",
       "      <th>User Email</th>\n",
       "      <th>Duration (Minutes)_x</th>\n",
       "      <th>Name (Original Name)</th>\n",
       "      <th>Join Time</th>\n",
       "      <th>Leave Time</th>\n",
       "      <th>Duration (Minutes)_y</th>\n",
       "      <th>Guest</th>\n",
       "      <th>Recording Consent</th>\n",
       "      <th>Percentage</th>\n",
       "    </tr>\n",
       "  </thead>\n",
       "  <tbody>\n",
       "    <tr>\n",
       "      <th>0</th>\n",
       "      <td>143aashishyadav@gmail.com</td>\n",
       "      <td>4</td>\n",
       "      <td>Aashish Yadav</td>\n",
       "      <td>12/04/2021 11:33:33 AM</td>\n",
       "      <td>12/04/2021 11:35:14 AM</td>\n",
       "      <td>2</td>\n",
       "      <td>Yes</td>\n",
       "      <td>Y</td>\n",
       "      <td>1.724138</td>\n",
       "    </tr>\n",
       "    <tr>\n",
       "      <th>1</th>\n",
       "      <td>abhijeetpatil0902@gmail.com</td>\n",
       "      <td>110</td>\n",
       "      <td>Abhijeet Patil</td>\n",
       "      <td>12/04/2021 11:09:23 AM</td>\n",
       "      <td>12/04/2021 11:57:26 AM</td>\n",
       "      <td>49</td>\n",
       "      <td>Yes</td>\n",
       "      <td>Y</td>\n",
       "      <td>47.413793</td>\n",
       "    </tr>\n",
       "    <tr>\n",
       "      <th>2</th>\n",
       "      <td>arjun.arjunnagpal@gmail.com</td>\n",
       "      <td>29</td>\n",
       "      <td>ARJUN NAGPAL</td>\n",
       "      <td>12/04/2021 11:03:10 AM</td>\n",
       "      <td>12/04/2021 11:03:19 AM</td>\n",
       "      <td>1</td>\n",
       "      <td>Yes</td>\n",
       "      <td>Y</td>\n",
       "      <td>12.500000</td>\n",
       "    </tr>\n",
       "    <tr>\n",
       "      <th>3</th>\n",
       "      <td>bvspr1065@gmail.com</td>\n",
       "      <td>127</td>\n",
       "      <td>Sai Praneeth Bommireddy</td>\n",
       "      <td>12/04/2021 10:57:39 AM</td>\n",
       "      <td>12/04/2021 10:58:50 AM</td>\n",
       "      <td>2</td>\n",
       "      <td>Yes</td>\n",
       "      <td>Y</td>\n",
       "      <td>54.741379</td>\n",
       "    </tr>\n",
       "    <tr>\n",
       "      <th>4</th>\n",
       "      <td>cadetshafi47@gmail.com</td>\n",
       "      <td>216</td>\n",
       "      <td>Sathwik Syed</td>\n",
       "      <td>12/04/2021 10:56:25 AM</td>\n",
       "      <td>12/04/2021 11:04:33 AM</td>\n",
       "      <td>9</td>\n",
       "      <td>Yes</td>\n",
       "      <td>Y</td>\n",
       "      <td>93.103448</td>\n",
       "    </tr>\n",
       "    <tr>\n",
       "      <th>...</th>\n",
       "      <td>...</td>\n",
       "      <td>...</td>\n",
       "      <td>...</td>\n",
       "      <td>...</td>\n",
       "      <td>...</td>\n",
       "      <td>...</td>\n",
       "      <td>...</td>\n",
       "      <td>...</td>\n",
       "      <td>...</td>\n",
       "    </tr>\n",
       "    <tr>\n",
       "      <th>65</th>\n",
       "      <td>susmitaadhikary837@gmail.com</td>\n",
       "      <td>17</td>\n",
       "      <td>Susmita Adhikary</td>\n",
       "      <td>12/04/2021 11:50:55 AM</td>\n",
       "      <td>12/04/2021 12:07:51 PM</td>\n",
       "      <td>17</td>\n",
       "      <td>Yes</td>\n",
       "      <td>Y</td>\n",
       "      <td>7.327586</td>\n",
       "    </tr>\n",
       "    <tr>\n",
       "      <th>66</th>\n",
       "      <td>tim85.jt@gmail.com</td>\n",
       "      <td>3</td>\n",
       "      <td>John Timothy</td>\n",
       "      <td>12/04/2021 12:28:50 PM</td>\n",
       "      <td>12/04/2021 12:31:41 PM</td>\n",
       "      <td>3</td>\n",
       "      <td>Yes</td>\n",
       "      <td>Y</td>\n",
       "      <td>1.293103</td>\n",
       "    </tr>\n",
       "    <tr>\n",
       "      <th>67</th>\n",
       "      <td>vaibhav_thakare@rediffmail.com</td>\n",
       "      <td>133</td>\n",
       "      <td>Vaibhav Thakre</td>\n",
       "      <td>12/04/2021 10:55:25 AM</td>\n",
       "      <td>12/04/2021 01:08:01 PM</td>\n",
       "      <td>133</td>\n",
       "      <td>Yes</td>\n",
       "      <td>Y</td>\n",
       "      <td>57.327586</td>\n",
       "    </tr>\n",
       "    <tr>\n",
       "      <th>68</th>\n",
       "      <td>vshashi120@gmail.com</td>\n",
       "      <td>92</td>\n",
       "      <td>Shashi Verma</td>\n",
       "      <td>12/04/2021 10:57:59 AM</td>\n",
       "      <td>12/04/2021 12:29:35 PM</td>\n",
       "      <td>92</td>\n",
       "      <td>Yes</td>\n",
       "      <td>Y</td>\n",
       "      <td>39.655172</td>\n",
       "    </tr>\n",
       "    <tr>\n",
       "      <th>69</th>\n",
       "      <td>yashwanthallwar10@gmail.com</td>\n",
       "      <td>4</td>\n",
       "      <td>Yashwanth Allwar</td>\n",
       "      <td>12/04/2021 11:20:23 AM</td>\n",
       "      <td>12/04/2021 11:23:29 AM</td>\n",
       "      <td>4</td>\n",
       "      <td>Yes</td>\n",
       "      <td>Y</td>\n",
       "      <td>1.724138</td>\n",
       "    </tr>\n",
       "  </tbody>\n",
       "</table>\n",
       "<p>70 rows × 9 columns</p>\n",
       "</div>"
      ],
      "text/plain": [
       "                        User Email  Duration (Minutes)_x  \\\n",
       "0        143aashishyadav@gmail.com                     4   \n",
       "1      abhijeetpatil0902@gmail.com                   110   \n",
       "2      arjun.arjunnagpal@gmail.com                    29   \n",
       "3              bvspr1065@gmail.com                   127   \n",
       "4           cadetshafi47@gmail.com                   216   \n",
       "..                             ...                   ...   \n",
       "65    susmitaadhikary837@gmail.com                    17   \n",
       "66              tim85.jt@gmail.com                     3   \n",
       "67  vaibhav_thakare@rediffmail.com                   133   \n",
       "68            vshashi120@gmail.com                    92   \n",
       "69     yashwanthallwar10@gmail.com                     4   \n",
       "\n",
       "       Name (Original Name)               Join Time              Leave Time  \\\n",
       "0             Aashish Yadav  12/04/2021 11:33:33 AM  12/04/2021 11:35:14 AM   \n",
       "1            Abhijeet Patil  12/04/2021 11:09:23 AM  12/04/2021 11:57:26 AM   \n",
       "2              ARJUN NAGPAL  12/04/2021 11:03:10 AM  12/04/2021 11:03:19 AM   \n",
       "3   Sai Praneeth Bommireddy  12/04/2021 10:57:39 AM  12/04/2021 10:58:50 AM   \n",
       "4              Sathwik Syed  12/04/2021 10:56:25 AM  12/04/2021 11:04:33 AM   \n",
       "..                      ...                     ...                     ...   \n",
       "65         Susmita Adhikary  12/04/2021 11:50:55 AM  12/04/2021 12:07:51 PM   \n",
       "66             John Timothy  12/04/2021 12:28:50 PM  12/04/2021 12:31:41 PM   \n",
       "67           Vaibhav Thakre  12/04/2021 10:55:25 AM  12/04/2021 01:08:01 PM   \n",
       "68             Shashi Verma  12/04/2021 10:57:59 AM  12/04/2021 12:29:35 PM   \n",
       "69         Yashwanth Allwar  12/04/2021 11:20:23 AM  12/04/2021 11:23:29 AM   \n",
       "\n",
       "    Duration (Minutes)_y Guest Recording Consent  Percentage  \n",
       "0                      2   Yes                 Y    1.724138  \n",
       "1                     49   Yes                 Y   47.413793  \n",
       "2                      1   Yes                 Y   12.500000  \n",
       "3                      2   Yes                 Y   54.741379  \n",
       "4                      9   Yes                 Y   93.103448  \n",
       "..                   ...   ...               ...         ...  \n",
       "65                    17   Yes                 Y    7.327586  \n",
       "66                     3   Yes                 Y    1.293103  \n",
       "67                   133   Yes                 Y   57.327586  \n",
       "68                    92   Yes                 Y   39.655172  \n",
       "69                     4   Yes                 Y    1.724138  \n",
       "\n",
       "[70 rows x 9 columns]"
      ]
     },
     "execution_count": 60,
     "metadata": {},
     "output_type": "execute_result"
    }
   ],
   "source": [
    "final"
   ]
  },
  {
   "cell_type": "code",
   "execution_count": null,
   "metadata": {},
   "outputs": [],
   "source": []
  },
  {
   "cell_type": "code",
   "execution_count": 61,
   "metadata": {},
   "outputs": [
    {
     "data": {
      "text/html": [
       "<div>\n",
       "<style scoped>\n",
       "    .dataframe tbody tr th:only-of-type {\n",
       "        vertical-align: middle;\n",
       "    }\n",
       "\n",
       "    .dataframe tbody tr th {\n",
       "        vertical-align: top;\n",
       "    }\n",
       "\n",
       "    .dataframe thead th {\n",
       "        text-align: right;\n",
       "    }\n",
       "</style>\n",
       "<table border=\"1\" class=\"dataframe\">\n",
       "  <thead>\n",
       "    <tr style=\"text-align: right;\">\n",
       "      <th></th>\n",
       "      <th>First Name</th>\n",
       "      <th>Last Name</th>\n",
       "      <th>User Email</th>\n",
       "      <th>Registration Time</th>\n",
       "      <th>Approval Status</th>\n",
       "      <th>Phone</th>\n",
       "      <th>Duration (Minutes)_x</th>\n",
       "      <th>Name (Original Name)</th>\n",
       "      <th>Join Time</th>\n",
       "      <th>Leave Time</th>\n",
       "      <th>Duration (Minutes)_y</th>\n",
       "      <th>Guest</th>\n",
       "      <th>Recording Consent</th>\n",
       "      <th>Percentage</th>\n",
       "    </tr>\n",
       "  </thead>\n",
       "  <tbody>\n",
       "    <tr>\n",
       "      <th>0</th>\n",
       "      <td>Jayashree</td>\n",
       "      <td>Hire</td>\n",
       "      <td>jayuhire24@gmail.com</td>\n",
       "      <td>03-12-2021 18:25</td>\n",
       "      <td>approved</td>\n",
       "      <td>7058136044</td>\n",
       "      <td>NaN</td>\n",
       "      <td>NaN</td>\n",
       "      <td>NaN</td>\n",
       "      <td>NaN</td>\n",
       "      <td>NaN</td>\n",
       "      <td>NaN</td>\n",
       "      <td>NaN</td>\n",
       "      <td>NaN</td>\n",
       "    </tr>\n",
       "    <tr>\n",
       "      <th>1</th>\n",
       "      <td>Pranay</td>\n",
       "      <td>Manepally</td>\n",
       "      <td>manepallypranay98@gmail.com</td>\n",
       "      <td>04-12-2021 11:00</td>\n",
       "      <td>approved</td>\n",
       "      <td>9959623900</td>\n",
       "      <td>127.0</td>\n",
       "      <td>Pranay Manepally</td>\n",
       "      <td>12/04/2021 11:00:49 AM</td>\n",
       "      <td>12/04/2021 11:35:35 AM</td>\n",
       "      <td>35.0</td>\n",
       "      <td>Yes</td>\n",
       "      <td>Y</td>\n",
       "      <td>54.741379</td>\n",
       "    </tr>\n",
       "    <tr>\n",
       "      <th>2</th>\n",
       "      <td>Sudarsana</td>\n",
       "      <td>Narravula</td>\n",
       "      <td>sudarsananarravula@gmail.com</td>\n",
       "      <td>03-12-2021 21:23</td>\n",
       "      <td>approved</td>\n",
       "      <td>7989408487</td>\n",
       "      <td>NaN</td>\n",
       "      <td>NaN</td>\n",
       "      <td>NaN</td>\n",
       "      <td>NaN</td>\n",
       "      <td>NaN</td>\n",
       "      <td>NaN</td>\n",
       "      <td>NaN</td>\n",
       "      <td>NaN</td>\n",
       "    </tr>\n",
       "    <tr>\n",
       "      <th>3</th>\n",
       "      <td>RUPALI</td>\n",
       "      <td>RATHOD</td>\n",
       "      <td>Rupalirathod10@gmail.com</td>\n",
       "      <td>03-12-2021 21:25</td>\n",
       "      <td>approved</td>\n",
       "      <td>7841844494</td>\n",
       "      <td>NaN</td>\n",
       "      <td>NaN</td>\n",
       "      <td>NaN</td>\n",
       "      <td>NaN</td>\n",
       "      <td>NaN</td>\n",
       "      <td>NaN</td>\n",
       "      <td>NaN</td>\n",
       "      <td>NaN</td>\n",
       "    </tr>\n",
       "    <tr>\n",
       "      <th>4</th>\n",
       "      <td>sanu</td>\n",
       "      <td>kumar</td>\n",
       "      <td>sanuk0399@gmail.com</td>\n",
       "      <td>04-12-2021 11:31</td>\n",
       "      <td>approved</td>\n",
       "      <td>8709883756</td>\n",
       "      <td>88.0</td>\n",
       "      <td>sanu kumar</td>\n",
       "      <td>12/04/2021 11:35:03 AM</td>\n",
       "      <td>12/04/2021 01:02:38 PM</td>\n",
       "      <td>88.0</td>\n",
       "      <td>Yes</td>\n",
       "      <td>Y</td>\n",
       "      <td>37.931034</td>\n",
       "    </tr>\n",
       "    <tr>\n",
       "      <th>...</th>\n",
       "      <td>...</td>\n",
       "      <td>...</td>\n",
       "      <td>...</td>\n",
       "      <td>...</td>\n",
       "      <td>...</td>\n",
       "      <td>...</td>\n",
       "      <td>...</td>\n",
       "      <td>...</td>\n",
       "      <td>...</td>\n",
       "      <td>...</td>\n",
       "      <td>...</td>\n",
       "      <td>...</td>\n",
       "      <td>...</td>\n",
       "      <td>...</td>\n",
       "    </tr>\n",
       "    <tr>\n",
       "      <th>138</th>\n",
       "      <td>LEELA MANOJ KUMAR</td>\n",
       "      <td>PAPPULA</td>\n",
       "      <td>manojpappula@gmail.com</td>\n",
       "      <td>04-12-2021 11:03</td>\n",
       "      <td>approved</td>\n",
       "      <td>9492085399</td>\n",
       "      <td>59.0</td>\n",
       "      <td>LEELA MANOJ KUMAR PAPPULA</td>\n",
       "      <td>12/04/2021 11:03:59 AM</td>\n",
       "      <td>12/04/2021 11:10:32 AM</td>\n",
       "      <td>7.0</td>\n",
       "      <td>Yes</td>\n",
       "      <td>Y</td>\n",
       "      <td>25.431034</td>\n",
       "    </tr>\n",
       "    <tr>\n",
       "      <th>139</th>\n",
       "      <td>Mohan</td>\n",
       "      <td>Sai</td>\n",
       "      <td>mohansai41@gmail.com</td>\n",
       "      <td>04-12-2021 00:52</td>\n",
       "      <td>approved</td>\n",
       "      <td>9160171467</td>\n",
       "      <td>126.0</td>\n",
       "      <td>Mohan Sai</td>\n",
       "      <td>12/04/2021 11:02:26 AM</td>\n",
       "      <td>12/04/2021 01:08:10 PM</td>\n",
       "      <td>126.0</td>\n",
       "      <td>Yes</td>\n",
       "      <td>NaN</td>\n",
       "      <td>54.310345</td>\n",
       "    </tr>\n",
       "    <tr>\n",
       "      <th>140</th>\n",
       "      <td>Phani</td>\n",
       "      <td>k</td>\n",
       "      <td>phanimsba@gmail.com</td>\n",
       "      <td>04-12-2021 10:58</td>\n",
       "      <td>approved</td>\n",
       "      <td>9100560557</td>\n",
       "      <td>130.0</td>\n",
       "      <td>Phani k</td>\n",
       "      <td>12/04/2021 10:59:10 AM</td>\n",
       "      <td>12/04/2021 11:48:54 AM</td>\n",
       "      <td>50.0</td>\n",
       "      <td>Yes</td>\n",
       "      <td>Y</td>\n",
       "      <td>56.034483</td>\n",
       "    </tr>\n",
       "    <tr>\n",
       "      <th>141</th>\n",
       "      <td>Akshay</td>\n",
       "      <td>Kumar</td>\n",
       "      <td>bhimakshaykumar@gmail.com</td>\n",
       "      <td>03-12-2021 20:11</td>\n",
       "      <td>approved</td>\n",
       "      <td>8273619202</td>\n",
       "      <td>NaN</td>\n",
       "      <td>NaN</td>\n",
       "      <td>NaN</td>\n",
       "      <td>NaN</td>\n",
       "      <td>NaN</td>\n",
       "      <td>NaN</td>\n",
       "      <td>NaN</td>\n",
       "      <td>NaN</td>\n",
       "    </tr>\n",
       "    <tr>\n",
       "      <th>142</th>\n",
       "      <td>Ramya Sri</td>\n",
       "      <td>Ramanukolanu</td>\n",
       "      <td>ramyasri.ramanukolanu@gmail.com</td>\n",
       "      <td>03-12-2021 20:35</td>\n",
       "      <td>approved</td>\n",
       "      <td>9494550280</td>\n",
       "      <td>NaN</td>\n",
       "      <td>NaN</td>\n",
       "      <td>NaN</td>\n",
       "      <td>NaN</td>\n",
       "      <td>NaN</td>\n",
       "      <td>NaN</td>\n",
       "      <td>NaN</td>\n",
       "      <td>NaN</td>\n",
       "    </tr>\n",
       "  </tbody>\n",
       "</table>\n",
       "<p>143 rows × 14 columns</p>\n",
       "</div>"
      ],
      "text/plain": [
       "            First Name     Last Name                       User Email  \\\n",
       "0            Jayashree          Hire             jayuhire24@gmail.com   \n",
       "1               Pranay     Manepally      manepallypranay98@gmail.com   \n",
       "2            Sudarsana     Narravula     sudarsananarravula@gmail.com   \n",
       "3               RUPALI        RATHOD         Rupalirathod10@gmail.com   \n",
       "4                 sanu         kumar              sanuk0399@gmail.com   \n",
       "..                 ...           ...                              ...   \n",
       "138  LEELA MANOJ KUMAR       PAPPULA           manojpappula@gmail.com   \n",
       "139              Mohan           Sai             mohansai41@gmail.com   \n",
       "140              Phani             k              phanimsba@gmail.com   \n",
       "141             Akshay         Kumar        bhimakshaykumar@gmail.com   \n",
       "142          Ramya Sri  Ramanukolanu  ramyasri.ramanukolanu@gmail.com   \n",
       "\n",
       "    Registration Time Approval Status       Phone  Duration (Minutes)_x  \\\n",
       "0    03-12-2021 18:25        approved  7058136044                   NaN   \n",
       "1    04-12-2021 11:00        approved  9959623900                 127.0   \n",
       "2    03-12-2021 21:23        approved  7989408487                   NaN   \n",
       "3    03-12-2021 21:25        approved  7841844494                   NaN   \n",
       "4    04-12-2021 11:31        approved  8709883756                  88.0   \n",
       "..                ...             ...         ...                   ...   \n",
       "138  04-12-2021 11:03        approved  9492085399                  59.0   \n",
       "139  04-12-2021 00:52        approved  9160171467                 126.0   \n",
       "140  04-12-2021 10:58        approved  9100560557                 130.0   \n",
       "141  03-12-2021 20:11        approved  8273619202                   NaN   \n",
       "142  03-12-2021 20:35        approved  9494550280                   NaN   \n",
       "\n",
       "          Name (Original Name)               Join Time  \\\n",
       "0                          NaN                     NaN   \n",
       "1             Pranay Manepally  12/04/2021 11:00:49 AM   \n",
       "2                          NaN                     NaN   \n",
       "3                          NaN                     NaN   \n",
       "4                   sanu kumar  12/04/2021 11:35:03 AM   \n",
       "..                         ...                     ...   \n",
       "138  LEELA MANOJ KUMAR PAPPULA  12/04/2021 11:03:59 AM   \n",
       "139                  Mohan Sai  12/04/2021 11:02:26 AM   \n",
       "140                    Phani k  12/04/2021 10:59:10 AM   \n",
       "141                        NaN                     NaN   \n",
       "142                        NaN                     NaN   \n",
       "\n",
       "                 Leave Time  Duration (Minutes)_y Guest Recording Consent  \\\n",
       "0                       NaN                   NaN   NaN               NaN   \n",
       "1    12/04/2021 11:35:35 AM                  35.0   Yes                 Y   \n",
       "2                       NaN                   NaN   NaN               NaN   \n",
       "3                       NaN                   NaN   NaN               NaN   \n",
       "4    12/04/2021 01:02:38 PM                  88.0   Yes                 Y   \n",
       "..                      ...                   ...   ...               ...   \n",
       "138  12/04/2021 11:10:32 AM                   7.0   Yes                 Y   \n",
       "139  12/04/2021 01:08:10 PM                 126.0   Yes               NaN   \n",
       "140  12/04/2021 11:48:54 AM                  50.0   Yes                 Y   \n",
       "141                     NaN                   NaN   NaN               NaN   \n",
       "142                     NaN                   NaN   NaN               NaN   \n",
       "\n",
       "     Percentage  \n",
       "0           NaN  \n",
       "1     54.741379  \n",
       "2           NaN  \n",
       "3           NaN  \n",
       "4     37.931034  \n",
       "..          ...  \n",
       "138   25.431034  \n",
       "139   54.310345  \n",
       "140   56.034483  \n",
       "141         NaN  \n",
       "142         NaN  \n",
       "\n",
       "[143 rows x 14 columns]"
      ]
     },
     "execution_count": 61,
     "metadata": {},
     "output_type": "execute_result"
    }
   ],
   "source": [
    "df2 = pd.merge(df_reg, final, on=['User Email'], how='left')\n",
    "# df2['Duration (Minutes)_x'].fillna(\"Absent\",inplace=True)\n",
    "df2"
   ]
  },
  {
   "cell_type": "code",
   "execution_count": 62,
   "metadata": {},
   "outputs": [],
   "source": [
    "df2['Duration (Minutes)_x'].fillna(\"Absent\",inplace=True)"
   ]
  },
  {
   "cell_type": "code",
   "execution_count": 63,
   "metadata": {},
   "outputs": [
    {
     "data": {
      "text/plain": [
       "0      Absent\n",
       "1         127\n",
       "2      Absent\n",
       "3      Absent\n",
       "4          88\n",
       "        ...  \n",
       "138        59\n",
       "139       126\n",
       "140       130\n",
       "141    Absent\n",
       "142    Absent\n",
       "Name: Duration (Minutes)_x, Length: 143, dtype: object"
      ]
     },
     "execution_count": 63,
     "metadata": {},
     "output_type": "execute_result"
    }
   ],
   "source": [
    "df2['Duration (Minutes)_x']"
   ]
  },
  {
   "cell_type": "code",
   "execution_count": 64,
   "metadata": {},
   "outputs": [
    {
     "data": {
      "text/html": [
       "<div>\n",
       "<style scoped>\n",
       "    .dataframe tbody tr th:only-of-type {\n",
       "        vertical-align: middle;\n",
       "    }\n",
       "\n",
       "    .dataframe tbody tr th {\n",
       "        vertical-align: top;\n",
       "    }\n",
       "\n",
       "    .dataframe thead th {\n",
       "        text-align: right;\n",
       "    }\n",
       "</style>\n",
       "<table border=\"1\" class=\"dataframe\">\n",
       "  <thead>\n",
       "    <tr style=\"text-align: right;\">\n",
       "      <th></th>\n",
       "      <th>First Name</th>\n",
       "      <th>Last Name</th>\n",
       "      <th>User Email</th>\n",
       "      <th>Registration Time</th>\n",
       "      <th>Approval Status</th>\n",
       "      <th>Phone</th>\n",
       "      <th>Duration (Minutes)_x</th>\n",
       "      <th>Name (Original Name)</th>\n",
       "      <th>Join Time</th>\n",
       "      <th>Leave Time</th>\n",
       "      <th>Duration (Minutes)_y</th>\n",
       "      <th>Guest</th>\n",
       "      <th>Recording Consent</th>\n",
       "      <th>Percentage</th>\n",
       "    </tr>\n",
       "  </thead>\n",
       "  <tbody>\n",
       "    <tr>\n",
       "      <th>0</th>\n",
       "      <td>Jayashree</td>\n",
       "      <td>Hire</td>\n",
       "      <td>jayuhire24@gmail.com</td>\n",
       "      <td>03-12-2021 18:25</td>\n",
       "      <td>approved</td>\n",
       "      <td>7058136044</td>\n",
       "      <td>Absent</td>\n",
       "      <td>NaN</td>\n",
       "      <td>NaN</td>\n",
       "      <td>NaN</td>\n",
       "      <td>NaN</td>\n",
       "      <td>NaN</td>\n",
       "      <td>NaN</td>\n",
       "      <td>NaN</td>\n",
       "    </tr>\n",
       "    <tr>\n",
       "      <th>1</th>\n",
       "      <td>Pranay</td>\n",
       "      <td>Manepally</td>\n",
       "      <td>manepallypranay98@gmail.com</td>\n",
       "      <td>04-12-2021 11:00</td>\n",
       "      <td>approved</td>\n",
       "      <td>9959623900</td>\n",
       "      <td>127</td>\n",
       "      <td>Pranay Manepally</td>\n",
       "      <td>12/04/2021 11:00:49 AM</td>\n",
       "      <td>12/04/2021 11:35:35 AM</td>\n",
       "      <td>35.0</td>\n",
       "      <td>Yes</td>\n",
       "      <td>Y</td>\n",
       "      <td>54.741379</td>\n",
       "    </tr>\n",
       "    <tr>\n",
       "      <th>2</th>\n",
       "      <td>Sudarsana</td>\n",
       "      <td>Narravula</td>\n",
       "      <td>sudarsananarravula@gmail.com</td>\n",
       "      <td>03-12-2021 21:23</td>\n",
       "      <td>approved</td>\n",
       "      <td>7989408487</td>\n",
       "      <td>Absent</td>\n",
       "      <td>NaN</td>\n",
       "      <td>NaN</td>\n",
       "      <td>NaN</td>\n",
       "      <td>NaN</td>\n",
       "      <td>NaN</td>\n",
       "      <td>NaN</td>\n",
       "      <td>NaN</td>\n",
       "    </tr>\n",
       "    <tr>\n",
       "      <th>3</th>\n",
       "      <td>RUPALI</td>\n",
       "      <td>RATHOD</td>\n",
       "      <td>Rupalirathod10@gmail.com</td>\n",
       "      <td>03-12-2021 21:25</td>\n",
       "      <td>approved</td>\n",
       "      <td>7841844494</td>\n",
       "      <td>Absent</td>\n",
       "      <td>NaN</td>\n",
       "      <td>NaN</td>\n",
       "      <td>NaN</td>\n",
       "      <td>NaN</td>\n",
       "      <td>NaN</td>\n",
       "      <td>NaN</td>\n",
       "      <td>NaN</td>\n",
       "    </tr>\n",
       "    <tr>\n",
       "      <th>4</th>\n",
       "      <td>sanu</td>\n",
       "      <td>kumar</td>\n",
       "      <td>sanuk0399@gmail.com</td>\n",
       "      <td>04-12-2021 11:31</td>\n",
       "      <td>approved</td>\n",
       "      <td>8709883756</td>\n",
       "      <td>88</td>\n",
       "      <td>sanu kumar</td>\n",
       "      <td>12/04/2021 11:35:03 AM</td>\n",
       "      <td>12/04/2021 01:02:38 PM</td>\n",
       "      <td>88.0</td>\n",
       "      <td>Yes</td>\n",
       "      <td>Y</td>\n",
       "      <td>37.931034</td>\n",
       "    </tr>\n",
       "    <tr>\n",
       "      <th>...</th>\n",
       "      <td>...</td>\n",
       "      <td>...</td>\n",
       "      <td>...</td>\n",
       "      <td>...</td>\n",
       "      <td>...</td>\n",
       "      <td>...</td>\n",
       "      <td>...</td>\n",
       "      <td>...</td>\n",
       "      <td>...</td>\n",
       "      <td>...</td>\n",
       "      <td>...</td>\n",
       "      <td>...</td>\n",
       "      <td>...</td>\n",
       "      <td>...</td>\n",
       "    </tr>\n",
       "    <tr>\n",
       "      <th>138</th>\n",
       "      <td>LEELA MANOJ KUMAR</td>\n",
       "      <td>PAPPULA</td>\n",
       "      <td>manojpappula@gmail.com</td>\n",
       "      <td>04-12-2021 11:03</td>\n",
       "      <td>approved</td>\n",
       "      <td>9492085399</td>\n",
       "      <td>59</td>\n",
       "      <td>LEELA MANOJ KUMAR PAPPULA</td>\n",
       "      <td>12/04/2021 11:03:59 AM</td>\n",
       "      <td>12/04/2021 11:10:32 AM</td>\n",
       "      <td>7.0</td>\n",
       "      <td>Yes</td>\n",
       "      <td>Y</td>\n",
       "      <td>25.431034</td>\n",
       "    </tr>\n",
       "    <tr>\n",
       "      <th>139</th>\n",
       "      <td>Mohan</td>\n",
       "      <td>Sai</td>\n",
       "      <td>mohansai41@gmail.com</td>\n",
       "      <td>04-12-2021 00:52</td>\n",
       "      <td>approved</td>\n",
       "      <td>9160171467</td>\n",
       "      <td>126</td>\n",
       "      <td>Mohan Sai</td>\n",
       "      <td>12/04/2021 11:02:26 AM</td>\n",
       "      <td>12/04/2021 01:08:10 PM</td>\n",
       "      <td>126.0</td>\n",
       "      <td>Yes</td>\n",
       "      <td>NaN</td>\n",
       "      <td>54.310345</td>\n",
       "    </tr>\n",
       "    <tr>\n",
       "      <th>140</th>\n",
       "      <td>Phani</td>\n",
       "      <td>k</td>\n",
       "      <td>phanimsba@gmail.com</td>\n",
       "      <td>04-12-2021 10:58</td>\n",
       "      <td>approved</td>\n",
       "      <td>9100560557</td>\n",
       "      <td>130</td>\n",
       "      <td>Phani k</td>\n",
       "      <td>12/04/2021 10:59:10 AM</td>\n",
       "      <td>12/04/2021 11:48:54 AM</td>\n",
       "      <td>50.0</td>\n",
       "      <td>Yes</td>\n",
       "      <td>Y</td>\n",
       "      <td>56.034483</td>\n",
       "    </tr>\n",
       "    <tr>\n",
       "      <th>141</th>\n",
       "      <td>Akshay</td>\n",
       "      <td>Kumar</td>\n",
       "      <td>bhimakshaykumar@gmail.com</td>\n",
       "      <td>03-12-2021 20:11</td>\n",
       "      <td>approved</td>\n",
       "      <td>8273619202</td>\n",
       "      <td>Absent</td>\n",
       "      <td>NaN</td>\n",
       "      <td>NaN</td>\n",
       "      <td>NaN</td>\n",
       "      <td>NaN</td>\n",
       "      <td>NaN</td>\n",
       "      <td>NaN</td>\n",
       "      <td>NaN</td>\n",
       "    </tr>\n",
       "    <tr>\n",
       "      <th>142</th>\n",
       "      <td>Ramya Sri</td>\n",
       "      <td>Ramanukolanu</td>\n",
       "      <td>ramyasri.ramanukolanu@gmail.com</td>\n",
       "      <td>03-12-2021 20:35</td>\n",
       "      <td>approved</td>\n",
       "      <td>9494550280</td>\n",
       "      <td>Absent</td>\n",
       "      <td>NaN</td>\n",
       "      <td>NaN</td>\n",
       "      <td>NaN</td>\n",
       "      <td>NaN</td>\n",
       "      <td>NaN</td>\n",
       "      <td>NaN</td>\n",
       "      <td>NaN</td>\n",
       "    </tr>\n",
       "  </tbody>\n",
       "</table>\n",
       "<p>143 rows × 14 columns</p>\n",
       "</div>"
      ],
      "text/plain": [
       "            First Name     Last Name                       User Email  \\\n",
       "0            Jayashree          Hire             jayuhire24@gmail.com   \n",
       "1               Pranay     Manepally      manepallypranay98@gmail.com   \n",
       "2            Sudarsana     Narravula     sudarsananarravula@gmail.com   \n",
       "3               RUPALI        RATHOD         Rupalirathod10@gmail.com   \n",
       "4                 sanu         kumar              sanuk0399@gmail.com   \n",
       "..                 ...           ...                              ...   \n",
       "138  LEELA MANOJ KUMAR       PAPPULA           manojpappula@gmail.com   \n",
       "139              Mohan           Sai             mohansai41@gmail.com   \n",
       "140              Phani             k              phanimsba@gmail.com   \n",
       "141             Akshay         Kumar        bhimakshaykumar@gmail.com   \n",
       "142          Ramya Sri  Ramanukolanu  ramyasri.ramanukolanu@gmail.com   \n",
       "\n",
       "    Registration Time Approval Status       Phone Duration (Minutes)_x  \\\n",
       "0    03-12-2021 18:25        approved  7058136044               Absent   \n",
       "1    04-12-2021 11:00        approved  9959623900                  127   \n",
       "2    03-12-2021 21:23        approved  7989408487               Absent   \n",
       "3    03-12-2021 21:25        approved  7841844494               Absent   \n",
       "4    04-12-2021 11:31        approved  8709883756                   88   \n",
       "..                ...             ...         ...                  ...   \n",
       "138  04-12-2021 11:03        approved  9492085399                   59   \n",
       "139  04-12-2021 00:52        approved  9160171467                  126   \n",
       "140  04-12-2021 10:58        approved  9100560557                  130   \n",
       "141  03-12-2021 20:11        approved  8273619202               Absent   \n",
       "142  03-12-2021 20:35        approved  9494550280               Absent   \n",
       "\n",
       "          Name (Original Name)               Join Time  \\\n",
       "0                          NaN                     NaN   \n",
       "1             Pranay Manepally  12/04/2021 11:00:49 AM   \n",
       "2                          NaN                     NaN   \n",
       "3                          NaN                     NaN   \n",
       "4                   sanu kumar  12/04/2021 11:35:03 AM   \n",
       "..                         ...                     ...   \n",
       "138  LEELA MANOJ KUMAR PAPPULA  12/04/2021 11:03:59 AM   \n",
       "139                  Mohan Sai  12/04/2021 11:02:26 AM   \n",
       "140                    Phani k  12/04/2021 10:59:10 AM   \n",
       "141                        NaN                     NaN   \n",
       "142                        NaN                     NaN   \n",
       "\n",
       "                 Leave Time  Duration (Minutes)_y Guest Recording Consent  \\\n",
       "0                       NaN                   NaN   NaN               NaN   \n",
       "1    12/04/2021 11:35:35 AM                  35.0   Yes                 Y   \n",
       "2                       NaN                   NaN   NaN               NaN   \n",
       "3                       NaN                   NaN   NaN               NaN   \n",
       "4    12/04/2021 01:02:38 PM                  88.0   Yes                 Y   \n",
       "..                      ...                   ...   ...               ...   \n",
       "138  12/04/2021 11:10:32 AM                   7.0   Yes                 Y   \n",
       "139  12/04/2021 01:08:10 PM                 126.0   Yes               NaN   \n",
       "140  12/04/2021 11:48:54 AM                  50.0   Yes                 Y   \n",
       "141                     NaN                   NaN   NaN               NaN   \n",
       "142                     NaN                   NaN   NaN               NaN   \n",
       "\n",
       "     Percentage  \n",
       "0           NaN  \n",
       "1     54.741379  \n",
       "2           NaN  \n",
       "3           NaN  \n",
       "4     37.931034  \n",
       "..          ...  \n",
       "138   25.431034  \n",
       "139   54.310345  \n",
       "140   56.034483  \n",
       "141         NaN  \n",
       "142         NaN  \n",
       "\n",
       "[143 rows x 14 columns]"
      ]
     },
     "execution_count": 64,
     "metadata": {},
     "output_type": "execute_result"
    }
   ],
   "source": [
    "df2"
   ]
  },
  {
   "cell_type": "markdown",
   "metadata": {},
   "source": [
    "# Final - export to csv"
   ]
  },
  {
   "cell_type": "code",
   "execution_count": 65,
   "metadata": {},
   "outputs": [],
   "source": [
    "df2.to_csv(\"final.csv\")"
   ]
  },
  {
   "cell_type": "code",
   "execution_count": 93,
   "metadata": {},
   "outputs": [
    {
     "data": {
      "text/plain": [
       "0      Absent\n",
       "1      Absent\n",
       "2      Absent\n",
       "3          78\n",
       "4      Absent\n",
       "        ...  \n",
       "185    Absent\n",
       "186    Absent\n",
       "187    Absent\n",
       "188    Absent\n",
       "189    Absent\n",
       "Name: Duration (Minutes)_x, Length: 190, dtype: object"
      ]
     },
     "execution_count": 93,
     "metadata": {},
     "output_type": "execute_result"
    }
   ],
   "source": [
    "df2['Duration (Minutes)_x']"
   ]
  },
  {
   "cell_type": "code",
   "execution_count": 94,
   "metadata": {},
   "outputs": [],
   "source": [
    "day1 = pd.read_csv(\"master_class_Demo.csv\")\n",
    "day2 = pd.read_csv(\"master_class_Demo_day2.csv\")\n",
    "#day3 = pd.read_csv(\"day3.csv\")\n",
    "#day4 = pd.read_csv(\"day4.csv\")"
   ]
  },
  {
   "cell_type": "code",
   "execution_count": 95,
   "metadata": {},
   "outputs": [],
   "source": [
    "fourdays = pd.concat([day1,day2],axis=0)"
   ]
  },
  {
   "cell_type": "code",
   "execution_count": 96,
   "metadata": {},
   "outputs": [
    {
     "name": "stdout",
     "output_type": "stream",
     "text": [
      "<class 'pandas.core.frame.DataFrame'>\n",
      "Int64Index: 370 entries, 0 to 189\n",
      "Data columns (total 15 columns):\n",
      " #   Column                Non-Null Count  Dtype  \n",
      "---  ------                --------------  -----  \n",
      " 0   Unnamed: 0            370 non-null    int64  \n",
      " 1   First Name            370 non-null    object \n",
      " 2   Last Name             353 non-null    object \n",
      " 3   User Email            370 non-null    object \n",
      " 4   Registration Time     370 non-null    object \n",
      " 5   Phone                 370 non-null    object \n",
      " 6   Duration (Minutes)_x  370 non-null    object \n",
      " 7   Name (Original Name)  173 non-null    object \n",
      " 8   Percentage            173 non-null    float64\n",
      " 9   Approval Status       190 non-null    object \n",
      " 10  Join Time             53 non-null     object \n",
      " 11  Leave Time            53 non-null     object \n",
      " 12  Duration (Minutes)_y  53 non-null     float64\n",
      " 13  Guest                 53 non-null     object \n",
      " 14  Recording Consent     47 non-null     object \n",
      "dtypes: float64(2), int64(1), object(12)\n",
      "memory usage: 46.2+ KB\n"
     ]
    }
   ],
   "source": [
    "fourdays.info()"
   ]
  },
  {
   "cell_type": "code",
   "execution_count": 97,
   "metadata": {},
   "outputs": [],
   "source": [
    "fourdays.to_csv(\"fourdays.csv\")"
   ]
  },
  {
   "cell_type": "markdown",
   "metadata": {},
   "source": [
    "# Day wise analysis\n"
   ]
  },
  {
   "cell_type": "code",
   "execution_count": 115,
   "metadata": {},
   "outputs": [],
   "source": [
    "import pandas as pd\n",
    "day_wise = pd.read_csv(\"fourdays.csv\")\n"
   ]
  },
  {
   "cell_type": "code",
   "execution_count": 116,
   "metadata": {},
   "outputs": [],
   "source": [
    "day_wise = day_wise.drop([\"Unnamed: 0\",\"Unnamed: 0.1\"],axis=1)"
   ]
  },
  {
   "cell_type": "code",
   "execution_count": 117,
   "metadata": {},
   "outputs": [
    {
     "data": {
      "text/html": [
       "<div>\n",
       "<style scoped>\n",
       "    .dataframe tbody tr th:only-of-type {\n",
       "        vertical-align: middle;\n",
       "    }\n",
       "\n",
       "    .dataframe tbody tr th {\n",
       "        vertical-align: top;\n",
       "    }\n",
       "\n",
       "    .dataframe thead th {\n",
       "        text-align: right;\n",
       "    }\n",
       "</style>\n",
       "<table border=\"1\" class=\"dataframe\">\n",
       "  <thead>\n",
       "    <tr style=\"text-align: right;\">\n",
       "      <th></th>\n",
       "      <th>First Name</th>\n",
       "      <th>Last Name</th>\n",
       "      <th>User Email</th>\n",
       "      <th>Registration Time</th>\n",
       "      <th>Phone</th>\n",
       "      <th>Duration (Minutes)_x</th>\n",
       "      <th>Name (Original Name)</th>\n",
       "      <th>Percentage</th>\n",
       "      <th>Approval Status</th>\n",
       "      <th>Join Time</th>\n",
       "      <th>Leave Time</th>\n",
       "      <th>Duration (Minutes)_y</th>\n",
       "      <th>Guest</th>\n",
       "      <th>Recording Consent</th>\n",
       "    </tr>\n",
       "  </thead>\n",
       "  <tbody>\n",
       "    <tr>\n",
       "      <th>0</th>\n",
       "      <td>Vijay Kumar</td>\n",
       "      <td>Bhukya</td>\n",
       "      <td>bhukyavijaykumar1999@gmail.com</td>\n",
       "      <td>20-11-2021 10:21</td>\n",
       "      <td>9502046165</td>\n",
       "      <td>Absent</td>\n",
       "      <td>NaN</td>\n",
       "      <td>NaN</td>\n",
       "      <td>NaN</td>\n",
       "      <td>NaN</td>\n",
       "      <td>NaN</td>\n",
       "      <td>NaN</td>\n",
       "      <td>NaN</td>\n",
       "      <td>NaN</td>\n",
       "    </tr>\n",
       "    <tr>\n",
       "      <th>1</th>\n",
       "      <td>Karthick</td>\n",
       "      <td>K S</td>\n",
       "      <td>karthiks7979@gmail.com</td>\n",
       "      <td>19-11-2021 19:55</td>\n",
       "      <td>6363838310</td>\n",
       "      <td>65</td>\n",
       "      <td>Karthick K S</td>\n",
       "      <td>44.827586</td>\n",
       "      <td>NaN</td>\n",
       "      <td>NaN</td>\n",
       "      <td>NaN</td>\n",
       "      <td>NaN</td>\n",
       "      <td>NaN</td>\n",
       "      <td>NaN</td>\n",
       "    </tr>\n",
       "    <tr>\n",
       "      <th>2</th>\n",
       "      <td>Jay</td>\n",
       "      <td>Bhosale</td>\n",
       "      <td>jaybhosale2014@gmail.com</td>\n",
       "      <td>20-11-2021 11:23</td>\n",
       "      <td>8530212061</td>\n",
       "      <td>109</td>\n",
       "      <td>Jay Bhosale</td>\n",
       "      <td>75.172414</td>\n",
       "      <td>NaN</td>\n",
       "      <td>NaN</td>\n",
       "      <td>NaN</td>\n",
       "      <td>NaN</td>\n",
       "      <td>NaN</td>\n",
       "      <td>NaN</td>\n",
       "    </tr>\n",
       "    <tr>\n",
       "      <th>3</th>\n",
       "      <td>Ashwani</td>\n",
       "      <td>Gupta</td>\n",
       "      <td>ashwanigupta9871@gmail.com</td>\n",
       "      <td>20-11-2021 10:48</td>\n",
       "      <td>9315899660</td>\n",
       "      <td>3</td>\n",
       "      <td>Ashwani Gupta</td>\n",
       "      <td>2.068966</td>\n",
       "      <td>NaN</td>\n",
       "      <td>NaN</td>\n",
       "      <td>NaN</td>\n",
       "      <td>NaN</td>\n",
       "      <td>NaN</td>\n",
       "      <td>NaN</td>\n",
       "    </tr>\n",
       "    <tr>\n",
       "      <th>4</th>\n",
       "      <td>Shivani's M52</td>\n",
       "      <td>NaN</td>\n",
       "      <td>shivani.shivi304@gmail.com</td>\n",
       "      <td>20-11-2021 11:07</td>\n",
       "      <td>7037590639</td>\n",
       "      <td>60</td>\n",
       "      <td>Shivani's M52</td>\n",
       "      <td>41.379310</td>\n",
       "      <td>NaN</td>\n",
       "      <td>NaN</td>\n",
       "      <td>NaN</td>\n",
       "      <td>NaN</td>\n",
       "      <td>NaN</td>\n",
       "      <td>NaN</td>\n",
       "    </tr>\n",
       "  </tbody>\n",
       "</table>\n",
       "</div>"
      ],
      "text/plain": [
       "      First Name Last Name                      User Email Registration Time  \\\n",
       "0    Vijay Kumar    Bhukya  bhukyavijaykumar1999@gmail.com  20-11-2021 10:21   \n",
       "1       Karthick       K S          karthiks7979@gmail.com  19-11-2021 19:55   \n",
       "2            Jay   Bhosale        jaybhosale2014@gmail.com  20-11-2021 11:23   \n",
       "3        Ashwani     Gupta      ashwanigupta9871@gmail.com  20-11-2021 10:48   \n",
       "4  Shivani's M52       NaN      shivani.shivi304@gmail.com  20-11-2021 11:07   \n",
       "\n",
       "        Phone Duration (Minutes)_x Name (Original Name)  Percentage  \\\n",
       "0  9502046165               Absent                  NaN         NaN   \n",
       "1  6363838310                   65         Karthick K S   44.827586   \n",
       "2  8530212061                  109          Jay Bhosale   75.172414   \n",
       "3  9315899660                    3        Ashwani Gupta    2.068966   \n",
       "4  7037590639                   60        Shivani's M52   41.379310   \n",
       "\n",
       "  Approval Status Join Time Leave Time  Duration (Minutes)_y Guest  \\\n",
       "0             NaN       NaN        NaN                   NaN   NaN   \n",
       "1             NaN       NaN        NaN                   NaN   NaN   \n",
       "2             NaN       NaN        NaN                   NaN   NaN   \n",
       "3             NaN       NaN        NaN                   NaN   NaN   \n",
       "4             NaN       NaN        NaN                   NaN   NaN   \n",
       "\n",
       "  Recording Consent  \n",
       "0               NaN  \n",
       "1               NaN  \n",
       "2               NaN  \n",
       "3               NaN  \n",
       "4               NaN  "
      ]
     },
     "execution_count": 117,
     "metadata": {},
     "output_type": "execute_result"
    }
   ],
   "source": [
    "day_wise.head()"
   ]
  },
  {
   "cell_type": "code",
   "execution_count": 118,
   "metadata": {},
   "outputs": [
    {
     "name": "stdout",
     "output_type": "stream",
     "text": [
      "<class 'pandas.core.frame.DataFrame'>\n",
      "RangeIndex: 370 entries, 0 to 369\n",
      "Data columns (total 14 columns):\n",
      " #   Column                Non-Null Count  Dtype  \n",
      "---  ------                --------------  -----  \n",
      " 0   First Name            370 non-null    object \n",
      " 1   Last Name             353 non-null    object \n",
      " 2   User Email            370 non-null    object \n",
      " 3   Registration Time     370 non-null    object \n",
      " 4   Phone                 370 non-null    object \n",
      " 5   Duration (Minutes)_x  370 non-null    object \n",
      " 6   Name (Original Name)  173 non-null    object \n",
      " 7   Percentage            173 non-null    float64\n",
      " 8   Approval Status       190 non-null    object \n",
      " 9   Join Time             53 non-null     object \n",
      " 10  Leave Time            53 non-null     object \n",
      " 11  Duration (Minutes)_y  53 non-null     float64\n",
      " 12  Guest                 53 non-null     object \n",
      " 13  Recording Consent     47 non-null     object \n",
      "dtypes: float64(2), object(12)\n",
      "memory usage: 40.6+ KB\n"
     ]
    }
   ],
   "source": [
    "day_wise.info()"
   ]
  },
  {
   "cell_type": "code",
   "execution_count": 120,
   "metadata": {},
   "outputs": [
    {
     "data": {
      "text/html": [
       "<div>\n",
       "<style scoped>\n",
       "    .dataframe tbody tr th:only-of-type {\n",
       "        vertical-align: middle;\n",
       "    }\n",
       "\n",
       "    .dataframe tbody tr th {\n",
       "        vertical-align: top;\n",
       "    }\n",
       "\n",
       "    .dataframe thead th {\n",
       "        text-align: right;\n",
       "    }\n",
       "</style>\n",
       "<table border=\"1\" class=\"dataframe\">\n",
       "  <thead>\n",
       "    <tr style=\"text-align: right;\">\n",
       "      <th></th>\n",
       "      <th>Unnamed: 0</th>\n",
       "      <th>First Name</th>\n",
       "      <th>Last Name</th>\n",
       "      <th>User Email</th>\n",
       "      <th>Registration Time</th>\n",
       "      <th>Phone</th>\n",
       "      <th>Duration (Minutes)_x</th>\n",
       "      <th>Name (Original Name)</th>\n",
       "      <th>Percentage</th>\n",
       "    </tr>\n",
       "  </thead>\n",
       "  <tbody>\n",
       "    <tr>\n",
       "      <th>0</th>\n",
       "      <td>0</td>\n",
       "      <td>Vijay Kumar</td>\n",
       "      <td>Bhukya</td>\n",
       "      <td>bhukyavijaykumar1999@gmail.com</td>\n",
       "      <td>20-11-2021 10:21</td>\n",
       "      <td>9502046165</td>\n",
       "      <td>Absent</td>\n",
       "      <td>NaN</td>\n",
       "      <td>NaN</td>\n",
       "    </tr>\n",
       "    <tr>\n",
       "      <th>1</th>\n",
       "      <td>1</td>\n",
       "      <td>Karthick</td>\n",
       "      <td>K S</td>\n",
       "      <td>karthiks7979@gmail.com</td>\n",
       "      <td>19-11-2021 19:55</td>\n",
       "      <td>6363838310</td>\n",
       "      <td>65</td>\n",
       "      <td>Karthick K S</td>\n",
       "      <td>44.827586</td>\n",
       "    </tr>\n",
       "    <tr>\n",
       "      <th>2</th>\n",
       "      <td>2</td>\n",
       "      <td>Jay</td>\n",
       "      <td>Bhosale</td>\n",
       "      <td>jaybhosale2014@gmail.com</td>\n",
       "      <td>20-11-2021 11:23</td>\n",
       "      <td>8530212061</td>\n",
       "      <td>109</td>\n",
       "      <td>Jay Bhosale</td>\n",
       "      <td>75.172414</td>\n",
       "    </tr>\n",
       "    <tr>\n",
       "      <th>3</th>\n",
       "      <td>3</td>\n",
       "      <td>Ashwani</td>\n",
       "      <td>Gupta</td>\n",
       "      <td>ashwanigupta9871@gmail.com</td>\n",
       "      <td>20-11-2021 10:48</td>\n",
       "      <td>9315899660</td>\n",
       "      <td>3</td>\n",
       "      <td>Ashwani Gupta</td>\n",
       "      <td>2.068966</td>\n",
       "    </tr>\n",
       "    <tr>\n",
       "      <th>4</th>\n",
       "      <td>4</td>\n",
       "      <td>Shivani's M52</td>\n",
       "      <td>NaN</td>\n",
       "      <td>shivani.shivi304@gmail.com</td>\n",
       "      <td>20-11-2021 11:07</td>\n",
       "      <td>7037590639</td>\n",
       "      <td>60</td>\n",
       "      <td>Shivani's M52</td>\n",
       "      <td>41.379310</td>\n",
       "    </tr>\n",
       "    <tr>\n",
       "      <th>...</th>\n",
       "      <td>...</td>\n",
       "      <td>...</td>\n",
       "      <td>...</td>\n",
       "      <td>...</td>\n",
       "      <td>...</td>\n",
       "      <td>...</td>\n",
       "      <td>...</td>\n",
       "      <td>...</td>\n",
       "      <td>...</td>\n",
       "    </tr>\n",
       "    <tr>\n",
       "      <th>175</th>\n",
       "      <td>175</td>\n",
       "      <td>Manchala</td>\n",
       "      <td>Tapaswin</td>\n",
       "      <td>manchala.tapasswin955@gmail.com</td>\n",
       "      <td>20-11-2021 11:02</td>\n",
       "      <td>9550534195</td>\n",
       "      <td>26</td>\n",
       "      <td>Manchala Tapasswin</td>\n",
       "      <td>17.931034</td>\n",
       "    </tr>\n",
       "    <tr>\n",
       "      <th>176</th>\n",
       "      <td>176</td>\n",
       "      <td>Shubham</td>\n",
       "      <td>Salokhe</td>\n",
       "      <td>shubhamsalokhe@ymail.com</td>\n",
       "      <td>20-11-2021 11:03</td>\n",
       "      <td>8552974448</td>\n",
       "      <td>76</td>\n",
       "      <td>Shubham Salokhe</td>\n",
       "      <td>52.413793</td>\n",
       "    </tr>\n",
       "    <tr>\n",
       "      <th>177</th>\n",
       "      <td>177</td>\n",
       "      <td>Peteti</td>\n",
       "      <td>Teja</td>\n",
       "      <td>tejapeteti8@gmail.com</td>\n",
       "      <td>20-11-2021 10:57</td>\n",
       "      <td>7794022547</td>\n",
       "      <td>137</td>\n",
       "      <td>Peteti Teja</td>\n",
       "      <td>94.482759</td>\n",
       "    </tr>\n",
       "    <tr>\n",
       "      <th>178</th>\n",
       "      <td>178</td>\n",
       "      <td>Akhila</td>\n",
       "      <td>Chebrolu</td>\n",
       "      <td>akhila.ch2468@gmail.com</td>\n",
       "      <td>19-11-2021 18:28</td>\n",
       "      <td>8074939805</td>\n",
       "      <td>40</td>\n",
       "      <td>Akhila Chebrolu</td>\n",
       "      <td>27.586207</td>\n",
       "    </tr>\n",
       "    <tr>\n",
       "      <th>179</th>\n",
       "      <td>179</td>\n",
       "      <td>Shruti</td>\n",
       "      <td>Gupta</td>\n",
       "      <td>shruti.gupta.com@gmail.com</td>\n",
       "      <td>19-11-2021 15:08</td>\n",
       "      <td>9576027283</td>\n",
       "      <td>115</td>\n",
       "      <td>Shruti Gupta</td>\n",
       "      <td>79.310345</td>\n",
       "    </tr>\n",
       "  </tbody>\n",
       "</table>\n",
       "<p>180 rows × 9 columns</p>\n",
       "</div>"
      ],
      "text/plain": [
       "     Unnamed: 0     First Name Last Name                       User Email  \\\n",
       "0             0    Vijay Kumar    Bhukya   bhukyavijaykumar1999@gmail.com   \n",
       "1             1       Karthick       K S           karthiks7979@gmail.com   \n",
       "2             2            Jay   Bhosale         jaybhosale2014@gmail.com   \n",
       "3             3        Ashwani     Gupta       ashwanigupta9871@gmail.com   \n",
       "4             4  Shivani's M52       NaN       shivani.shivi304@gmail.com   \n",
       "..          ...            ...       ...                              ...   \n",
       "175         175       Manchala  Tapaswin  manchala.tapasswin955@gmail.com   \n",
       "176         176        Shubham   Salokhe         shubhamsalokhe@ymail.com   \n",
       "177         177         Peteti      Teja            tejapeteti8@gmail.com   \n",
       "178         178         Akhila  Chebrolu          akhila.ch2468@gmail.com   \n",
       "179         179         Shruti     Gupta       shruti.gupta.com@gmail.com   \n",
       "\n",
       "    Registration Time       Phone Duration (Minutes)_x Name (Original Name)  \\\n",
       "0    20-11-2021 10:21  9502046165               Absent                  NaN   \n",
       "1    19-11-2021 19:55  6363838310                   65         Karthick K S   \n",
       "2    20-11-2021 11:23  8530212061                  109          Jay Bhosale   \n",
       "3    20-11-2021 10:48  9315899660                    3        Ashwani Gupta   \n",
       "4    20-11-2021 11:07  7037590639                   60        Shivani's M52   \n",
       "..                ...         ...                  ...                  ...   \n",
       "175  20-11-2021 11:02  9550534195                   26   Manchala Tapasswin   \n",
       "176  20-11-2021 11:03  8552974448                   76      Shubham Salokhe   \n",
       "177  20-11-2021 10:57  7794022547                  137          Peteti Teja   \n",
       "178  19-11-2021 18:28  8074939805                   40      Akhila Chebrolu   \n",
       "179  19-11-2021 15:08  9576027283                  115         Shruti Gupta   \n",
       "\n",
       "     Percentage  \n",
       "0           NaN  \n",
       "1     44.827586  \n",
       "2     75.172414  \n",
       "3      2.068966  \n",
       "4     41.379310  \n",
       "..          ...  \n",
       "175   17.931034  \n",
       "176   52.413793  \n",
       "177   94.482759  \n",
       "178   27.586207  \n",
       "179   79.310345  \n",
       "\n",
       "[180 rows x 9 columns]"
      ]
     },
     "execution_count": 120,
     "metadata": {},
     "output_type": "execute_result"
    }
   ],
   "source": [
    "day1"
   ]
  },
  {
   "cell_type": "code",
   "execution_count": 102,
   "metadata": {
    "collapsed": true
   },
   "outputs": [
    {
     "ename": "AttributeError",
     "evalue": "'float' object has no attribute 'split'",
     "output_type": "error",
     "traceback": [
      "\u001b[1;31m---------------------------------------------------------------------------\u001b[0m",
      "\u001b[1;31mAttributeError\u001b[0m                            Traceback (most recent call last)",
      "\u001b[1;32m<ipython-input-102-abe64a010d14>\u001b[0m in \u001b[0;36m<module>\u001b[1;34m\u001b[0m\n\u001b[1;32m----> 1\u001b[1;33m \u001b[0mday_wise\u001b[0m\u001b[1;33m[\u001b[0m\u001b[1;34m'Join Time'\u001b[0m\u001b[1;33m]\u001b[0m \u001b[1;33m=\u001b[0m \u001b[0mday_wise\u001b[0m\u001b[1;33m[\u001b[0m\u001b[1;34m'Join Time'\u001b[0m\u001b[1;33m]\u001b[0m\u001b[1;33m.\u001b[0m\u001b[0mapply\u001b[0m\u001b[1;33m(\u001b[0m\u001b[1;32mlambda\u001b[0m \u001b[0mx\u001b[0m\u001b[1;33m:\u001b[0m\u001b[0mx\u001b[0m\u001b[1;33m.\u001b[0m\u001b[0msplit\u001b[0m\u001b[1;33m(\u001b[0m\u001b[1;33m)\u001b[0m\u001b[1;33m[\u001b[0m\u001b[1;36m0\u001b[0m\u001b[1;33m]\u001b[0m\u001b[1;33m)\u001b[0m\u001b[1;33m\u001b[0m\u001b[1;33m\u001b[0m\u001b[0m\n\u001b[0m",
      "\u001b[1;32m~\\anaconda3\\lib\\site-packages\\pandas\\core\\series.py\u001b[0m in \u001b[0;36mapply\u001b[1;34m(self, func, convert_dtype, args, **kwds)\u001b[0m\n\u001b[0;32m   4198\u001b[0m             \u001b[1;32melse\u001b[0m\u001b[1;33m:\u001b[0m\u001b[1;33m\u001b[0m\u001b[1;33m\u001b[0m\u001b[0m\n\u001b[0;32m   4199\u001b[0m                 \u001b[0mvalues\u001b[0m \u001b[1;33m=\u001b[0m \u001b[0mself\u001b[0m\u001b[1;33m.\u001b[0m\u001b[0mastype\u001b[0m\u001b[1;33m(\u001b[0m\u001b[0mobject\u001b[0m\u001b[1;33m)\u001b[0m\u001b[1;33m.\u001b[0m\u001b[0m_values\u001b[0m\u001b[1;33m\u001b[0m\u001b[1;33m\u001b[0m\u001b[0m\n\u001b[1;32m-> 4200\u001b[1;33m                 \u001b[0mmapped\u001b[0m \u001b[1;33m=\u001b[0m \u001b[0mlib\u001b[0m\u001b[1;33m.\u001b[0m\u001b[0mmap_infer\u001b[0m\u001b[1;33m(\u001b[0m\u001b[0mvalues\u001b[0m\u001b[1;33m,\u001b[0m \u001b[0mf\u001b[0m\u001b[1;33m,\u001b[0m \u001b[0mconvert\u001b[0m\u001b[1;33m=\u001b[0m\u001b[0mconvert_dtype\u001b[0m\u001b[1;33m)\u001b[0m\u001b[1;33m\u001b[0m\u001b[1;33m\u001b[0m\u001b[0m\n\u001b[0m\u001b[0;32m   4201\u001b[0m \u001b[1;33m\u001b[0m\u001b[0m\n\u001b[0;32m   4202\u001b[0m         \u001b[1;32mif\u001b[0m \u001b[0mlen\u001b[0m\u001b[1;33m(\u001b[0m\u001b[0mmapped\u001b[0m\u001b[1;33m)\u001b[0m \u001b[1;32mand\u001b[0m \u001b[0misinstance\u001b[0m\u001b[1;33m(\u001b[0m\u001b[0mmapped\u001b[0m\u001b[1;33m[\u001b[0m\u001b[1;36m0\u001b[0m\u001b[1;33m]\u001b[0m\u001b[1;33m,\u001b[0m \u001b[0mSeries\u001b[0m\u001b[1;33m)\u001b[0m\u001b[1;33m:\u001b[0m\u001b[1;33m\u001b[0m\u001b[1;33m\u001b[0m\u001b[0m\n",
      "\u001b[1;32mpandas\\_libs\\lib.pyx\u001b[0m in \u001b[0;36mpandas._libs.lib.map_infer\u001b[1;34m()\u001b[0m\n",
      "\u001b[1;32m<ipython-input-102-abe64a010d14>\u001b[0m in \u001b[0;36m<lambda>\u001b[1;34m(x)\u001b[0m\n\u001b[1;32m----> 1\u001b[1;33m \u001b[0mday_wise\u001b[0m\u001b[1;33m[\u001b[0m\u001b[1;34m'Join Time'\u001b[0m\u001b[1;33m]\u001b[0m \u001b[1;33m=\u001b[0m \u001b[0mday_wise\u001b[0m\u001b[1;33m[\u001b[0m\u001b[1;34m'Join Time'\u001b[0m\u001b[1;33m]\u001b[0m\u001b[1;33m.\u001b[0m\u001b[0mapply\u001b[0m\u001b[1;33m(\u001b[0m\u001b[1;32mlambda\u001b[0m \u001b[0mx\u001b[0m\u001b[1;33m:\u001b[0m\u001b[0mx\u001b[0m\u001b[1;33m.\u001b[0m\u001b[0msplit\u001b[0m\u001b[1;33m(\u001b[0m\u001b[1;33m)\u001b[0m\u001b[1;33m[\u001b[0m\u001b[1;36m0\u001b[0m\u001b[1;33m]\u001b[0m\u001b[1;33m)\u001b[0m\u001b[1;33m\u001b[0m\u001b[1;33m\u001b[0m\u001b[0m\n\u001b[0m",
      "\u001b[1;31mAttributeError\u001b[0m: 'float' object has no attribute 'split'"
     ]
    }
   ],
   "source": [
    "day_wise['Join Time'] = day_wise['Join Time'].apply(lambda x:x.split()[0])"
   ]
  },
  {
   "cell_type": "code",
   "execution_count": 21,
   "metadata": {},
   "outputs": [],
   "source": [
    "day_wise['Join Time']= day_wise['Join Time'].astype('datetime64[ns]')"
   ]
  },
  {
   "cell_type": "code",
   "execution_count": 22,
   "metadata": {},
   "outputs": [
    {
     "data": {
      "text/plain": [
       "2021-08-30    516\n",
       "2021-08-31    379\n",
       "2021-09-01    249\n",
       "2021-09-02    203\n",
       "Name: Join Time, dtype: int64"
      ]
     },
     "execution_count": 22,
     "metadata": {},
     "output_type": "execute_result"
    }
   ],
   "source": [
    "day_wise['Join Time'].value_counts()"
   ]
  },
  {
   "cell_type": "code",
   "execution_count": 103,
   "metadata": {},
   "outputs": [],
   "source": [
    "day_wise_groupby = day_wise.groupby([\"Join Time\",\"User Email\"])"
   ]
  },
  {
   "cell_type": "code",
   "execution_count": 104,
   "metadata": {},
   "outputs": [
    {
     "data": {
      "text/html": [
       "<div>\n",
       "<style scoped>\n",
       "    .dataframe tbody tr th:only-of-type {\n",
       "        vertical-align: middle;\n",
       "    }\n",
       "\n",
       "    .dataframe tbody tr th {\n",
       "        vertical-align: top;\n",
       "    }\n",
       "\n",
       "    .dataframe thead th {\n",
       "        text-align: right;\n",
       "    }\n",
       "</style>\n",
       "<table border=\"1\" class=\"dataframe\">\n",
       "  <thead>\n",
       "    <tr style=\"text-align: right;\">\n",
       "      <th></th>\n",
       "      <th></th>\n",
       "      <th>First Name</th>\n",
       "      <th>Last Name</th>\n",
       "      <th>Registration Time</th>\n",
       "      <th>Phone</th>\n",
       "      <th>Duration (Minutes)_x</th>\n",
       "      <th>Name (Original Name)</th>\n",
       "      <th>Percentage</th>\n",
       "      <th>Approval Status</th>\n",
       "      <th>Leave Time</th>\n",
       "      <th>Duration (Minutes)_y</th>\n",
       "      <th>Guest</th>\n",
       "      <th>Recording Consent</th>\n",
       "    </tr>\n",
       "    <tr>\n",
       "      <th>Join Time</th>\n",
       "      <th>User Email</th>\n",
       "      <th></th>\n",
       "      <th></th>\n",
       "      <th></th>\n",
       "      <th></th>\n",
       "      <th></th>\n",
       "      <th></th>\n",
       "      <th></th>\n",
       "      <th></th>\n",
       "      <th></th>\n",
       "      <th></th>\n",
       "      <th></th>\n",
       "      <th></th>\n",
       "    </tr>\n",
       "  </thead>\n",
       "  <tbody>\n",
       "    <tr>\n",
       "      <th>11/21/2021 10:51:33 AM</th>\n",
       "      <th>anuguganesh9@gmail.com</th>\n",
       "      <td>ANUGU</td>\n",
       "      <td>GANESH</td>\n",
       "      <td>20-11-2021 11:08</td>\n",
       "      <td>7013888490</td>\n",
       "      <td>131.0</td>\n",
       "      <td>GANESH ANUGU (ANUGU GANESH)</td>\n",
       "      <td>99.242424</td>\n",
       "      <td>approved</td>\n",
       "      <td>11/21/2021 01:02:17 PM</td>\n",
       "      <td>131.0</td>\n",
       "      <td>Yes</td>\n",
       "      <td>Y</td>\n",
       "    </tr>\n",
       "    <tr>\n",
       "      <th>11/21/2021 10:51:54 AM</th>\n",
       "      <th>syedwajahathusainabdi01@gmail.com</th>\n",
       "      <td>Syed Wajahat</td>\n",
       "      <td>Husain Abdi</td>\n",
       "      <td>20-11-2021 11:02</td>\n",
       "      <td>6391694444</td>\n",
       "      <td>130.0</td>\n",
       "      <td>Syed Wajahat Husain Abdi</td>\n",
       "      <td>98.484848</td>\n",
       "      <td>approved</td>\n",
       "      <td>11/21/2021 01:01:34 PM</td>\n",
       "      <td>130.0</td>\n",
       "      <td>Yes</td>\n",
       "      <td>Y</td>\n",
       "    </tr>\n",
       "    <tr>\n",
       "      <th>11/21/2021 10:53:26 AM</th>\n",
       "      <th>hemanandini34@gmail.com</th>\n",
       "      <td>Hemanandini</td>\n",
       "      <td>Hemanandini</td>\n",
       "      <td>19-11-2021 18:19</td>\n",
       "      <td>9666063848</td>\n",
       "      <td>83.0</td>\n",
       "      <td>Hemanandini (Hemanandini Hemanandini)</td>\n",
       "      <td>62.878788</td>\n",
       "      <td>approved</td>\n",
       "      <td>11/21/2021 12:15:53 PM</td>\n",
       "      <td>83.0</td>\n",
       "      <td>Yes</td>\n",
       "      <td>Y</td>\n",
       "    </tr>\n",
       "    <tr>\n",
       "      <th>11/21/2021 10:53:38 AM</th>\n",
       "      <th>abkalvin762@gmail.com</th>\n",
       "      <td>ANTONY</td>\n",
       "      <td>KALVIN</td>\n",
       "      <td>20-11-2021 10:16</td>\n",
       "      <td>9944344159</td>\n",
       "      <td>129.0</td>\n",
       "      <td>ANTONY KALVIN</td>\n",
       "      <td>97.727273</td>\n",
       "      <td>approved</td>\n",
       "      <td>11/21/2021 01:02:16 PM</td>\n",
       "      <td>129.0</td>\n",
       "      <td>Yes</td>\n",
       "      <td>NaN</td>\n",
       "    </tr>\n",
       "    <tr>\n",
       "      <th>11/21/2021 10:55:01 AM</th>\n",
       "      <th>kushdave1169@gmail.com</th>\n",
       "      <td>KUSH</td>\n",
       "      <td>DAVE</td>\n",
       "      <td>20-11-2021 11:05</td>\n",
       "      <td>9016951161</td>\n",
       "      <td>128.0</td>\n",
       "      <td>KUSH DAVE</td>\n",
       "      <td>96.969697</td>\n",
       "      <td>approved</td>\n",
       "      <td>11/21/2021 01:02:16 PM</td>\n",
       "      <td>128.0</td>\n",
       "      <td>Yes</td>\n",
       "      <td>Y</td>\n",
       "    </tr>\n",
       "    <tr>\n",
       "      <th>11/21/2021 10:57:39 AM</th>\n",
       "      <th>kodemravikumar@gmail.com</th>\n",
       "      <td>Ravi</td>\n",
       "      <td>kodem</td>\n",
       "      <td>20-11-2021 10:03</td>\n",
       "      <td>8500391114</td>\n",
       "      <td>126.0</td>\n",
       "      <td>Ravi kodem</td>\n",
       "      <td>95.454545</td>\n",
       "      <td>approved</td>\n",
       "      <td>11/21/2021 11:05:38 AM</td>\n",
       "      <td>8.0</td>\n",
       "      <td>Yes</td>\n",
       "      <td>NaN</td>\n",
       "    </tr>\n",
       "    <tr>\n",
       "      <th>11/21/2021 10:58:35 AM</th>\n",
       "      <th>parth111999@gmail.com</th>\n",
       "      <td>Parth</td>\n",
       "      <td>Shah</td>\n",
       "      <td>19-11-2021 19:30</td>\n",
       "      <td>9967322355</td>\n",
       "      <td>124.0</td>\n",
       "      <td>Parth Shah</td>\n",
       "      <td>93.939394</td>\n",
       "      <td>approved</td>\n",
       "      <td>11/21/2021 01:02:16 PM</td>\n",
       "      <td>124.0</td>\n",
       "      <td>Yes</td>\n",
       "      <td>Y</td>\n",
       "    </tr>\n",
       "    <tr>\n",
       "      <th>11/21/2021 10:59:29 AM</th>\n",
       "      <th>revathyjagghu@gmail.com</th>\n",
       "      <td>Revathy</td>\n",
       "      <td>Govindasamy</td>\n",
       "      <td>20-11-2021 10:35</td>\n",
       "      <td>9486301703</td>\n",
       "      <td>123.0</td>\n",
       "      <td>Revathy Govindasamy</td>\n",
       "      <td>93.181818</td>\n",
       "      <td>approved</td>\n",
       "      <td>11/21/2021 01:02:16 PM</td>\n",
       "      <td>123.0</td>\n",
       "      <td>Yes</td>\n",
       "      <td>Y</td>\n",
       "    </tr>\n",
       "    <tr>\n",
       "      <th>11/21/2021 10:59:43 AM</th>\n",
       "      <th>aashishkoduri@gmail.com</th>\n",
       "      <td>Aashish</td>\n",
       "      <td>Koduri</td>\n",
       "      <td>20-11-2021 10:44</td>\n",
       "      <td>7013401801</td>\n",
       "      <td>72.0</td>\n",
       "      <td>Aashish Koduri</td>\n",
       "      <td>54.545455</td>\n",
       "      <td>approved</td>\n",
       "      <td>11/21/2021 12:11:36 PM</td>\n",
       "      <td>72.0</td>\n",
       "      <td>Yes</td>\n",
       "      <td>Y</td>\n",
       "    </tr>\n",
       "    <tr>\n",
       "      <th>11/21/2021 11:00:20 AM</th>\n",
       "      <th>sanghaviayush16@gmail.com</th>\n",
       "      <td>Ayush</td>\n",
       "      <td>Sanghavi</td>\n",
       "      <td>20-11-2021 10:14</td>\n",
       "      <td>7045779481</td>\n",
       "      <td>122.0</td>\n",
       "      <td>Ayush Sanghavi</td>\n",
       "      <td>92.424242</td>\n",
       "      <td>approved</td>\n",
       "      <td>11/21/2021 01:01:28 PM</td>\n",
       "      <td>122.0</td>\n",
       "      <td>Yes</td>\n",
       "      <td>Y</td>\n",
       "    </tr>\n",
       "    <tr>\n",
       "      <th>11/21/2021 11:00:45 AM</th>\n",
       "      <th>shreyans.sugga@gmail.com</th>\n",
       "      <td>Shreyans</td>\n",
       "      <td>Sugga</td>\n",
       "      <td>19-11-2021 19:23</td>\n",
       "      <td>9164198056</td>\n",
       "      <td>122.0</td>\n",
       "      <td>Shreyans Sugga</td>\n",
       "      <td>92.424242</td>\n",
       "      <td>approved</td>\n",
       "      <td>11/21/2021 01:02:16 PM</td>\n",
       "      <td>122.0</td>\n",
       "      <td>Yes</td>\n",
       "      <td>Y</td>\n",
       "    </tr>\n",
       "    <tr>\n",
       "      <th>11/21/2021 11:00:56 AM</th>\n",
       "      <th>sunandachandu777@gmail.com</th>\n",
       "      <td>Jorige</td>\n",
       "      <td>Sunanda</td>\n",
       "      <td>20-11-2021 18:21</td>\n",
       "      <td>6309337923</td>\n",
       "      <td>52.0</td>\n",
       "      <td>Jorige Sunanda</td>\n",
       "      <td>39.393939</td>\n",
       "      <td>approved</td>\n",
       "      <td>11/21/2021 11:52:39 AM</td>\n",
       "      <td>52.0</td>\n",
       "      <td>Yes</td>\n",
       "      <td>Y</td>\n",
       "    </tr>\n",
       "    <tr>\n",
       "      <th>11/21/2021 11:00:58 AM</th>\n",
       "      <th>srilikitheswari2017@gmail.com</th>\n",
       "      <td>SRI</td>\n",
       "      <td>LIKITHA</td>\n",
       "      <td>19-11-2021 17:34</td>\n",
       "      <td>9603582386</td>\n",
       "      <td>122.0</td>\n",
       "      <td>SRI LIKITHA</td>\n",
       "      <td>92.424242</td>\n",
       "      <td>approved</td>\n",
       "      <td>11/21/2021 12:16:49 PM</td>\n",
       "      <td>76.0</td>\n",
       "      <td>Yes</td>\n",
       "      <td>Y</td>\n",
       "    </tr>\n",
       "    <tr>\n",
       "      <th>11/21/2021 11:01:17 AM</th>\n",
       "      <th>sevakbhavya5@gmail.com</th>\n",
       "      <td>Bhavya</td>\n",
       "      <td>Sevak</td>\n",
       "      <td>21-11-2021 11:01</td>\n",
       "      <td>6353117261</td>\n",
       "      <td>1.0</td>\n",
       "      <td>Bhavya Sevak</td>\n",
       "      <td>0.757576</td>\n",
       "      <td>approved</td>\n",
       "      <td>11/21/2021 11:01:38 AM</td>\n",
       "      <td>1.0</td>\n",
       "      <td>Yes</td>\n",
       "      <td>NaN</td>\n",
       "    </tr>\n",
       "    <tr>\n",
       "      <th>11/21/2021 11:01:28 AM</th>\n",
       "      <th>erakesh086@gmail.com</th>\n",
       "      <td>Rakesh</td>\n",
       "      <td>Eega</td>\n",
       "      <td>20-11-2021 10:18</td>\n",
       "      <td>9398025527</td>\n",
       "      <td>117.0</td>\n",
       "      <td>Rakesh Eega</td>\n",
       "      <td>88.636364</td>\n",
       "      <td>approved</td>\n",
       "      <td>11/21/2021 11:04:27 AM</td>\n",
       "      <td>3.0</td>\n",
       "      <td>Yes</td>\n",
       "      <td>NaN</td>\n",
       "    </tr>\n",
       "    <tr>\n",
       "      <th>11/21/2021 11:01:39 AM</th>\n",
       "      <th>navi282050@gmail.com</th>\n",
       "      <td>Navin</td>\n",
       "      <td>W</td>\n",
       "      <td>19-11-2021 16:23</td>\n",
       "      <td>6383405018</td>\n",
       "      <td>121.0</td>\n",
       "      <td>Navin W</td>\n",
       "      <td>91.666667</td>\n",
       "      <td>approved</td>\n",
       "      <td>11/21/2021 01:02:16 PM</td>\n",
       "      <td>121.0</td>\n",
       "      <td>Yes</td>\n",
       "      <td>Y</td>\n",
       "    </tr>\n",
       "    <tr>\n",
       "      <th>11/21/2021 11:01:45 AM</th>\n",
       "      <th>vihgneshk@gmail.com</th>\n",
       "      <td>K</td>\n",
       "      <td>Vihgnesh</td>\n",
       "      <td>20-11-2021 10:46</td>\n",
       "      <td>9361298530</td>\n",
       "      <td>75.0</td>\n",
       "      <td>K Vihgnesh</td>\n",
       "      <td>56.818182</td>\n",
       "      <td>approved</td>\n",
       "      <td>11/21/2021 12:07:53 PM</td>\n",
       "      <td>67.0</td>\n",
       "      <td>Yes</td>\n",
       "      <td>Y</td>\n",
       "    </tr>\n",
       "    <tr>\n",
       "      <th>11/21/2021 11:02:12 AM</th>\n",
       "      <th>143aashishyadav@gmail.com</th>\n",
       "      <td>Aashish</td>\n",
       "      <td>Yadav</td>\n",
       "      <td>19-11-2021 11:58</td>\n",
       "      <td>8433866008</td>\n",
       "      <td>7.0</td>\n",
       "      <td>Aashish Yadav</td>\n",
       "      <td>5.303030</td>\n",
       "      <td>approved</td>\n",
       "      <td>11/21/2021 11:08:28 AM</td>\n",
       "      <td>7.0</td>\n",
       "      <td>Yes</td>\n",
       "      <td>Y</td>\n",
       "    </tr>\n",
       "    <tr>\n",
       "      <th>11/21/2021 11:02:14 AM</th>\n",
       "      <th>jyothsna01adki@gmail.com</th>\n",
       "      <td>Jyothsna</td>\n",
       "      <td>Adki</td>\n",
       "      <td>19-11-2021 21:05</td>\n",
       "      <td>9121454094</td>\n",
       "      <td>121.0</td>\n",
       "      <td>Jyothsna Adki</td>\n",
       "      <td>91.666667</td>\n",
       "      <td>approved</td>\n",
       "      <td>11/21/2021 01:02:16 PM</td>\n",
       "      <td>121.0</td>\n",
       "      <td>Yes</td>\n",
       "      <td>Y</td>\n",
       "    </tr>\n",
       "    <tr>\n",
       "      <th>11/21/2021 11:03:11 AM</th>\n",
       "      <th>vijaypradeepr@gmail.com</th>\n",
       "      <td>Vijay Pradeep R</td>\n",
       "      <td>NaN</td>\n",
       "      <td>20-11-2021 01:58</td>\n",
       "      <td>9840403800</td>\n",
       "      <td>121.0</td>\n",
       "      <td>Vijay Pradeep R</td>\n",
       "      <td>91.666667</td>\n",
       "      <td>approved</td>\n",
       "      <td>11/21/2021 11:13:22 AM</td>\n",
       "      <td>11.0</td>\n",
       "      <td>Yes</td>\n",
       "      <td>Y</td>\n",
       "    </tr>\n",
       "    <tr>\n",
       "      <th>11/21/2021 11:03:15 AM</th>\n",
       "      <th>vasanthivenna1999@gmail.com</th>\n",
       "      <td>Venna</td>\n",
       "      <td>Vasanthi</td>\n",
       "      <td>20-11-2021 10:59</td>\n",
       "      <td>6281651740</td>\n",
       "      <td>120.0</td>\n",
       "      <td>Venna Vasanthi</td>\n",
       "      <td>90.909091</td>\n",
       "      <td>approved</td>\n",
       "      <td>11/21/2021 11:46:22 AM</td>\n",
       "      <td>44.0</td>\n",
       "      <td>Yes</td>\n",
       "      <td>Y</td>\n",
       "    </tr>\n",
       "    <tr>\n",
       "      <th>11/21/2021 11:04:05 AM</th>\n",
       "      <th>0228missnakil@gmail.com</th>\n",
       "      <td>Snehal</td>\n",
       "      <td>Nakil</td>\n",
       "      <td>20-11-2021 10:19</td>\n",
       "      <td>9503246995</td>\n",
       "      <td>68.0</td>\n",
       "      <td>Snehal Nakil</td>\n",
       "      <td>51.515152</td>\n",
       "      <td>approved</td>\n",
       "      <td>11/21/2021 12:11:08 PM</td>\n",
       "      <td>68.0</td>\n",
       "      <td>Yes</td>\n",
       "      <td>Y</td>\n",
       "    </tr>\n",
       "    <tr>\n",
       "      <th>11/21/2021 11:04:58 AM</th>\n",
       "      <th>himashu.srivastava.1725@gmail.com</th>\n",
       "      <td>Himanshu</td>\n",
       "      <td>Srivastava</td>\n",
       "      <td>20-11-2021 10:16</td>\n",
       "      <td>7267037336</td>\n",
       "      <td>118.0</td>\n",
       "      <td>Himanshu Srivastava</td>\n",
       "      <td>89.393939</td>\n",
       "      <td>approved</td>\n",
       "      <td>11/21/2021 01:02:16 PM</td>\n",
       "      <td>118.0</td>\n",
       "      <td>Yes</td>\n",
       "      <td>Y</td>\n",
       "    </tr>\n",
       "    <tr>\n",
       "      <th>11/21/2021 11:04:59 AM</th>\n",
       "      <th>riyaxclsive@gmail.com</th>\n",
       "      <td>Riya</td>\n",
       "      <td>Kamble</td>\n",
       "      <td>19-11-2021 18:39</td>\n",
       "      <td>9075107399</td>\n",
       "      <td>74.0</td>\n",
       "      <td>Riya Kamble</td>\n",
       "      <td>56.060606</td>\n",
       "      <td>approved</td>\n",
       "      <td>11/21/2021 12:17:25 PM</td>\n",
       "      <td>73.0</td>\n",
       "      <td>Yes</td>\n",
       "      <td>Y</td>\n",
       "    </tr>\n",
       "    <tr>\n",
       "      <th>11/21/2021 11:05:24 AM</th>\n",
       "      <th>naveenkumar592.t@gmail.com</th>\n",
       "      <td>Naveen</td>\n",
       "      <td>T</td>\n",
       "      <td>20-11-2021 11:00</td>\n",
       "      <td>9952201603</td>\n",
       "      <td>56.0</td>\n",
       "      <td>Naveen T</td>\n",
       "      <td>42.424242</td>\n",
       "      <td>approved</td>\n",
       "      <td>11/21/2021 11:59:55 AM</td>\n",
       "      <td>55.0</td>\n",
       "      <td>Yes</td>\n",
       "      <td>Y</td>\n",
       "    </tr>\n",
       "    <tr>\n",
       "      <th>11/21/2021 11:05:40 AM</th>\n",
       "      <th>jinilvyas7@gmail.com</th>\n",
       "      <td>Jinil</td>\n",
       "      <td>Vyas</td>\n",
       "      <td>20-11-2021 09:49</td>\n",
       "      <td>8879561771</td>\n",
       "      <td>117.0</td>\n",
       "      <td>Jinil Vyas</td>\n",
       "      <td>88.636364</td>\n",
       "      <td>approved</td>\n",
       "      <td>11/21/2021 01:02:16 PM</td>\n",
       "      <td>117.0</td>\n",
       "      <td>Yes</td>\n",
       "      <td>Y</td>\n",
       "    </tr>\n",
       "    <tr>\n",
       "      <th>11/21/2021 11:05:54 AM</th>\n",
       "      <th>ridhapanchal@gmail.com</th>\n",
       "      <td>Vanshika</td>\n",
       "      <td>Panchal</td>\n",
       "      <td>19-11-2021 18:41</td>\n",
       "      <td>8368410022</td>\n",
       "      <td>116.0</td>\n",
       "      <td>Vanshika (Vanshika Panchal)</td>\n",
       "      <td>87.878788</td>\n",
       "      <td>approved</td>\n",
       "      <td>11/21/2021 01:01:37 PM</td>\n",
       "      <td>116.0</td>\n",
       "      <td>Yes</td>\n",
       "      <td>Y</td>\n",
       "    </tr>\n",
       "    <tr>\n",
       "      <th>11/21/2021 11:05:57 AM</th>\n",
       "      <th>manepallypranay98@gmail.com</th>\n",
       "      <td>Pranay</td>\n",
       "      <td>Manepally</td>\n",
       "      <td>21-11-2021 08:15</td>\n",
       "      <td>9959623900</td>\n",
       "      <td>78.0</td>\n",
       "      <td>Pranay Manepally</td>\n",
       "      <td>59.090909</td>\n",
       "      <td>approved</td>\n",
       "      <td>11/21/2021 12:23:05 PM</td>\n",
       "      <td>78.0</td>\n",
       "      <td>Yes</td>\n",
       "      <td>Y</td>\n",
       "    </tr>\n",
       "    <tr>\n",
       "      <th>11/21/2021 11:07:05 AM</th>\n",
       "      <th>sivaparvathivasantha@gmail.com</th>\n",
       "      <td>vasantha</td>\n",
       "      <td>Sivaparvathi</td>\n",
       "      <td>20-11-2021 11:01</td>\n",
       "      <td>8106575429</td>\n",
       "      <td>116.0</td>\n",
       "      <td>vasantha Sivaparvathi</td>\n",
       "      <td>87.878788</td>\n",
       "      <td>approved</td>\n",
       "      <td>11/21/2021 01:02:16 PM</td>\n",
       "      <td>116.0</td>\n",
       "      <td>Yes</td>\n",
       "      <td>Y</td>\n",
       "    </tr>\n",
       "    <tr>\n",
       "      <th>11/21/2021 11:07:46 AM</th>\n",
       "      <th>nknavekumar@gmail.com</th>\n",
       "      <td>Naveen</td>\n",
       "      <td>Kumar</td>\n",
       "      <td>20-11-2021 09:19</td>\n",
       "      <td>9592933798</td>\n",
       "      <td>113.0</td>\n",
       "      <td>Naveen Kumar</td>\n",
       "      <td>85.606061</td>\n",
       "      <td>approved</td>\n",
       "      <td>11/21/2021 12:26:27 PM</td>\n",
       "      <td>79.0</td>\n",
       "      <td>Yes</td>\n",
       "      <td>Y</td>\n",
       "    </tr>\n",
       "    <tr>\n",
       "      <th>11/21/2021 11:08:23 AM</th>\n",
       "      <th>mokshithkumar.k@innomatics.in</th>\n",
       "      <td>Mokshith</td>\n",
       "      <td>Kumar</td>\n",
       "      <td>20-11-2021 11:49</td>\n",
       "      <td>7670964969</td>\n",
       "      <td>114.0</td>\n",
       "      <td>Mokshith Kumar</td>\n",
       "      <td>86.363636</td>\n",
       "      <td>approved</td>\n",
       "      <td>11/21/2021 01:02:16 PM</td>\n",
       "      <td>114.0</td>\n",
       "      <td>Yes</td>\n",
       "      <td>Y</td>\n",
       "    </tr>\n",
       "    <tr>\n",
       "      <th>11/21/2021 11:08:26 AM</th>\n",
       "      <th>antara0398@gmail.com</th>\n",
       "      <td>Antara</td>\n",
       "      <td>Biswas</td>\n",
       "      <td>20-11-2021 10:49</td>\n",
       "      <td>7680927725</td>\n",
       "      <td>114.0</td>\n",
       "      <td>Antara Biswas</td>\n",
       "      <td>86.363636</td>\n",
       "      <td>approved</td>\n",
       "      <td>11/21/2021 01:02:15 PM</td>\n",
       "      <td>114.0</td>\n",
       "      <td>Yes</td>\n",
       "      <td>Y</td>\n",
       "    </tr>\n",
       "    <tr>\n",
       "      <th>11/21/2021 11:09:25 AM</th>\n",
       "      <th>maheshmettireddy55@gmail.com</th>\n",
       "      <td>Mahesh</td>\n",
       "      <td>Metti reddy</td>\n",
       "      <td>19-11-2021 16:10</td>\n",
       "      <td>9398242153</td>\n",
       "      <td>113.0</td>\n",
       "      <td>Mahesh Metti reddy</td>\n",
       "      <td>85.606061</td>\n",
       "      <td>approved</td>\n",
       "      <td>11/21/2021 01:02:12 PM</td>\n",
       "      <td>113.0</td>\n",
       "      <td>Yes</td>\n",
       "      <td>Y</td>\n",
       "    </tr>\n",
       "    <tr>\n",
       "      <th>11/21/2021 11:12:32 AM</th>\n",
       "      <th>tanujadarapureddy2001@gmail.com</th>\n",
       "      <td>Tanuja</td>\n",
       "      <td>Darapureddy</td>\n",
       "      <td>21-11-2021 11:12</td>\n",
       "      <td>9640243056</td>\n",
       "      <td>110.0</td>\n",
       "      <td>Tanuja Darapureddy</td>\n",
       "      <td>83.333333</td>\n",
       "      <td>approved</td>\n",
       "      <td>11/21/2021 01:02:16 PM</td>\n",
       "      <td>110.0</td>\n",
       "      <td>Yes</td>\n",
       "      <td>Y</td>\n",
       "    </tr>\n",
       "    <tr>\n",
       "      <th>11/21/2021 11:12:51 AM</th>\n",
       "      <th>inuven2008@gmail.com</th>\n",
       "      <td>Venkata</td>\n",
       "      <td>Inumella</td>\n",
       "      <td>20-11-2021 10:45</td>\n",
       "      <td>9908972000</td>\n",
       "      <td>29.0</td>\n",
       "      <td>Venkata Inumella</td>\n",
       "      <td>21.969697</td>\n",
       "      <td>approved</td>\n",
       "      <td>11/21/2021 11:41:08 AM</td>\n",
       "      <td>29.0</td>\n",
       "      <td>Yes</td>\n",
       "      <td>Y</td>\n",
       "    </tr>\n",
       "    <tr>\n",
       "      <th>11/21/2021 11:19:42 AM</th>\n",
       "      <th>anshumankumaravinav2000@gmail.com</th>\n",
       "      <td>Anshuman</td>\n",
       "      <td>NaN</td>\n",
       "      <td>20-11-2021 10:44</td>\n",
       "      <td>7488507821</td>\n",
       "      <td>103.0</td>\n",
       "      <td>Anshuman</td>\n",
       "      <td>78.030303</td>\n",
       "      <td>approved</td>\n",
       "      <td>11/21/2021 01:02:16 PM</td>\n",
       "      <td>103.0</td>\n",
       "      <td>Yes</td>\n",
       "      <td>Y</td>\n",
       "    </tr>\n",
       "    <tr>\n",
       "      <th>11/21/2021 11:23:04 AM</th>\n",
       "      <th>aafiyathongath786@gmail.com</th>\n",
       "      <td>Aafiya</td>\n",
       "      <td>Thongath</td>\n",
       "      <td>19-11-2021 22:53</td>\n",
       "      <td>8424870594</td>\n",
       "      <td>99.0</td>\n",
       "      <td>Aafiya Thongath</td>\n",
       "      <td>75.000000</td>\n",
       "      <td>approved</td>\n",
       "      <td>11/21/2021 01:01:30 PM</td>\n",
       "      <td>99.0</td>\n",
       "      <td>Yes</td>\n",
       "      <td>Y</td>\n",
       "    </tr>\n",
       "    <tr>\n",
       "      <th>11/21/2021 11:25:04 AM</th>\n",
       "      <th>raghavender861reddy@gmail.com</th>\n",
       "      <td>GAJJALARAGHAVENDER</td>\n",
       "      <td>Reddy</td>\n",
       "      <td>20-11-2021 15:57</td>\n",
       "      <td>'+918328486501</td>\n",
       "      <td>56.0</td>\n",
       "      <td>GAJJALARAGHAVENDER Reddy</td>\n",
       "      <td>42.424242</td>\n",
       "      <td>approved</td>\n",
       "      <td>11/21/2021 12:20:10 PM</td>\n",
       "      <td>56.0</td>\n",
       "      <td>Yes</td>\n",
       "      <td>Y</td>\n",
       "    </tr>\n",
       "    <tr>\n",
       "      <th>11/21/2021 11:25:56 AM</th>\n",
       "      <th>alberto.rengifo@alum.udep.edu.pe</th>\n",
       "      <td>Alberto</td>\n",
       "      <td>Rengifo</td>\n",
       "      <td>20-11-2021 11:38</td>\n",
       "      <td>'+51993749537</td>\n",
       "      <td>6.0</td>\n",
       "      <td>Alberto Rengifo</td>\n",
       "      <td>4.545455</td>\n",
       "      <td>approved</td>\n",
       "      <td>11/21/2021 11:31:24 AM</td>\n",
       "      <td>6.0</td>\n",
       "      <td>Yes</td>\n",
       "      <td>Y</td>\n",
       "    </tr>\n",
       "    <tr>\n",
       "      <th>11/21/2021 11:32:46 AM</th>\n",
       "      <th>gowthamsid12@gmail.com</th>\n",
       "      <td>SIDDARDA GOWTHAM</td>\n",
       "      <td>JAGABATTINA</td>\n",
       "      <td>20-11-2021 11:11</td>\n",
       "      <td>7013734035</td>\n",
       "      <td>2.0</td>\n",
       "      <td>SIDDARDA GOWTHAM JAGABATTINA</td>\n",
       "      <td>1.515152</td>\n",
       "      <td>approved</td>\n",
       "      <td>11/21/2021 11:34:34 AM</td>\n",
       "      <td>2.0</td>\n",
       "      <td>Yes</td>\n",
       "      <td>Y</td>\n",
       "    </tr>\n",
       "    <tr>\n",
       "      <th>11/21/2021 11:39:40 AM</th>\n",
       "      <th>sundeeptroy@gmail.com</th>\n",
       "      <td>Sundeep</td>\n",
       "      <td>Troy</td>\n",
       "      <td>20-11-2021 11:06</td>\n",
       "      <td>7287038332</td>\n",
       "      <td>83.0</td>\n",
       "      <td>Sundeep Troy</td>\n",
       "      <td>62.878788</td>\n",
       "      <td>approved</td>\n",
       "      <td>11/21/2021 01:02:16 PM</td>\n",
       "      <td>83.0</td>\n",
       "      <td>Yes</td>\n",
       "      <td>Y</td>\n",
       "    </tr>\n",
       "    <tr>\n",
       "      <th>11/21/2021 11:42:55 AM</th>\n",
       "      <th>shubhamnv2@gmail.com</th>\n",
       "      <td>shubham</td>\n",
       "      <td>Vedi</td>\n",
       "      <td>20-11-2021 11:07</td>\n",
       "      <td>8796015937</td>\n",
       "      <td>41.0</td>\n",
       "      <td>shubham Vedi</td>\n",
       "      <td>31.060606</td>\n",
       "      <td>approved</td>\n",
       "      <td>11/21/2021 11:59:03 AM</td>\n",
       "      <td>17.0</td>\n",
       "      <td>Yes</td>\n",
       "      <td>Y</td>\n",
       "    </tr>\n",
       "    <tr>\n",
       "      <th>11/21/2021 11:50:55 AM</th>\n",
       "      <th>srkrishnadamarla@gmail.com</th>\n",
       "      <td>SAI RAMA KRISHNA</td>\n",
       "      <td>DAMARLA</td>\n",
       "      <td>20-11-2021 10:17</td>\n",
       "      <td>8179085005</td>\n",
       "      <td>72.0</td>\n",
       "      <td>SAI RAMA KRISHNA DAMARLA</td>\n",
       "      <td>54.545455</td>\n",
       "      <td>approved</td>\n",
       "      <td>11/21/2021 01:02:17 PM</td>\n",
       "      <td>72.0</td>\n",
       "      <td>Yes</td>\n",
       "      <td>Y</td>\n",
       "    </tr>\n",
       "    <tr>\n",
       "      <th>11/21/2021 11:56:06 AM</th>\n",
       "      <th>saikrishna.sk820@gmail.com</th>\n",
       "      <td>Saikrishna</td>\n",
       "      <td>Katta</td>\n",
       "      <td>20-11-2021 10:21</td>\n",
       "      <td>8897122981</td>\n",
       "      <td>66.0</td>\n",
       "      <td>Saikrishna Katta</td>\n",
       "      <td>50.000000</td>\n",
       "      <td>approved</td>\n",
       "      <td>11/21/2021 01:01:40 PM</td>\n",
       "      <td>66.0</td>\n",
       "      <td>Yes</td>\n",
       "      <td>Y</td>\n",
       "    </tr>\n",
       "    <tr>\n",
       "      <th>11/21/2021 12:03:39 PM</th>\n",
       "      <th>shayankumar765@gmail.com</th>\n",
       "      <td>Shayan</td>\n",
       "      <td>Kumar</td>\n",
       "      <td>20-11-2021 10:40</td>\n",
       "      <td>9661400109</td>\n",
       "      <td>44.0</td>\n",
       "      <td>Shayan Kumar</td>\n",
       "      <td>33.333333</td>\n",
       "      <td>approved</td>\n",
       "      <td>11/21/2021 12:47:39 PM</td>\n",
       "      <td>44.0</td>\n",
       "      <td>Yes</td>\n",
       "      <td>Y</td>\n",
       "    </tr>\n",
       "    <tr>\n",
       "      <th>11/21/2021 12:04:51 PM</th>\n",
       "      <th>sumanthsss99@gmail.com</th>\n",
       "      <td>Sumanth</td>\n",
       "      <td>Balabhadruni</td>\n",
       "      <td>19-11-2021 23:05</td>\n",
       "      <td>9177341678</td>\n",
       "      <td>57.0</td>\n",
       "      <td>Sumanth B (Sumanth Balabhadruni)</td>\n",
       "      <td>43.181818</td>\n",
       "      <td>approved</td>\n",
       "      <td>11/21/2021 12:31:32 PM</td>\n",
       "      <td>27.0</td>\n",
       "      <td>Yes</td>\n",
       "      <td>Y</td>\n",
       "    </tr>\n",
       "    <tr>\n",
       "      <th>11/21/2021 12:16:15 PM</th>\n",
       "      <th>20jatinvalecha@gmail.com</th>\n",
       "      <td>Jatin</td>\n",
       "      <td>Valecha</td>\n",
       "      <td>20-11-2021 10:59</td>\n",
       "      <td>8958677901</td>\n",
       "      <td>41.0</td>\n",
       "      <td>Jatin Valecha</td>\n",
       "      <td>31.060606</td>\n",
       "      <td>approved</td>\n",
       "      <td>11/21/2021 12:56:41 PM</td>\n",
       "      <td>41.0</td>\n",
       "      <td>Yes</td>\n",
       "      <td>Y</td>\n",
       "    </tr>\n",
       "    <tr>\n",
       "      <th>11/21/2021 12:19:51 PM</th>\n",
       "      <th>bangarrajumuppidu@gmail.com</th>\n",
       "      <td>Bangarraju</td>\n",
       "      <td>muppidi</td>\n",
       "      <td>20-11-2021 11:03</td>\n",
       "      <td>9398390862</td>\n",
       "      <td>42.0</td>\n",
       "      <td>Bangarraju muppidi</td>\n",
       "      <td>31.818182</td>\n",
       "      <td>approved</td>\n",
       "      <td>11/21/2021 01:01:11 PM</td>\n",
       "      <td>42.0</td>\n",
       "      <td>Yes</td>\n",
       "      <td>Y</td>\n",
       "    </tr>\n",
       "    <tr>\n",
       "      <th>11/21/2021 12:25:32 PM</th>\n",
       "      <th>knowledgeisdevine20@gmail.com</th>\n",
       "      <td>Shaik</td>\n",
       "      <td>Shaanu</td>\n",
       "      <td>19-11-2021 10:34</td>\n",
       "      <td>8978685608</td>\n",
       "      <td>28.0</td>\n",
       "      <td>Shaik Shaanu</td>\n",
       "      <td>21.212121</td>\n",
       "      <td>approved</td>\n",
       "      <td>11/21/2021 12:52:41 PM</td>\n",
       "      <td>28.0</td>\n",
       "      <td>Yes</td>\n",
       "      <td>Y</td>\n",
       "    </tr>\n",
       "    <tr>\n",
       "      <th>11/21/2021 12:39:55 PM</th>\n",
       "      <th>vattemteja@gmail.com</th>\n",
       "      <td>Sarma V R T</td>\n",
       "      <td>Vattem</td>\n",
       "      <td>20-11-2021 10:55</td>\n",
       "      <td>9160535367</td>\n",
       "      <td>23.0</td>\n",
       "      <td>Sarma V R T Vattem</td>\n",
       "      <td>17.424242</td>\n",
       "      <td>approved</td>\n",
       "      <td>11/21/2021 01:02:16 PM</td>\n",
       "      <td>23.0</td>\n",
       "      <td>Yes</td>\n",
       "      <td>Y</td>\n",
       "    </tr>\n",
       "    <tr>\n",
       "      <th>11/21/2021 12:47:04 PM</th>\n",
       "      <th>amandaahona@gmail.com</th>\n",
       "      <td>amanda</td>\n",
       "      <td>flavia</td>\n",
       "      <td>20-11-2021 17:33</td>\n",
       "      <td>716869814</td>\n",
       "      <td>1.0</td>\n",
       "      <td>amanda flavia</td>\n",
       "      <td>0.757576</td>\n",
       "      <td>approved</td>\n",
       "      <td>11/21/2021 12:47:45 PM</td>\n",
       "      <td>1.0</td>\n",
       "      <td>Yes</td>\n",
       "      <td>Y</td>\n",
       "    </tr>\n",
       "    <tr>\n",
       "      <th>11/21/2021 12:47:30 PM</th>\n",
       "      <th>mahendragundeti6@gmail.com</th>\n",
       "      <td>Gundeti</td>\n",
       "      <td>Mahendra</td>\n",
       "      <td>20-11-2021 10:29</td>\n",
       "      <td>8333830128</td>\n",
       "      <td>107.0</td>\n",
       "      <td>Gundeti Mahendra</td>\n",
       "      <td>81.060606</td>\n",
       "      <td>approved</td>\n",
       "      <td>11/21/2021 01:02:17 PM</td>\n",
       "      <td>15.0</td>\n",
       "      <td>Yes</td>\n",
       "      <td>NaN</td>\n",
       "    </tr>\n",
       "    <tr>\n",
       "      <th>11/21/2021 12:48:48 PM</th>\n",
       "      <th>benaliganou16@gmail.com</th>\n",
       "      <td>Hana</td>\n",
       "      <td>Ben Ali</td>\n",
       "      <td>20-11-2021 04:24</td>\n",
       "      <td>55 382 691</td>\n",
       "      <td>93.0</td>\n",
       "      <td>Hana Ben Ali</td>\n",
       "      <td>70.454545</td>\n",
       "      <td>approved</td>\n",
       "      <td>11/21/2021 01:02:17 PM</td>\n",
       "      <td>14.0</td>\n",
       "      <td>Yes</td>\n",
       "      <td>NaN</td>\n",
       "    </tr>\n",
       "  </tbody>\n",
       "</table>\n",
       "</div>"
      ],
      "text/plain": [
       "                                                                  First Name  \\\n",
       "Join Time              User Email                                              \n",
       "11/21/2021 10:51:33 AM anuguganesh9@gmail.com                          ANUGU   \n",
       "11/21/2021 10:51:54 AM syedwajahathusainabdi01@gmail.com        Syed Wajahat   \n",
       "11/21/2021 10:53:26 AM hemanandini34@gmail.com                   Hemanandini   \n",
       "11/21/2021 10:53:38 AM abkalvin762@gmail.com                          ANTONY   \n",
       "11/21/2021 10:55:01 AM kushdave1169@gmail.com                           KUSH   \n",
       "11/21/2021 10:57:39 AM kodemravikumar@gmail.com                         Ravi   \n",
       "11/21/2021 10:58:35 AM parth111999@gmail.com                           Parth   \n",
       "11/21/2021 10:59:29 AM revathyjagghu@gmail.com                       Revathy   \n",
       "11/21/2021 10:59:43 AM aashishkoduri@gmail.com                       Aashish   \n",
       "11/21/2021 11:00:20 AM sanghaviayush16@gmail.com                       Ayush   \n",
       "11/21/2021 11:00:45 AM shreyans.sugga@gmail.com                     Shreyans   \n",
       "11/21/2021 11:00:56 AM sunandachandu777@gmail.com                     Jorige   \n",
       "11/21/2021 11:00:58 AM srilikitheswari2017@gmail.com                     SRI   \n",
       "11/21/2021 11:01:17 AM sevakbhavya5@gmail.com                         Bhavya   \n",
       "11/21/2021 11:01:28 AM erakesh086@gmail.com                           Rakesh   \n",
       "11/21/2021 11:01:39 AM navi282050@gmail.com                            Navin   \n",
       "11/21/2021 11:01:45 AM vihgneshk@gmail.com                                 K   \n",
       "11/21/2021 11:02:12 AM 143aashishyadav@gmail.com                     Aashish   \n",
       "11/21/2021 11:02:14 AM jyothsna01adki@gmail.com                     Jyothsna   \n",
       "11/21/2021 11:03:11 AM vijaypradeepr@gmail.com               Vijay Pradeep R   \n",
       "11/21/2021 11:03:15 AM vasanthivenna1999@gmail.com                     Venna   \n",
       "11/21/2021 11:04:05 AM 0228missnakil@gmail.com                        Snehal   \n",
       "11/21/2021 11:04:58 AM himashu.srivastava.1725@gmail.com            Himanshu   \n",
       "11/21/2021 11:04:59 AM riyaxclsive@gmail.com                            Riya   \n",
       "11/21/2021 11:05:24 AM naveenkumar592.t@gmail.com                     Naveen   \n",
       "11/21/2021 11:05:40 AM jinilvyas7@gmail.com                            Jinil   \n",
       "11/21/2021 11:05:54 AM ridhapanchal@gmail.com                       Vanshika   \n",
       "11/21/2021 11:05:57 AM manepallypranay98@gmail.com                    Pranay   \n",
       "11/21/2021 11:07:05 AM sivaparvathivasantha@gmail.com               vasantha   \n",
       "11/21/2021 11:07:46 AM nknavekumar@gmail.com                          Naveen   \n",
       "11/21/2021 11:08:23 AM mokshithkumar.k@innomatics.in                Mokshith   \n",
       "11/21/2021 11:08:26 AM antara0398@gmail.com                           Antara   \n",
       "11/21/2021 11:09:25 AM maheshmettireddy55@gmail.com                   Mahesh   \n",
       "11/21/2021 11:12:32 AM tanujadarapureddy2001@gmail.com                Tanuja   \n",
       "11/21/2021 11:12:51 AM inuven2008@gmail.com                          Venkata   \n",
       "11/21/2021 11:19:42 AM anshumankumaravinav2000@gmail.com            Anshuman   \n",
       "11/21/2021 11:23:04 AM aafiyathongath786@gmail.com                    Aafiya   \n",
       "11/21/2021 11:25:04 AM raghavender861reddy@gmail.com      GAJJALARAGHAVENDER   \n",
       "11/21/2021 11:25:56 AM alberto.rengifo@alum.udep.edu.pe              Alberto   \n",
       "11/21/2021 11:32:46 AM gowthamsid12@gmail.com               SIDDARDA GOWTHAM   \n",
       "11/21/2021 11:39:40 AM sundeeptroy@gmail.com                         Sundeep   \n",
       "11/21/2021 11:42:55 AM shubhamnv2@gmail.com                          shubham   \n",
       "11/21/2021 11:50:55 AM srkrishnadamarla@gmail.com           SAI RAMA KRISHNA   \n",
       "11/21/2021 11:56:06 AM saikrishna.sk820@gmail.com                 Saikrishna   \n",
       "11/21/2021 12:03:39 PM shayankumar765@gmail.com                       Shayan   \n",
       "11/21/2021 12:04:51 PM sumanthsss99@gmail.com                        Sumanth   \n",
       "11/21/2021 12:16:15 PM 20jatinvalecha@gmail.com                        Jatin   \n",
       "11/21/2021 12:19:51 PM bangarrajumuppidu@gmail.com                Bangarraju   \n",
       "11/21/2021 12:25:32 PM knowledgeisdevine20@gmail.com                   Shaik   \n",
       "11/21/2021 12:39:55 PM vattemteja@gmail.com                      Sarma V R T   \n",
       "11/21/2021 12:47:04 PM amandaahona@gmail.com                          amanda   \n",
       "11/21/2021 12:47:30 PM mahendragundeti6@gmail.com                    Gundeti   \n",
       "11/21/2021 12:48:48 PM benaliganou16@gmail.com                          Hana   \n",
       "\n",
       "                                                             Last Name  \\\n",
       "Join Time              User Email                                        \n",
       "11/21/2021 10:51:33 AM anuguganesh9@gmail.com                   GANESH   \n",
       "11/21/2021 10:51:54 AM syedwajahathusainabdi01@gmail.com   Husain Abdi   \n",
       "11/21/2021 10:53:26 AM hemanandini34@gmail.com             Hemanandini   \n",
       "11/21/2021 10:53:38 AM abkalvin762@gmail.com                    KALVIN   \n",
       "11/21/2021 10:55:01 AM kushdave1169@gmail.com                     DAVE   \n",
       "11/21/2021 10:57:39 AM kodemravikumar@gmail.com                  kodem   \n",
       "11/21/2021 10:58:35 AM parth111999@gmail.com                      Shah   \n",
       "11/21/2021 10:59:29 AM revathyjagghu@gmail.com             Govindasamy   \n",
       "11/21/2021 10:59:43 AM aashishkoduri@gmail.com                  Koduri   \n",
       "11/21/2021 11:00:20 AM sanghaviayush16@gmail.com              Sanghavi   \n",
       "11/21/2021 11:00:45 AM shreyans.sugga@gmail.com                  Sugga   \n",
       "11/21/2021 11:00:56 AM sunandachandu777@gmail.com              Sunanda   \n",
       "11/21/2021 11:00:58 AM srilikitheswari2017@gmail.com           LIKITHA   \n",
       "11/21/2021 11:01:17 AM sevakbhavya5@gmail.com                    Sevak   \n",
       "11/21/2021 11:01:28 AM erakesh086@gmail.com                       Eega   \n",
       "11/21/2021 11:01:39 AM navi282050@gmail.com                          W   \n",
       "11/21/2021 11:01:45 AM vihgneshk@gmail.com                    Vihgnesh   \n",
       "11/21/2021 11:02:12 AM 143aashishyadav@gmail.com                 Yadav   \n",
       "11/21/2021 11:02:14 AM jyothsna01adki@gmail.com                   Adki   \n",
       "11/21/2021 11:03:11 AM vijaypradeepr@gmail.com                     NaN   \n",
       "11/21/2021 11:03:15 AM vasanthivenna1999@gmail.com            Vasanthi   \n",
       "11/21/2021 11:04:05 AM 0228missnakil@gmail.com                   Nakil   \n",
       "11/21/2021 11:04:58 AM himashu.srivastava.1725@gmail.com    Srivastava   \n",
       "11/21/2021 11:04:59 AM riyaxclsive@gmail.com                    Kamble   \n",
       "11/21/2021 11:05:24 AM naveenkumar592.t@gmail.com                    T   \n",
       "11/21/2021 11:05:40 AM jinilvyas7@gmail.com                       Vyas   \n",
       "11/21/2021 11:05:54 AM ridhapanchal@gmail.com                  Panchal   \n",
       "11/21/2021 11:05:57 AM manepallypranay98@gmail.com           Manepally   \n",
       "11/21/2021 11:07:05 AM sivaparvathivasantha@gmail.com     Sivaparvathi   \n",
       "11/21/2021 11:07:46 AM nknavekumar@gmail.com                     Kumar   \n",
       "11/21/2021 11:08:23 AM mokshithkumar.k@innomatics.in             Kumar   \n",
       "11/21/2021 11:08:26 AM antara0398@gmail.com                     Biswas   \n",
       "11/21/2021 11:09:25 AM maheshmettireddy55@gmail.com        Metti reddy   \n",
       "11/21/2021 11:12:32 AM tanujadarapureddy2001@gmail.com     Darapureddy   \n",
       "11/21/2021 11:12:51 AM inuven2008@gmail.com                   Inumella   \n",
       "11/21/2021 11:19:42 AM anshumankumaravinav2000@gmail.com           NaN   \n",
       "11/21/2021 11:23:04 AM aafiyathongath786@gmail.com            Thongath   \n",
       "11/21/2021 11:25:04 AM raghavender861reddy@gmail.com             Reddy   \n",
       "11/21/2021 11:25:56 AM alberto.rengifo@alum.udep.edu.pe        Rengifo   \n",
       "11/21/2021 11:32:46 AM gowthamsid12@gmail.com              JAGABATTINA   \n",
       "11/21/2021 11:39:40 AM sundeeptroy@gmail.com                      Troy   \n",
       "11/21/2021 11:42:55 AM shubhamnv2@gmail.com                       Vedi   \n",
       "11/21/2021 11:50:55 AM srkrishnadamarla@gmail.com              DAMARLA   \n",
       "11/21/2021 11:56:06 AM saikrishna.sk820@gmail.com                Katta   \n",
       "11/21/2021 12:03:39 PM shayankumar765@gmail.com                  Kumar   \n",
       "11/21/2021 12:04:51 PM sumanthsss99@gmail.com             Balabhadruni   \n",
       "11/21/2021 12:16:15 PM 20jatinvalecha@gmail.com                Valecha   \n",
       "11/21/2021 12:19:51 PM bangarrajumuppidu@gmail.com             muppidi   \n",
       "11/21/2021 12:25:32 PM knowledgeisdevine20@gmail.com            Shaanu   \n",
       "11/21/2021 12:39:55 PM vattemteja@gmail.com                     Vattem   \n",
       "11/21/2021 12:47:04 PM amandaahona@gmail.com                    flavia   \n",
       "11/21/2021 12:47:30 PM mahendragundeti6@gmail.com             Mahendra   \n",
       "11/21/2021 12:48:48 PM benaliganou16@gmail.com                 Ben Ali   \n",
       "\n",
       "                                                         Registration Time  \\\n",
       "Join Time              User Email                                            \n",
       "11/21/2021 10:51:33 AM anuguganesh9@gmail.com             20-11-2021 11:08   \n",
       "11/21/2021 10:51:54 AM syedwajahathusainabdi01@gmail.com  20-11-2021 11:02   \n",
       "11/21/2021 10:53:26 AM hemanandini34@gmail.com            19-11-2021 18:19   \n",
       "11/21/2021 10:53:38 AM abkalvin762@gmail.com              20-11-2021 10:16   \n",
       "11/21/2021 10:55:01 AM kushdave1169@gmail.com             20-11-2021 11:05   \n",
       "11/21/2021 10:57:39 AM kodemravikumar@gmail.com           20-11-2021 10:03   \n",
       "11/21/2021 10:58:35 AM parth111999@gmail.com              19-11-2021 19:30   \n",
       "11/21/2021 10:59:29 AM revathyjagghu@gmail.com            20-11-2021 10:35   \n",
       "11/21/2021 10:59:43 AM aashishkoduri@gmail.com            20-11-2021 10:44   \n",
       "11/21/2021 11:00:20 AM sanghaviayush16@gmail.com          20-11-2021 10:14   \n",
       "11/21/2021 11:00:45 AM shreyans.sugga@gmail.com           19-11-2021 19:23   \n",
       "11/21/2021 11:00:56 AM sunandachandu777@gmail.com         20-11-2021 18:21   \n",
       "11/21/2021 11:00:58 AM srilikitheswari2017@gmail.com      19-11-2021 17:34   \n",
       "11/21/2021 11:01:17 AM sevakbhavya5@gmail.com             21-11-2021 11:01   \n",
       "11/21/2021 11:01:28 AM erakesh086@gmail.com               20-11-2021 10:18   \n",
       "11/21/2021 11:01:39 AM navi282050@gmail.com               19-11-2021 16:23   \n",
       "11/21/2021 11:01:45 AM vihgneshk@gmail.com                20-11-2021 10:46   \n",
       "11/21/2021 11:02:12 AM 143aashishyadav@gmail.com          19-11-2021 11:58   \n",
       "11/21/2021 11:02:14 AM jyothsna01adki@gmail.com           19-11-2021 21:05   \n",
       "11/21/2021 11:03:11 AM vijaypradeepr@gmail.com            20-11-2021 01:58   \n",
       "11/21/2021 11:03:15 AM vasanthivenna1999@gmail.com        20-11-2021 10:59   \n",
       "11/21/2021 11:04:05 AM 0228missnakil@gmail.com            20-11-2021 10:19   \n",
       "11/21/2021 11:04:58 AM himashu.srivastava.1725@gmail.com  20-11-2021 10:16   \n",
       "11/21/2021 11:04:59 AM riyaxclsive@gmail.com              19-11-2021 18:39   \n",
       "11/21/2021 11:05:24 AM naveenkumar592.t@gmail.com         20-11-2021 11:00   \n",
       "11/21/2021 11:05:40 AM jinilvyas7@gmail.com               20-11-2021 09:49   \n",
       "11/21/2021 11:05:54 AM ridhapanchal@gmail.com             19-11-2021 18:41   \n",
       "11/21/2021 11:05:57 AM manepallypranay98@gmail.com        21-11-2021 08:15   \n",
       "11/21/2021 11:07:05 AM sivaparvathivasantha@gmail.com     20-11-2021 11:01   \n",
       "11/21/2021 11:07:46 AM nknavekumar@gmail.com              20-11-2021 09:19   \n",
       "11/21/2021 11:08:23 AM mokshithkumar.k@innomatics.in      20-11-2021 11:49   \n",
       "11/21/2021 11:08:26 AM antara0398@gmail.com               20-11-2021 10:49   \n",
       "11/21/2021 11:09:25 AM maheshmettireddy55@gmail.com       19-11-2021 16:10   \n",
       "11/21/2021 11:12:32 AM tanujadarapureddy2001@gmail.com    21-11-2021 11:12   \n",
       "11/21/2021 11:12:51 AM inuven2008@gmail.com               20-11-2021 10:45   \n",
       "11/21/2021 11:19:42 AM anshumankumaravinav2000@gmail.com  20-11-2021 10:44   \n",
       "11/21/2021 11:23:04 AM aafiyathongath786@gmail.com        19-11-2021 22:53   \n",
       "11/21/2021 11:25:04 AM raghavender861reddy@gmail.com      20-11-2021 15:57   \n",
       "11/21/2021 11:25:56 AM alberto.rengifo@alum.udep.edu.pe   20-11-2021 11:38   \n",
       "11/21/2021 11:32:46 AM gowthamsid12@gmail.com             20-11-2021 11:11   \n",
       "11/21/2021 11:39:40 AM sundeeptroy@gmail.com              20-11-2021 11:06   \n",
       "11/21/2021 11:42:55 AM shubhamnv2@gmail.com               20-11-2021 11:07   \n",
       "11/21/2021 11:50:55 AM srkrishnadamarla@gmail.com         20-11-2021 10:17   \n",
       "11/21/2021 11:56:06 AM saikrishna.sk820@gmail.com         20-11-2021 10:21   \n",
       "11/21/2021 12:03:39 PM shayankumar765@gmail.com           20-11-2021 10:40   \n",
       "11/21/2021 12:04:51 PM sumanthsss99@gmail.com             19-11-2021 23:05   \n",
       "11/21/2021 12:16:15 PM 20jatinvalecha@gmail.com           20-11-2021 10:59   \n",
       "11/21/2021 12:19:51 PM bangarrajumuppidu@gmail.com        20-11-2021 11:03   \n",
       "11/21/2021 12:25:32 PM knowledgeisdevine20@gmail.com      19-11-2021 10:34   \n",
       "11/21/2021 12:39:55 PM vattemteja@gmail.com               20-11-2021 10:55   \n",
       "11/21/2021 12:47:04 PM amandaahona@gmail.com              20-11-2021 17:33   \n",
       "11/21/2021 12:47:30 PM mahendragundeti6@gmail.com         20-11-2021 10:29   \n",
       "11/21/2021 12:48:48 PM benaliganou16@gmail.com            20-11-2021 04:24   \n",
       "\n",
       "                                                                   Phone  \\\n",
       "Join Time              User Email                                          \n",
       "11/21/2021 10:51:33 AM anuguganesh9@gmail.com                 7013888490   \n",
       "11/21/2021 10:51:54 AM syedwajahathusainabdi01@gmail.com      6391694444   \n",
       "11/21/2021 10:53:26 AM hemanandini34@gmail.com                9666063848   \n",
       "11/21/2021 10:53:38 AM abkalvin762@gmail.com                  9944344159   \n",
       "11/21/2021 10:55:01 AM kushdave1169@gmail.com                 9016951161   \n",
       "11/21/2021 10:57:39 AM kodemravikumar@gmail.com               8500391114   \n",
       "11/21/2021 10:58:35 AM parth111999@gmail.com                  9967322355   \n",
       "11/21/2021 10:59:29 AM revathyjagghu@gmail.com                9486301703   \n",
       "11/21/2021 10:59:43 AM aashishkoduri@gmail.com                7013401801   \n",
       "11/21/2021 11:00:20 AM sanghaviayush16@gmail.com              7045779481   \n",
       "11/21/2021 11:00:45 AM shreyans.sugga@gmail.com               9164198056   \n",
       "11/21/2021 11:00:56 AM sunandachandu777@gmail.com             6309337923   \n",
       "11/21/2021 11:00:58 AM srilikitheswari2017@gmail.com          9603582386   \n",
       "11/21/2021 11:01:17 AM sevakbhavya5@gmail.com                 6353117261   \n",
       "11/21/2021 11:01:28 AM erakesh086@gmail.com                   9398025527   \n",
       "11/21/2021 11:01:39 AM navi282050@gmail.com                   6383405018   \n",
       "11/21/2021 11:01:45 AM vihgneshk@gmail.com                    9361298530   \n",
       "11/21/2021 11:02:12 AM 143aashishyadav@gmail.com              8433866008   \n",
       "11/21/2021 11:02:14 AM jyothsna01adki@gmail.com               9121454094   \n",
       "11/21/2021 11:03:11 AM vijaypradeepr@gmail.com                9840403800   \n",
       "11/21/2021 11:03:15 AM vasanthivenna1999@gmail.com            6281651740   \n",
       "11/21/2021 11:04:05 AM 0228missnakil@gmail.com                9503246995   \n",
       "11/21/2021 11:04:58 AM himashu.srivastava.1725@gmail.com      7267037336   \n",
       "11/21/2021 11:04:59 AM riyaxclsive@gmail.com                  9075107399   \n",
       "11/21/2021 11:05:24 AM naveenkumar592.t@gmail.com             9952201603   \n",
       "11/21/2021 11:05:40 AM jinilvyas7@gmail.com                   8879561771   \n",
       "11/21/2021 11:05:54 AM ridhapanchal@gmail.com                 8368410022   \n",
       "11/21/2021 11:05:57 AM manepallypranay98@gmail.com            9959623900   \n",
       "11/21/2021 11:07:05 AM sivaparvathivasantha@gmail.com         8106575429   \n",
       "11/21/2021 11:07:46 AM nknavekumar@gmail.com                  9592933798   \n",
       "11/21/2021 11:08:23 AM mokshithkumar.k@innomatics.in          7670964969   \n",
       "11/21/2021 11:08:26 AM antara0398@gmail.com                   7680927725   \n",
       "11/21/2021 11:09:25 AM maheshmettireddy55@gmail.com           9398242153   \n",
       "11/21/2021 11:12:32 AM tanujadarapureddy2001@gmail.com        9640243056   \n",
       "11/21/2021 11:12:51 AM inuven2008@gmail.com                   9908972000   \n",
       "11/21/2021 11:19:42 AM anshumankumaravinav2000@gmail.com      7488507821   \n",
       "11/21/2021 11:23:04 AM aafiyathongath786@gmail.com            8424870594   \n",
       "11/21/2021 11:25:04 AM raghavender861reddy@gmail.com      '+918328486501   \n",
       "11/21/2021 11:25:56 AM alberto.rengifo@alum.udep.edu.pe    '+51993749537   \n",
       "11/21/2021 11:32:46 AM gowthamsid12@gmail.com                 7013734035   \n",
       "11/21/2021 11:39:40 AM sundeeptroy@gmail.com                  7287038332   \n",
       "11/21/2021 11:42:55 AM shubhamnv2@gmail.com                   8796015937   \n",
       "11/21/2021 11:50:55 AM srkrishnadamarla@gmail.com             8179085005   \n",
       "11/21/2021 11:56:06 AM saikrishna.sk820@gmail.com             8897122981   \n",
       "11/21/2021 12:03:39 PM shayankumar765@gmail.com               9661400109   \n",
       "11/21/2021 12:04:51 PM sumanthsss99@gmail.com                 9177341678   \n",
       "11/21/2021 12:16:15 PM 20jatinvalecha@gmail.com               8958677901   \n",
       "11/21/2021 12:19:51 PM bangarrajumuppidu@gmail.com            9398390862   \n",
       "11/21/2021 12:25:32 PM knowledgeisdevine20@gmail.com          8978685608   \n",
       "11/21/2021 12:39:55 PM vattemteja@gmail.com                   9160535367   \n",
       "11/21/2021 12:47:04 PM amandaahona@gmail.com                   716869814   \n",
       "11/21/2021 12:47:30 PM mahendragundeti6@gmail.com             8333830128   \n",
       "11/21/2021 12:48:48 PM benaliganou16@gmail.com                55 382 691   \n",
       "\n",
       "                                                         Duration (Minutes)_x  \\\n",
       "Join Time              User Email                                               \n",
       "11/21/2021 10:51:33 AM anuguganesh9@gmail.com                           131.0   \n",
       "11/21/2021 10:51:54 AM syedwajahathusainabdi01@gmail.com                130.0   \n",
       "11/21/2021 10:53:26 AM hemanandini34@gmail.com                           83.0   \n",
       "11/21/2021 10:53:38 AM abkalvin762@gmail.com                            129.0   \n",
       "11/21/2021 10:55:01 AM kushdave1169@gmail.com                           128.0   \n",
       "11/21/2021 10:57:39 AM kodemravikumar@gmail.com                         126.0   \n",
       "11/21/2021 10:58:35 AM parth111999@gmail.com                            124.0   \n",
       "11/21/2021 10:59:29 AM revathyjagghu@gmail.com                          123.0   \n",
       "11/21/2021 10:59:43 AM aashishkoduri@gmail.com                           72.0   \n",
       "11/21/2021 11:00:20 AM sanghaviayush16@gmail.com                        122.0   \n",
       "11/21/2021 11:00:45 AM shreyans.sugga@gmail.com                         122.0   \n",
       "11/21/2021 11:00:56 AM sunandachandu777@gmail.com                        52.0   \n",
       "11/21/2021 11:00:58 AM srilikitheswari2017@gmail.com                    122.0   \n",
       "11/21/2021 11:01:17 AM sevakbhavya5@gmail.com                             1.0   \n",
       "11/21/2021 11:01:28 AM erakesh086@gmail.com                             117.0   \n",
       "11/21/2021 11:01:39 AM navi282050@gmail.com                             121.0   \n",
       "11/21/2021 11:01:45 AM vihgneshk@gmail.com                               75.0   \n",
       "11/21/2021 11:02:12 AM 143aashishyadav@gmail.com                          7.0   \n",
       "11/21/2021 11:02:14 AM jyothsna01adki@gmail.com                         121.0   \n",
       "11/21/2021 11:03:11 AM vijaypradeepr@gmail.com                          121.0   \n",
       "11/21/2021 11:03:15 AM vasanthivenna1999@gmail.com                      120.0   \n",
       "11/21/2021 11:04:05 AM 0228missnakil@gmail.com                           68.0   \n",
       "11/21/2021 11:04:58 AM himashu.srivastava.1725@gmail.com                118.0   \n",
       "11/21/2021 11:04:59 AM riyaxclsive@gmail.com                             74.0   \n",
       "11/21/2021 11:05:24 AM naveenkumar592.t@gmail.com                        56.0   \n",
       "11/21/2021 11:05:40 AM jinilvyas7@gmail.com                             117.0   \n",
       "11/21/2021 11:05:54 AM ridhapanchal@gmail.com                           116.0   \n",
       "11/21/2021 11:05:57 AM manepallypranay98@gmail.com                       78.0   \n",
       "11/21/2021 11:07:05 AM sivaparvathivasantha@gmail.com                   116.0   \n",
       "11/21/2021 11:07:46 AM nknavekumar@gmail.com                            113.0   \n",
       "11/21/2021 11:08:23 AM mokshithkumar.k@innomatics.in                    114.0   \n",
       "11/21/2021 11:08:26 AM antara0398@gmail.com                             114.0   \n",
       "11/21/2021 11:09:25 AM maheshmettireddy55@gmail.com                     113.0   \n",
       "11/21/2021 11:12:32 AM tanujadarapureddy2001@gmail.com                  110.0   \n",
       "11/21/2021 11:12:51 AM inuven2008@gmail.com                              29.0   \n",
       "11/21/2021 11:19:42 AM anshumankumaravinav2000@gmail.com                103.0   \n",
       "11/21/2021 11:23:04 AM aafiyathongath786@gmail.com                       99.0   \n",
       "11/21/2021 11:25:04 AM raghavender861reddy@gmail.com                     56.0   \n",
       "11/21/2021 11:25:56 AM alberto.rengifo@alum.udep.edu.pe                   6.0   \n",
       "11/21/2021 11:32:46 AM gowthamsid12@gmail.com                             2.0   \n",
       "11/21/2021 11:39:40 AM sundeeptroy@gmail.com                             83.0   \n",
       "11/21/2021 11:42:55 AM shubhamnv2@gmail.com                              41.0   \n",
       "11/21/2021 11:50:55 AM srkrishnadamarla@gmail.com                        72.0   \n",
       "11/21/2021 11:56:06 AM saikrishna.sk820@gmail.com                        66.0   \n",
       "11/21/2021 12:03:39 PM shayankumar765@gmail.com                          44.0   \n",
       "11/21/2021 12:04:51 PM sumanthsss99@gmail.com                            57.0   \n",
       "11/21/2021 12:16:15 PM 20jatinvalecha@gmail.com                          41.0   \n",
       "11/21/2021 12:19:51 PM bangarrajumuppidu@gmail.com                       42.0   \n",
       "11/21/2021 12:25:32 PM knowledgeisdevine20@gmail.com                     28.0   \n",
       "11/21/2021 12:39:55 PM vattemteja@gmail.com                              23.0   \n",
       "11/21/2021 12:47:04 PM amandaahona@gmail.com                              1.0   \n",
       "11/21/2021 12:47:30 PM mahendragundeti6@gmail.com                       107.0   \n",
       "11/21/2021 12:48:48 PM benaliganou16@gmail.com                           93.0   \n",
       "\n",
       "                                                                           Name (Original Name)  \\\n",
       "Join Time              User Email                                                                 \n",
       "11/21/2021 10:51:33 AM anuguganesh9@gmail.com                       GANESH ANUGU (ANUGU GANESH)   \n",
       "11/21/2021 10:51:54 AM syedwajahathusainabdi01@gmail.com               Syed Wajahat Husain Abdi   \n",
       "11/21/2021 10:53:26 AM hemanandini34@gmail.com            Hemanandini (Hemanandini Hemanandini)   \n",
       "11/21/2021 10:53:38 AM abkalvin762@gmail.com                                      ANTONY KALVIN   \n",
       "11/21/2021 10:55:01 AM kushdave1169@gmail.com                                         KUSH DAVE   \n",
       "11/21/2021 10:57:39 AM kodemravikumar@gmail.com                                      Ravi kodem   \n",
       "11/21/2021 10:58:35 AM parth111999@gmail.com                                         Parth Shah   \n",
       "11/21/2021 10:59:29 AM revathyjagghu@gmail.com                              Revathy Govindasamy   \n",
       "11/21/2021 10:59:43 AM aashishkoduri@gmail.com                                   Aashish Koduri   \n",
       "11/21/2021 11:00:20 AM sanghaviayush16@gmail.com                                 Ayush Sanghavi   \n",
       "11/21/2021 11:00:45 AM shreyans.sugga@gmail.com                                  Shreyans Sugga   \n",
       "11/21/2021 11:00:56 AM sunandachandu777@gmail.com                                Jorige Sunanda   \n",
       "11/21/2021 11:00:58 AM srilikitheswari2017@gmail.com                                SRI LIKITHA   \n",
       "11/21/2021 11:01:17 AM sevakbhavya5@gmail.com                                      Bhavya Sevak   \n",
       "11/21/2021 11:01:28 AM erakesh086@gmail.com                                         Rakesh Eega   \n",
       "11/21/2021 11:01:39 AM navi282050@gmail.com                                             Navin W   \n",
       "11/21/2021 11:01:45 AM vihgneshk@gmail.com                                           K Vihgnesh   \n",
       "11/21/2021 11:02:12 AM 143aashishyadav@gmail.com                                  Aashish Yadav   \n",
       "11/21/2021 11:02:14 AM jyothsna01adki@gmail.com                                   Jyothsna Adki   \n",
       "11/21/2021 11:03:11 AM vijaypradeepr@gmail.com                                  Vijay Pradeep R   \n",
       "11/21/2021 11:03:15 AM vasanthivenna1999@gmail.com                               Venna Vasanthi   \n",
       "11/21/2021 11:04:05 AM 0228missnakil@gmail.com                                     Snehal Nakil   \n",
       "11/21/2021 11:04:58 AM himashu.srivastava.1725@gmail.com                    Himanshu Srivastava   \n",
       "11/21/2021 11:04:59 AM riyaxclsive@gmail.com                                        Riya Kamble   \n",
       "11/21/2021 11:05:24 AM naveenkumar592.t@gmail.com                                      Naveen T   \n",
       "11/21/2021 11:05:40 AM jinilvyas7@gmail.com                                          Jinil Vyas   \n",
       "11/21/2021 11:05:54 AM ridhapanchal@gmail.com                       Vanshika (Vanshika Panchal)   \n",
       "11/21/2021 11:05:57 AM manepallypranay98@gmail.com                             Pranay Manepally   \n",
       "11/21/2021 11:07:05 AM sivaparvathivasantha@gmail.com                     vasantha Sivaparvathi   \n",
       "11/21/2021 11:07:46 AM nknavekumar@gmail.com                                       Naveen Kumar   \n",
       "11/21/2021 11:08:23 AM mokshithkumar.k@innomatics.in                             Mokshith Kumar   \n",
       "11/21/2021 11:08:26 AM antara0398@gmail.com                                       Antara Biswas   \n",
       "11/21/2021 11:09:25 AM maheshmettireddy55@gmail.com                          Mahesh Metti reddy   \n",
       "11/21/2021 11:12:32 AM tanujadarapureddy2001@gmail.com                       Tanuja Darapureddy   \n",
       "11/21/2021 11:12:51 AM inuven2008@gmail.com                                    Venkata Inumella   \n",
       "11/21/2021 11:19:42 AM anshumankumaravinav2000@gmail.com                               Anshuman   \n",
       "11/21/2021 11:23:04 AM aafiyathongath786@gmail.com                              Aafiya Thongath   \n",
       "11/21/2021 11:25:04 AM raghavender861reddy@gmail.com                   GAJJALARAGHAVENDER Reddy   \n",
       "11/21/2021 11:25:56 AM alberto.rengifo@alum.udep.edu.pe                         Alberto Rengifo   \n",
       "11/21/2021 11:32:46 AM gowthamsid12@gmail.com                      SIDDARDA GOWTHAM JAGABATTINA   \n",
       "11/21/2021 11:39:40 AM sundeeptroy@gmail.com                                       Sundeep Troy   \n",
       "11/21/2021 11:42:55 AM shubhamnv2@gmail.com                                        shubham Vedi   \n",
       "11/21/2021 11:50:55 AM srkrishnadamarla@gmail.com                      SAI RAMA KRISHNA DAMARLA   \n",
       "11/21/2021 11:56:06 AM saikrishna.sk820@gmail.com                              Saikrishna Katta   \n",
       "11/21/2021 12:03:39 PM shayankumar765@gmail.com                                    Shayan Kumar   \n",
       "11/21/2021 12:04:51 PM sumanthsss99@gmail.com                  Sumanth B (Sumanth Balabhadruni)   \n",
       "11/21/2021 12:16:15 PM 20jatinvalecha@gmail.com                                   Jatin Valecha   \n",
       "11/21/2021 12:19:51 PM bangarrajumuppidu@gmail.com                           Bangarraju muppidi   \n",
       "11/21/2021 12:25:32 PM knowledgeisdevine20@gmail.com                               Shaik Shaanu   \n",
       "11/21/2021 12:39:55 PM vattemteja@gmail.com                                  Sarma V R T Vattem   \n",
       "11/21/2021 12:47:04 PM amandaahona@gmail.com                                      amanda flavia   \n",
       "11/21/2021 12:47:30 PM mahendragundeti6@gmail.com                              Gundeti Mahendra   \n",
       "11/21/2021 12:48:48 PM benaliganou16@gmail.com                                     Hana Ben Ali   \n",
       "\n",
       "                                                          Percentage  \\\n",
       "Join Time              User Email                                      \n",
       "11/21/2021 10:51:33 AM anuguganesh9@gmail.com              99.242424   \n",
       "11/21/2021 10:51:54 AM syedwajahathusainabdi01@gmail.com   98.484848   \n",
       "11/21/2021 10:53:26 AM hemanandini34@gmail.com             62.878788   \n",
       "11/21/2021 10:53:38 AM abkalvin762@gmail.com               97.727273   \n",
       "11/21/2021 10:55:01 AM kushdave1169@gmail.com              96.969697   \n",
       "11/21/2021 10:57:39 AM kodemravikumar@gmail.com            95.454545   \n",
       "11/21/2021 10:58:35 AM parth111999@gmail.com               93.939394   \n",
       "11/21/2021 10:59:29 AM revathyjagghu@gmail.com             93.181818   \n",
       "11/21/2021 10:59:43 AM aashishkoduri@gmail.com             54.545455   \n",
       "11/21/2021 11:00:20 AM sanghaviayush16@gmail.com           92.424242   \n",
       "11/21/2021 11:00:45 AM shreyans.sugga@gmail.com            92.424242   \n",
       "11/21/2021 11:00:56 AM sunandachandu777@gmail.com          39.393939   \n",
       "11/21/2021 11:00:58 AM srilikitheswari2017@gmail.com       92.424242   \n",
       "11/21/2021 11:01:17 AM sevakbhavya5@gmail.com               0.757576   \n",
       "11/21/2021 11:01:28 AM erakesh086@gmail.com                88.636364   \n",
       "11/21/2021 11:01:39 AM navi282050@gmail.com                91.666667   \n",
       "11/21/2021 11:01:45 AM vihgneshk@gmail.com                 56.818182   \n",
       "11/21/2021 11:02:12 AM 143aashishyadav@gmail.com            5.303030   \n",
       "11/21/2021 11:02:14 AM jyothsna01adki@gmail.com            91.666667   \n",
       "11/21/2021 11:03:11 AM vijaypradeepr@gmail.com             91.666667   \n",
       "11/21/2021 11:03:15 AM vasanthivenna1999@gmail.com         90.909091   \n",
       "11/21/2021 11:04:05 AM 0228missnakil@gmail.com             51.515152   \n",
       "11/21/2021 11:04:58 AM himashu.srivastava.1725@gmail.com   89.393939   \n",
       "11/21/2021 11:04:59 AM riyaxclsive@gmail.com               56.060606   \n",
       "11/21/2021 11:05:24 AM naveenkumar592.t@gmail.com          42.424242   \n",
       "11/21/2021 11:05:40 AM jinilvyas7@gmail.com                88.636364   \n",
       "11/21/2021 11:05:54 AM ridhapanchal@gmail.com              87.878788   \n",
       "11/21/2021 11:05:57 AM manepallypranay98@gmail.com         59.090909   \n",
       "11/21/2021 11:07:05 AM sivaparvathivasantha@gmail.com      87.878788   \n",
       "11/21/2021 11:07:46 AM nknavekumar@gmail.com               85.606061   \n",
       "11/21/2021 11:08:23 AM mokshithkumar.k@innomatics.in       86.363636   \n",
       "11/21/2021 11:08:26 AM antara0398@gmail.com                86.363636   \n",
       "11/21/2021 11:09:25 AM maheshmettireddy55@gmail.com        85.606061   \n",
       "11/21/2021 11:12:32 AM tanujadarapureddy2001@gmail.com     83.333333   \n",
       "11/21/2021 11:12:51 AM inuven2008@gmail.com                21.969697   \n",
       "11/21/2021 11:19:42 AM anshumankumaravinav2000@gmail.com   78.030303   \n",
       "11/21/2021 11:23:04 AM aafiyathongath786@gmail.com         75.000000   \n",
       "11/21/2021 11:25:04 AM raghavender861reddy@gmail.com       42.424242   \n",
       "11/21/2021 11:25:56 AM alberto.rengifo@alum.udep.edu.pe     4.545455   \n",
       "11/21/2021 11:32:46 AM gowthamsid12@gmail.com               1.515152   \n",
       "11/21/2021 11:39:40 AM sundeeptroy@gmail.com               62.878788   \n",
       "11/21/2021 11:42:55 AM shubhamnv2@gmail.com                31.060606   \n",
       "11/21/2021 11:50:55 AM srkrishnadamarla@gmail.com          54.545455   \n",
       "11/21/2021 11:56:06 AM saikrishna.sk820@gmail.com          50.000000   \n",
       "11/21/2021 12:03:39 PM shayankumar765@gmail.com            33.333333   \n",
       "11/21/2021 12:04:51 PM sumanthsss99@gmail.com              43.181818   \n",
       "11/21/2021 12:16:15 PM 20jatinvalecha@gmail.com            31.060606   \n",
       "11/21/2021 12:19:51 PM bangarrajumuppidu@gmail.com         31.818182   \n",
       "11/21/2021 12:25:32 PM knowledgeisdevine20@gmail.com       21.212121   \n",
       "11/21/2021 12:39:55 PM vattemteja@gmail.com                17.424242   \n",
       "11/21/2021 12:47:04 PM amandaahona@gmail.com                0.757576   \n",
       "11/21/2021 12:47:30 PM mahendragundeti6@gmail.com          81.060606   \n",
       "11/21/2021 12:48:48 PM benaliganou16@gmail.com             70.454545   \n",
       "\n",
       "                                                         Approval Status  \\\n",
       "Join Time              User Email                                          \n",
       "11/21/2021 10:51:33 AM anuguganesh9@gmail.com                   approved   \n",
       "11/21/2021 10:51:54 AM syedwajahathusainabdi01@gmail.com        approved   \n",
       "11/21/2021 10:53:26 AM hemanandini34@gmail.com                  approved   \n",
       "11/21/2021 10:53:38 AM abkalvin762@gmail.com                    approved   \n",
       "11/21/2021 10:55:01 AM kushdave1169@gmail.com                   approved   \n",
       "11/21/2021 10:57:39 AM kodemravikumar@gmail.com                 approved   \n",
       "11/21/2021 10:58:35 AM parth111999@gmail.com                    approved   \n",
       "11/21/2021 10:59:29 AM revathyjagghu@gmail.com                  approved   \n",
       "11/21/2021 10:59:43 AM aashishkoduri@gmail.com                  approved   \n",
       "11/21/2021 11:00:20 AM sanghaviayush16@gmail.com                approved   \n",
       "11/21/2021 11:00:45 AM shreyans.sugga@gmail.com                 approved   \n",
       "11/21/2021 11:00:56 AM sunandachandu777@gmail.com               approved   \n",
       "11/21/2021 11:00:58 AM srilikitheswari2017@gmail.com            approved   \n",
       "11/21/2021 11:01:17 AM sevakbhavya5@gmail.com                   approved   \n",
       "11/21/2021 11:01:28 AM erakesh086@gmail.com                     approved   \n",
       "11/21/2021 11:01:39 AM navi282050@gmail.com                     approved   \n",
       "11/21/2021 11:01:45 AM vihgneshk@gmail.com                      approved   \n",
       "11/21/2021 11:02:12 AM 143aashishyadav@gmail.com                approved   \n",
       "11/21/2021 11:02:14 AM jyothsna01adki@gmail.com                 approved   \n",
       "11/21/2021 11:03:11 AM vijaypradeepr@gmail.com                  approved   \n",
       "11/21/2021 11:03:15 AM vasanthivenna1999@gmail.com              approved   \n",
       "11/21/2021 11:04:05 AM 0228missnakil@gmail.com                  approved   \n",
       "11/21/2021 11:04:58 AM himashu.srivastava.1725@gmail.com        approved   \n",
       "11/21/2021 11:04:59 AM riyaxclsive@gmail.com                    approved   \n",
       "11/21/2021 11:05:24 AM naveenkumar592.t@gmail.com               approved   \n",
       "11/21/2021 11:05:40 AM jinilvyas7@gmail.com                     approved   \n",
       "11/21/2021 11:05:54 AM ridhapanchal@gmail.com                   approved   \n",
       "11/21/2021 11:05:57 AM manepallypranay98@gmail.com              approved   \n",
       "11/21/2021 11:07:05 AM sivaparvathivasantha@gmail.com           approved   \n",
       "11/21/2021 11:07:46 AM nknavekumar@gmail.com                    approved   \n",
       "11/21/2021 11:08:23 AM mokshithkumar.k@innomatics.in            approved   \n",
       "11/21/2021 11:08:26 AM antara0398@gmail.com                     approved   \n",
       "11/21/2021 11:09:25 AM maheshmettireddy55@gmail.com             approved   \n",
       "11/21/2021 11:12:32 AM tanujadarapureddy2001@gmail.com          approved   \n",
       "11/21/2021 11:12:51 AM inuven2008@gmail.com                     approved   \n",
       "11/21/2021 11:19:42 AM anshumankumaravinav2000@gmail.com        approved   \n",
       "11/21/2021 11:23:04 AM aafiyathongath786@gmail.com              approved   \n",
       "11/21/2021 11:25:04 AM raghavender861reddy@gmail.com            approved   \n",
       "11/21/2021 11:25:56 AM alberto.rengifo@alum.udep.edu.pe         approved   \n",
       "11/21/2021 11:32:46 AM gowthamsid12@gmail.com                   approved   \n",
       "11/21/2021 11:39:40 AM sundeeptroy@gmail.com                    approved   \n",
       "11/21/2021 11:42:55 AM shubhamnv2@gmail.com                     approved   \n",
       "11/21/2021 11:50:55 AM srkrishnadamarla@gmail.com               approved   \n",
       "11/21/2021 11:56:06 AM saikrishna.sk820@gmail.com               approved   \n",
       "11/21/2021 12:03:39 PM shayankumar765@gmail.com                 approved   \n",
       "11/21/2021 12:04:51 PM sumanthsss99@gmail.com                   approved   \n",
       "11/21/2021 12:16:15 PM 20jatinvalecha@gmail.com                 approved   \n",
       "11/21/2021 12:19:51 PM bangarrajumuppidu@gmail.com              approved   \n",
       "11/21/2021 12:25:32 PM knowledgeisdevine20@gmail.com            approved   \n",
       "11/21/2021 12:39:55 PM vattemteja@gmail.com                     approved   \n",
       "11/21/2021 12:47:04 PM amandaahona@gmail.com                    approved   \n",
       "11/21/2021 12:47:30 PM mahendragundeti6@gmail.com               approved   \n",
       "11/21/2021 12:48:48 PM benaliganou16@gmail.com                  approved   \n",
       "\n",
       "                                                                      Leave Time  \\\n",
       "Join Time              User Email                                                  \n",
       "11/21/2021 10:51:33 AM anuguganesh9@gmail.com             11/21/2021 01:02:17 PM   \n",
       "11/21/2021 10:51:54 AM syedwajahathusainabdi01@gmail.com  11/21/2021 01:01:34 PM   \n",
       "11/21/2021 10:53:26 AM hemanandini34@gmail.com            11/21/2021 12:15:53 PM   \n",
       "11/21/2021 10:53:38 AM abkalvin762@gmail.com              11/21/2021 01:02:16 PM   \n",
       "11/21/2021 10:55:01 AM kushdave1169@gmail.com             11/21/2021 01:02:16 PM   \n",
       "11/21/2021 10:57:39 AM kodemravikumar@gmail.com           11/21/2021 11:05:38 AM   \n",
       "11/21/2021 10:58:35 AM parth111999@gmail.com              11/21/2021 01:02:16 PM   \n",
       "11/21/2021 10:59:29 AM revathyjagghu@gmail.com            11/21/2021 01:02:16 PM   \n",
       "11/21/2021 10:59:43 AM aashishkoduri@gmail.com            11/21/2021 12:11:36 PM   \n",
       "11/21/2021 11:00:20 AM sanghaviayush16@gmail.com          11/21/2021 01:01:28 PM   \n",
       "11/21/2021 11:00:45 AM shreyans.sugga@gmail.com           11/21/2021 01:02:16 PM   \n",
       "11/21/2021 11:00:56 AM sunandachandu777@gmail.com         11/21/2021 11:52:39 AM   \n",
       "11/21/2021 11:00:58 AM srilikitheswari2017@gmail.com      11/21/2021 12:16:49 PM   \n",
       "11/21/2021 11:01:17 AM sevakbhavya5@gmail.com             11/21/2021 11:01:38 AM   \n",
       "11/21/2021 11:01:28 AM erakesh086@gmail.com               11/21/2021 11:04:27 AM   \n",
       "11/21/2021 11:01:39 AM navi282050@gmail.com               11/21/2021 01:02:16 PM   \n",
       "11/21/2021 11:01:45 AM vihgneshk@gmail.com                11/21/2021 12:07:53 PM   \n",
       "11/21/2021 11:02:12 AM 143aashishyadav@gmail.com          11/21/2021 11:08:28 AM   \n",
       "11/21/2021 11:02:14 AM jyothsna01adki@gmail.com           11/21/2021 01:02:16 PM   \n",
       "11/21/2021 11:03:11 AM vijaypradeepr@gmail.com            11/21/2021 11:13:22 AM   \n",
       "11/21/2021 11:03:15 AM vasanthivenna1999@gmail.com        11/21/2021 11:46:22 AM   \n",
       "11/21/2021 11:04:05 AM 0228missnakil@gmail.com            11/21/2021 12:11:08 PM   \n",
       "11/21/2021 11:04:58 AM himashu.srivastava.1725@gmail.com  11/21/2021 01:02:16 PM   \n",
       "11/21/2021 11:04:59 AM riyaxclsive@gmail.com              11/21/2021 12:17:25 PM   \n",
       "11/21/2021 11:05:24 AM naveenkumar592.t@gmail.com         11/21/2021 11:59:55 AM   \n",
       "11/21/2021 11:05:40 AM jinilvyas7@gmail.com               11/21/2021 01:02:16 PM   \n",
       "11/21/2021 11:05:54 AM ridhapanchal@gmail.com             11/21/2021 01:01:37 PM   \n",
       "11/21/2021 11:05:57 AM manepallypranay98@gmail.com        11/21/2021 12:23:05 PM   \n",
       "11/21/2021 11:07:05 AM sivaparvathivasantha@gmail.com     11/21/2021 01:02:16 PM   \n",
       "11/21/2021 11:07:46 AM nknavekumar@gmail.com              11/21/2021 12:26:27 PM   \n",
       "11/21/2021 11:08:23 AM mokshithkumar.k@innomatics.in      11/21/2021 01:02:16 PM   \n",
       "11/21/2021 11:08:26 AM antara0398@gmail.com               11/21/2021 01:02:15 PM   \n",
       "11/21/2021 11:09:25 AM maheshmettireddy55@gmail.com       11/21/2021 01:02:12 PM   \n",
       "11/21/2021 11:12:32 AM tanujadarapureddy2001@gmail.com    11/21/2021 01:02:16 PM   \n",
       "11/21/2021 11:12:51 AM inuven2008@gmail.com               11/21/2021 11:41:08 AM   \n",
       "11/21/2021 11:19:42 AM anshumankumaravinav2000@gmail.com  11/21/2021 01:02:16 PM   \n",
       "11/21/2021 11:23:04 AM aafiyathongath786@gmail.com        11/21/2021 01:01:30 PM   \n",
       "11/21/2021 11:25:04 AM raghavender861reddy@gmail.com      11/21/2021 12:20:10 PM   \n",
       "11/21/2021 11:25:56 AM alberto.rengifo@alum.udep.edu.pe   11/21/2021 11:31:24 AM   \n",
       "11/21/2021 11:32:46 AM gowthamsid12@gmail.com             11/21/2021 11:34:34 AM   \n",
       "11/21/2021 11:39:40 AM sundeeptroy@gmail.com              11/21/2021 01:02:16 PM   \n",
       "11/21/2021 11:42:55 AM shubhamnv2@gmail.com               11/21/2021 11:59:03 AM   \n",
       "11/21/2021 11:50:55 AM srkrishnadamarla@gmail.com         11/21/2021 01:02:17 PM   \n",
       "11/21/2021 11:56:06 AM saikrishna.sk820@gmail.com         11/21/2021 01:01:40 PM   \n",
       "11/21/2021 12:03:39 PM shayankumar765@gmail.com           11/21/2021 12:47:39 PM   \n",
       "11/21/2021 12:04:51 PM sumanthsss99@gmail.com             11/21/2021 12:31:32 PM   \n",
       "11/21/2021 12:16:15 PM 20jatinvalecha@gmail.com           11/21/2021 12:56:41 PM   \n",
       "11/21/2021 12:19:51 PM bangarrajumuppidu@gmail.com        11/21/2021 01:01:11 PM   \n",
       "11/21/2021 12:25:32 PM knowledgeisdevine20@gmail.com      11/21/2021 12:52:41 PM   \n",
       "11/21/2021 12:39:55 PM vattemteja@gmail.com               11/21/2021 01:02:16 PM   \n",
       "11/21/2021 12:47:04 PM amandaahona@gmail.com              11/21/2021 12:47:45 PM   \n",
       "11/21/2021 12:47:30 PM mahendragundeti6@gmail.com         11/21/2021 01:02:17 PM   \n",
       "11/21/2021 12:48:48 PM benaliganou16@gmail.com            11/21/2021 01:02:17 PM   \n",
       "\n",
       "                                                          Duration (Minutes)_y  \\\n",
       "Join Time              User Email                                                \n",
       "11/21/2021 10:51:33 AM anuguganesh9@gmail.com                            131.0   \n",
       "11/21/2021 10:51:54 AM syedwajahathusainabdi01@gmail.com                 130.0   \n",
       "11/21/2021 10:53:26 AM hemanandini34@gmail.com                            83.0   \n",
       "11/21/2021 10:53:38 AM abkalvin762@gmail.com                             129.0   \n",
       "11/21/2021 10:55:01 AM kushdave1169@gmail.com                            128.0   \n",
       "11/21/2021 10:57:39 AM kodemravikumar@gmail.com                            8.0   \n",
       "11/21/2021 10:58:35 AM parth111999@gmail.com                             124.0   \n",
       "11/21/2021 10:59:29 AM revathyjagghu@gmail.com                           123.0   \n",
       "11/21/2021 10:59:43 AM aashishkoduri@gmail.com                            72.0   \n",
       "11/21/2021 11:00:20 AM sanghaviayush16@gmail.com                         122.0   \n",
       "11/21/2021 11:00:45 AM shreyans.sugga@gmail.com                          122.0   \n",
       "11/21/2021 11:00:56 AM sunandachandu777@gmail.com                         52.0   \n",
       "11/21/2021 11:00:58 AM srilikitheswari2017@gmail.com                      76.0   \n",
       "11/21/2021 11:01:17 AM sevakbhavya5@gmail.com                              1.0   \n",
       "11/21/2021 11:01:28 AM erakesh086@gmail.com                                3.0   \n",
       "11/21/2021 11:01:39 AM navi282050@gmail.com                              121.0   \n",
       "11/21/2021 11:01:45 AM vihgneshk@gmail.com                                67.0   \n",
       "11/21/2021 11:02:12 AM 143aashishyadav@gmail.com                           7.0   \n",
       "11/21/2021 11:02:14 AM jyothsna01adki@gmail.com                          121.0   \n",
       "11/21/2021 11:03:11 AM vijaypradeepr@gmail.com                            11.0   \n",
       "11/21/2021 11:03:15 AM vasanthivenna1999@gmail.com                        44.0   \n",
       "11/21/2021 11:04:05 AM 0228missnakil@gmail.com                            68.0   \n",
       "11/21/2021 11:04:58 AM himashu.srivastava.1725@gmail.com                 118.0   \n",
       "11/21/2021 11:04:59 AM riyaxclsive@gmail.com                              73.0   \n",
       "11/21/2021 11:05:24 AM naveenkumar592.t@gmail.com                         55.0   \n",
       "11/21/2021 11:05:40 AM jinilvyas7@gmail.com                              117.0   \n",
       "11/21/2021 11:05:54 AM ridhapanchal@gmail.com                            116.0   \n",
       "11/21/2021 11:05:57 AM manepallypranay98@gmail.com                        78.0   \n",
       "11/21/2021 11:07:05 AM sivaparvathivasantha@gmail.com                    116.0   \n",
       "11/21/2021 11:07:46 AM nknavekumar@gmail.com                              79.0   \n",
       "11/21/2021 11:08:23 AM mokshithkumar.k@innomatics.in                     114.0   \n",
       "11/21/2021 11:08:26 AM antara0398@gmail.com                              114.0   \n",
       "11/21/2021 11:09:25 AM maheshmettireddy55@gmail.com                      113.0   \n",
       "11/21/2021 11:12:32 AM tanujadarapureddy2001@gmail.com                   110.0   \n",
       "11/21/2021 11:12:51 AM inuven2008@gmail.com                               29.0   \n",
       "11/21/2021 11:19:42 AM anshumankumaravinav2000@gmail.com                 103.0   \n",
       "11/21/2021 11:23:04 AM aafiyathongath786@gmail.com                        99.0   \n",
       "11/21/2021 11:25:04 AM raghavender861reddy@gmail.com                      56.0   \n",
       "11/21/2021 11:25:56 AM alberto.rengifo@alum.udep.edu.pe                    6.0   \n",
       "11/21/2021 11:32:46 AM gowthamsid12@gmail.com                              2.0   \n",
       "11/21/2021 11:39:40 AM sundeeptroy@gmail.com                              83.0   \n",
       "11/21/2021 11:42:55 AM shubhamnv2@gmail.com                               17.0   \n",
       "11/21/2021 11:50:55 AM srkrishnadamarla@gmail.com                         72.0   \n",
       "11/21/2021 11:56:06 AM saikrishna.sk820@gmail.com                         66.0   \n",
       "11/21/2021 12:03:39 PM shayankumar765@gmail.com                           44.0   \n",
       "11/21/2021 12:04:51 PM sumanthsss99@gmail.com                             27.0   \n",
       "11/21/2021 12:16:15 PM 20jatinvalecha@gmail.com                           41.0   \n",
       "11/21/2021 12:19:51 PM bangarrajumuppidu@gmail.com                        42.0   \n",
       "11/21/2021 12:25:32 PM knowledgeisdevine20@gmail.com                      28.0   \n",
       "11/21/2021 12:39:55 PM vattemteja@gmail.com                               23.0   \n",
       "11/21/2021 12:47:04 PM amandaahona@gmail.com                               1.0   \n",
       "11/21/2021 12:47:30 PM mahendragundeti6@gmail.com                         15.0   \n",
       "11/21/2021 12:48:48 PM benaliganou16@gmail.com                            14.0   \n",
       "\n",
       "                                                         Guest  \\\n",
       "Join Time              User Email                                \n",
       "11/21/2021 10:51:33 AM anuguganesh9@gmail.com              Yes   \n",
       "11/21/2021 10:51:54 AM syedwajahathusainabdi01@gmail.com   Yes   \n",
       "11/21/2021 10:53:26 AM hemanandini34@gmail.com             Yes   \n",
       "11/21/2021 10:53:38 AM abkalvin762@gmail.com               Yes   \n",
       "11/21/2021 10:55:01 AM kushdave1169@gmail.com              Yes   \n",
       "11/21/2021 10:57:39 AM kodemravikumar@gmail.com            Yes   \n",
       "11/21/2021 10:58:35 AM parth111999@gmail.com               Yes   \n",
       "11/21/2021 10:59:29 AM revathyjagghu@gmail.com             Yes   \n",
       "11/21/2021 10:59:43 AM aashishkoduri@gmail.com             Yes   \n",
       "11/21/2021 11:00:20 AM sanghaviayush16@gmail.com           Yes   \n",
       "11/21/2021 11:00:45 AM shreyans.sugga@gmail.com            Yes   \n",
       "11/21/2021 11:00:56 AM sunandachandu777@gmail.com          Yes   \n",
       "11/21/2021 11:00:58 AM srilikitheswari2017@gmail.com       Yes   \n",
       "11/21/2021 11:01:17 AM sevakbhavya5@gmail.com              Yes   \n",
       "11/21/2021 11:01:28 AM erakesh086@gmail.com                Yes   \n",
       "11/21/2021 11:01:39 AM navi282050@gmail.com                Yes   \n",
       "11/21/2021 11:01:45 AM vihgneshk@gmail.com                 Yes   \n",
       "11/21/2021 11:02:12 AM 143aashishyadav@gmail.com           Yes   \n",
       "11/21/2021 11:02:14 AM jyothsna01adki@gmail.com            Yes   \n",
       "11/21/2021 11:03:11 AM vijaypradeepr@gmail.com             Yes   \n",
       "11/21/2021 11:03:15 AM vasanthivenna1999@gmail.com         Yes   \n",
       "11/21/2021 11:04:05 AM 0228missnakil@gmail.com             Yes   \n",
       "11/21/2021 11:04:58 AM himashu.srivastava.1725@gmail.com   Yes   \n",
       "11/21/2021 11:04:59 AM riyaxclsive@gmail.com               Yes   \n",
       "11/21/2021 11:05:24 AM naveenkumar592.t@gmail.com          Yes   \n",
       "11/21/2021 11:05:40 AM jinilvyas7@gmail.com                Yes   \n",
       "11/21/2021 11:05:54 AM ridhapanchal@gmail.com              Yes   \n",
       "11/21/2021 11:05:57 AM manepallypranay98@gmail.com         Yes   \n",
       "11/21/2021 11:07:05 AM sivaparvathivasantha@gmail.com      Yes   \n",
       "11/21/2021 11:07:46 AM nknavekumar@gmail.com               Yes   \n",
       "11/21/2021 11:08:23 AM mokshithkumar.k@innomatics.in       Yes   \n",
       "11/21/2021 11:08:26 AM antara0398@gmail.com                Yes   \n",
       "11/21/2021 11:09:25 AM maheshmettireddy55@gmail.com        Yes   \n",
       "11/21/2021 11:12:32 AM tanujadarapureddy2001@gmail.com     Yes   \n",
       "11/21/2021 11:12:51 AM inuven2008@gmail.com                Yes   \n",
       "11/21/2021 11:19:42 AM anshumankumaravinav2000@gmail.com   Yes   \n",
       "11/21/2021 11:23:04 AM aafiyathongath786@gmail.com         Yes   \n",
       "11/21/2021 11:25:04 AM raghavender861reddy@gmail.com       Yes   \n",
       "11/21/2021 11:25:56 AM alberto.rengifo@alum.udep.edu.pe    Yes   \n",
       "11/21/2021 11:32:46 AM gowthamsid12@gmail.com              Yes   \n",
       "11/21/2021 11:39:40 AM sundeeptroy@gmail.com               Yes   \n",
       "11/21/2021 11:42:55 AM shubhamnv2@gmail.com                Yes   \n",
       "11/21/2021 11:50:55 AM srkrishnadamarla@gmail.com          Yes   \n",
       "11/21/2021 11:56:06 AM saikrishna.sk820@gmail.com          Yes   \n",
       "11/21/2021 12:03:39 PM shayankumar765@gmail.com            Yes   \n",
       "11/21/2021 12:04:51 PM sumanthsss99@gmail.com              Yes   \n",
       "11/21/2021 12:16:15 PM 20jatinvalecha@gmail.com            Yes   \n",
       "11/21/2021 12:19:51 PM bangarrajumuppidu@gmail.com         Yes   \n",
       "11/21/2021 12:25:32 PM knowledgeisdevine20@gmail.com       Yes   \n",
       "11/21/2021 12:39:55 PM vattemteja@gmail.com                Yes   \n",
       "11/21/2021 12:47:04 PM amandaahona@gmail.com               Yes   \n",
       "11/21/2021 12:47:30 PM mahendragundeti6@gmail.com          Yes   \n",
       "11/21/2021 12:48:48 PM benaliganou16@gmail.com             Yes   \n",
       "\n",
       "                                                         Recording Consent  \n",
       "Join Time              User Email                                           \n",
       "11/21/2021 10:51:33 AM anuguganesh9@gmail.com                            Y  \n",
       "11/21/2021 10:51:54 AM syedwajahathusainabdi01@gmail.com                 Y  \n",
       "11/21/2021 10:53:26 AM hemanandini34@gmail.com                           Y  \n",
       "11/21/2021 10:53:38 AM abkalvin762@gmail.com                           NaN  \n",
       "11/21/2021 10:55:01 AM kushdave1169@gmail.com                            Y  \n",
       "11/21/2021 10:57:39 AM kodemravikumar@gmail.com                        NaN  \n",
       "11/21/2021 10:58:35 AM parth111999@gmail.com                             Y  \n",
       "11/21/2021 10:59:29 AM revathyjagghu@gmail.com                           Y  \n",
       "11/21/2021 10:59:43 AM aashishkoduri@gmail.com                           Y  \n",
       "11/21/2021 11:00:20 AM sanghaviayush16@gmail.com                         Y  \n",
       "11/21/2021 11:00:45 AM shreyans.sugga@gmail.com                          Y  \n",
       "11/21/2021 11:00:56 AM sunandachandu777@gmail.com                        Y  \n",
       "11/21/2021 11:00:58 AM srilikitheswari2017@gmail.com                     Y  \n",
       "11/21/2021 11:01:17 AM sevakbhavya5@gmail.com                          NaN  \n",
       "11/21/2021 11:01:28 AM erakesh086@gmail.com                            NaN  \n",
       "11/21/2021 11:01:39 AM navi282050@gmail.com                              Y  \n",
       "11/21/2021 11:01:45 AM vihgneshk@gmail.com                               Y  \n",
       "11/21/2021 11:02:12 AM 143aashishyadav@gmail.com                         Y  \n",
       "11/21/2021 11:02:14 AM jyothsna01adki@gmail.com                          Y  \n",
       "11/21/2021 11:03:11 AM vijaypradeepr@gmail.com                           Y  \n",
       "11/21/2021 11:03:15 AM vasanthivenna1999@gmail.com                       Y  \n",
       "11/21/2021 11:04:05 AM 0228missnakil@gmail.com                           Y  \n",
       "11/21/2021 11:04:58 AM himashu.srivastava.1725@gmail.com                 Y  \n",
       "11/21/2021 11:04:59 AM riyaxclsive@gmail.com                             Y  \n",
       "11/21/2021 11:05:24 AM naveenkumar592.t@gmail.com                        Y  \n",
       "11/21/2021 11:05:40 AM jinilvyas7@gmail.com                              Y  \n",
       "11/21/2021 11:05:54 AM ridhapanchal@gmail.com                            Y  \n",
       "11/21/2021 11:05:57 AM manepallypranay98@gmail.com                       Y  \n",
       "11/21/2021 11:07:05 AM sivaparvathivasantha@gmail.com                    Y  \n",
       "11/21/2021 11:07:46 AM nknavekumar@gmail.com                             Y  \n",
       "11/21/2021 11:08:23 AM mokshithkumar.k@innomatics.in                     Y  \n",
       "11/21/2021 11:08:26 AM antara0398@gmail.com                              Y  \n",
       "11/21/2021 11:09:25 AM maheshmettireddy55@gmail.com                      Y  \n",
       "11/21/2021 11:12:32 AM tanujadarapureddy2001@gmail.com                   Y  \n",
       "11/21/2021 11:12:51 AM inuven2008@gmail.com                              Y  \n",
       "11/21/2021 11:19:42 AM anshumankumaravinav2000@gmail.com                 Y  \n",
       "11/21/2021 11:23:04 AM aafiyathongath786@gmail.com                       Y  \n",
       "11/21/2021 11:25:04 AM raghavender861reddy@gmail.com                     Y  \n",
       "11/21/2021 11:25:56 AM alberto.rengifo@alum.udep.edu.pe                  Y  \n",
       "11/21/2021 11:32:46 AM gowthamsid12@gmail.com                            Y  \n",
       "11/21/2021 11:39:40 AM sundeeptroy@gmail.com                             Y  \n",
       "11/21/2021 11:42:55 AM shubhamnv2@gmail.com                              Y  \n",
       "11/21/2021 11:50:55 AM srkrishnadamarla@gmail.com                        Y  \n",
       "11/21/2021 11:56:06 AM saikrishna.sk820@gmail.com                        Y  \n",
       "11/21/2021 12:03:39 PM shayankumar765@gmail.com                          Y  \n",
       "11/21/2021 12:04:51 PM sumanthsss99@gmail.com                            Y  \n",
       "11/21/2021 12:16:15 PM 20jatinvalecha@gmail.com                          Y  \n",
       "11/21/2021 12:19:51 PM bangarrajumuppidu@gmail.com                       Y  \n",
       "11/21/2021 12:25:32 PM knowledgeisdevine20@gmail.com                     Y  \n",
       "11/21/2021 12:39:55 PM vattemteja@gmail.com                              Y  \n",
       "11/21/2021 12:47:04 PM amandaahona@gmail.com                             Y  \n",
       "11/21/2021 12:47:30 PM mahendragundeti6@gmail.com                      NaN  \n",
       "11/21/2021 12:48:48 PM benaliganou16@gmail.com                         NaN  "
      ]
     },
     "execution_count": 104,
     "metadata": {},
     "output_type": "execute_result"
    }
   ],
   "source": [
    "day_wise_groupby.first()"
   ]
  },
  {
   "cell_type": "code",
   "execution_count": 121,
   "metadata": {},
   "outputs": [],
   "source": [
    "merge1 = pd.merge(day1, day2, on=['User Email'], how='left')\n",
    "#merge2 = pd.merge(merge1, day3, on=['User Email'], how='left')\n",
    "#merge3 = pd.merge(merge2, day4, on=['User Email'], how='left')"
   ]
  },
  {
   "cell_type": "code",
   "execution_count": 122,
   "metadata": {},
   "outputs": [
    {
     "name": "stdout",
     "output_type": "stream",
     "text": [
      "<class 'pandas.core.frame.DataFrame'>\n",
      "Int64Index: 180 entries, 0 to 179\n",
      "Data columns (total 23 columns):\n",
      " #   Column                  Non-Null Count  Dtype  \n",
      "---  ------                  --------------  -----  \n",
      " 0   Unnamed: 0_x            180 non-null    int64  \n",
      " 1   First Name_x            180 non-null    object \n",
      " 2   Last Name_x             173 non-null    object \n",
      " 3   User Email              180 non-null    object \n",
      " 4   Registration Time_x     180 non-null    object \n",
      " 5   Phone_x                 180 non-null    object \n",
      " 6   Duration (Minutes)_x_x  180 non-null    object \n",
      " 7   Name (Original Name)_x  120 non-null    object \n",
      " 8   Percentage_x            120 non-null    float64\n",
      " 9   Unnamed: 0_y            180 non-null    int64  \n",
      " 10  First Name_y            180 non-null    object \n",
      " 11  Last Name_y             170 non-null    object \n",
      " 12  Registration Time_y     180 non-null    object \n",
      " 13  Approval Status         180 non-null    object \n",
      " 14  Phone_y                 180 non-null    object \n",
      " 15  Duration (Minutes)_x_y  180 non-null    object \n",
      " 16  Name (Original Name)_y  47 non-null     object \n",
      " 17  Join Time               47 non-null     object \n",
      " 18  Leave Time              47 non-null     object \n",
      " 19  Duration (Minutes)_y    47 non-null     float64\n",
      " 20  Guest                   47 non-null     object \n",
      " 21  Recording Consent       42 non-null     object \n",
      " 22  Percentage_y            47 non-null     float64\n",
      "dtypes: float64(3), int64(2), object(18)\n",
      "memory usage: 33.8+ KB\n"
     ]
    }
   ],
   "source": [
    "merge1.info()"
   ]
  },
  {
   "cell_type": "code",
   "execution_count": 107,
   "metadata": {
    "collapsed": true
   },
   "outputs": [
    {
     "ename": "KeyError",
     "evalue": "\"None of [Index(['Duration (Minutes)_x_x', 'Duration (Minutes)_x_y',\\n       'Duration (Minutes)_x_x', 'Duration (Minutes)_x_y'],\\n      dtype='object')] are in the [columns]\"",
     "output_type": "error",
     "traceback": [
      "\u001b[1;31m---------------------------------------------------------------------------\u001b[0m",
      "\u001b[1;31mKeyError\u001b[0m                                  Traceback (most recent call last)",
      "\u001b[1;32m<ipython-input-107-7e78f8a8dd9b>\u001b[0m in \u001b[0;36m<module>\u001b[1;34m\u001b[0m\n\u001b[1;32m----> 1\u001b[1;33m \u001b[0mdf2\u001b[0m\u001b[1;33m[\u001b[0m\u001b[1;33m[\u001b[0m\u001b[1;34m'Duration (Minutes)_x_x'\u001b[0m\u001b[1;33m,\u001b[0m\u001b[1;34m'Duration (Minutes)_x_y'\u001b[0m\u001b[1;33m,\u001b[0m\u001b[1;34m'Duration (Minutes)_x_x'\u001b[0m\u001b[1;33m,\u001b[0m\u001b[1;34m'Duration (Minutes)_x_y'\u001b[0m\u001b[1;33m]\u001b[0m\u001b[1;33m]\u001b[0m\u001b[1;33m.\u001b[0m\u001b[0mfillna\u001b[0m\u001b[1;33m(\u001b[0m\u001b[1;34m\"Absent\"\u001b[0m\u001b[1;33m,\u001b[0m\u001b[0minplace\u001b[0m\u001b[1;33m=\u001b[0m\u001b[1;32mTrue\u001b[0m\u001b[1;33m)\u001b[0m\u001b[1;33m\u001b[0m\u001b[1;33m\u001b[0m\u001b[0m\n\u001b[0m",
      "\u001b[1;32m~\\anaconda3\\lib\\site-packages\\pandas\\core\\frame.py\u001b[0m in \u001b[0;36m__getitem__\u001b[1;34m(self, key)\u001b[0m\n\u001b[0;32m   2906\u001b[0m             \u001b[1;32mif\u001b[0m \u001b[0mis_iterator\u001b[0m\u001b[1;33m(\u001b[0m\u001b[0mkey\u001b[0m\u001b[1;33m)\u001b[0m\u001b[1;33m:\u001b[0m\u001b[1;33m\u001b[0m\u001b[1;33m\u001b[0m\u001b[0m\n\u001b[0;32m   2907\u001b[0m                 \u001b[0mkey\u001b[0m \u001b[1;33m=\u001b[0m \u001b[0mlist\u001b[0m\u001b[1;33m(\u001b[0m\u001b[0mkey\u001b[0m\u001b[1;33m)\u001b[0m\u001b[1;33m\u001b[0m\u001b[1;33m\u001b[0m\u001b[0m\n\u001b[1;32m-> 2908\u001b[1;33m             \u001b[0mindexer\u001b[0m \u001b[1;33m=\u001b[0m \u001b[0mself\u001b[0m\u001b[1;33m.\u001b[0m\u001b[0mloc\u001b[0m\u001b[1;33m.\u001b[0m\u001b[0m_get_listlike_indexer\u001b[0m\u001b[1;33m(\u001b[0m\u001b[0mkey\u001b[0m\u001b[1;33m,\u001b[0m \u001b[0maxis\u001b[0m\u001b[1;33m=\u001b[0m\u001b[1;36m1\u001b[0m\u001b[1;33m,\u001b[0m \u001b[0mraise_missing\u001b[0m\u001b[1;33m=\u001b[0m\u001b[1;32mTrue\u001b[0m\u001b[1;33m)\u001b[0m\u001b[1;33m[\u001b[0m\u001b[1;36m1\u001b[0m\u001b[1;33m]\u001b[0m\u001b[1;33m\u001b[0m\u001b[1;33m\u001b[0m\u001b[0m\n\u001b[0m\u001b[0;32m   2909\u001b[0m \u001b[1;33m\u001b[0m\u001b[0m\n\u001b[0;32m   2910\u001b[0m         \u001b[1;31m# take() does not accept boolean indexers\u001b[0m\u001b[1;33m\u001b[0m\u001b[1;33m\u001b[0m\u001b[1;33m\u001b[0m\u001b[0m\n",
      "\u001b[1;32m~\\anaconda3\\lib\\site-packages\\pandas\\core\\indexing.py\u001b[0m in \u001b[0;36m_get_listlike_indexer\u001b[1;34m(self, key, axis, raise_missing)\u001b[0m\n\u001b[0;32m   1252\u001b[0m             \u001b[0mkeyarr\u001b[0m\u001b[1;33m,\u001b[0m \u001b[0mindexer\u001b[0m\u001b[1;33m,\u001b[0m \u001b[0mnew_indexer\u001b[0m \u001b[1;33m=\u001b[0m \u001b[0max\u001b[0m\u001b[1;33m.\u001b[0m\u001b[0m_reindex_non_unique\u001b[0m\u001b[1;33m(\u001b[0m\u001b[0mkeyarr\u001b[0m\u001b[1;33m)\u001b[0m\u001b[1;33m\u001b[0m\u001b[1;33m\u001b[0m\u001b[0m\n\u001b[0;32m   1253\u001b[0m \u001b[1;33m\u001b[0m\u001b[0m\n\u001b[1;32m-> 1254\u001b[1;33m         \u001b[0mself\u001b[0m\u001b[1;33m.\u001b[0m\u001b[0m_validate_read_indexer\u001b[0m\u001b[1;33m(\u001b[0m\u001b[0mkeyarr\u001b[0m\u001b[1;33m,\u001b[0m \u001b[0mindexer\u001b[0m\u001b[1;33m,\u001b[0m \u001b[0maxis\u001b[0m\u001b[1;33m,\u001b[0m \u001b[0mraise_missing\u001b[0m\u001b[1;33m=\u001b[0m\u001b[0mraise_missing\u001b[0m\u001b[1;33m)\u001b[0m\u001b[1;33m\u001b[0m\u001b[1;33m\u001b[0m\u001b[0m\n\u001b[0m\u001b[0;32m   1255\u001b[0m         \u001b[1;32mreturn\u001b[0m \u001b[0mkeyarr\u001b[0m\u001b[1;33m,\u001b[0m \u001b[0mindexer\u001b[0m\u001b[1;33m\u001b[0m\u001b[1;33m\u001b[0m\u001b[0m\n\u001b[0;32m   1256\u001b[0m \u001b[1;33m\u001b[0m\u001b[0m\n",
      "\u001b[1;32m~\\anaconda3\\lib\\site-packages\\pandas\\core\\indexing.py\u001b[0m in \u001b[0;36m_validate_read_indexer\u001b[1;34m(self, key, indexer, axis, raise_missing)\u001b[0m\n\u001b[0;32m   1296\u001b[0m             \u001b[1;32mif\u001b[0m \u001b[0mmissing\u001b[0m \u001b[1;33m==\u001b[0m \u001b[0mlen\u001b[0m\u001b[1;33m(\u001b[0m\u001b[0mindexer\u001b[0m\u001b[1;33m)\u001b[0m\u001b[1;33m:\u001b[0m\u001b[1;33m\u001b[0m\u001b[1;33m\u001b[0m\u001b[0m\n\u001b[0;32m   1297\u001b[0m                 \u001b[0maxis_name\u001b[0m \u001b[1;33m=\u001b[0m \u001b[0mself\u001b[0m\u001b[1;33m.\u001b[0m\u001b[0mobj\u001b[0m\u001b[1;33m.\u001b[0m\u001b[0m_get_axis_name\u001b[0m\u001b[1;33m(\u001b[0m\u001b[0maxis\u001b[0m\u001b[1;33m)\u001b[0m\u001b[1;33m\u001b[0m\u001b[1;33m\u001b[0m\u001b[0m\n\u001b[1;32m-> 1298\u001b[1;33m                 \u001b[1;32mraise\u001b[0m \u001b[0mKeyError\u001b[0m\u001b[1;33m(\u001b[0m\u001b[1;34mf\"None of [{key}] are in the [{axis_name}]\"\u001b[0m\u001b[1;33m)\u001b[0m\u001b[1;33m\u001b[0m\u001b[1;33m\u001b[0m\u001b[0m\n\u001b[0m\u001b[0;32m   1299\u001b[0m \u001b[1;33m\u001b[0m\u001b[0m\n\u001b[0;32m   1300\u001b[0m             \u001b[1;31m# We (temporarily) allow for some missing keys with .loc, except in\u001b[0m\u001b[1;33m\u001b[0m\u001b[1;33m\u001b[0m\u001b[1;33m\u001b[0m\u001b[0m\n",
      "\u001b[1;31mKeyError\u001b[0m: \"None of [Index(['Duration (Minutes)_x_x', 'Duration (Minutes)_x_y',\\n       'Duration (Minutes)_x_x', 'Duration (Minutes)_x_y'],\\n      dtype='object')] are in the [columns]\""
     ]
    }
   ],
   "source": [
    "df2[['Duration (Minutes)_x_x','Duration (Minutes)_x_y','Duration (Minutes)_x_x','Duration (Minutes)_x_y']].fillna(\"Absent\",inplace=True)"
   ]
  },
  {
   "cell_type": "code",
   "execution_count": 123,
   "metadata": {},
   "outputs": [
    {
     "data": {
      "text/plain": [
       "ashok.mohan3190@gmail.com         1\n",
       "avkvinothkumar2002@gmail.com      1\n",
       "bhukyavijaykumar1999@gmail.com    1\n",
       "likithareddy18kotla@gmail.com     1\n",
       "ashwinisarvade80@gmail.com        1\n",
       "                                 ..\n",
       "mahimanaik777@gmail.com           1\n",
       "falguni.jadhav2000@gmail.com      1\n",
       "krish7111992@gmail.com            1\n",
       "venkipopuri28@gmail.com           1\n",
       "latikaalawa1234@gmail.com         1\n",
       "Name: User Email, Length: 180, dtype: int64"
      ]
     },
     "execution_count": 123,
     "metadata": {},
     "output_type": "execute_result"
    }
   ],
   "source": [
    "merge1['User Email'].value_counts()"
   ]
  },
  {
   "cell_type": "markdown",
   "metadata": {},
   "source": [
    "# Candidate who attended min 30min daily"
   ]
  },
  {
   "cell_type": "code",
   "execution_count": 133,
   "metadata": {},
   "outputs": [],
   "source": [
    "day1.loc[day1['Duration (Minutes)_x']=='Absent'] = 0\n",
    "day2.loc[day2['Duration (Minutes)_x']=='Absent'] = 0"
   ]
  },
  {
   "cell_type": "code",
   "execution_count": 134,
   "metadata": {},
   "outputs": [
    {
     "data": {
      "text/plain": [
       "0         0\n",
       "1         0\n",
       "2         0\n",
       "3      78.0\n",
       "4         0\n",
       "       ... \n",
       "185       0\n",
       "186       0\n",
       "187       0\n",
       "188       0\n",
       "189       0\n",
       "Name: Duration (Minutes)_x, Length: 190, dtype: object"
      ]
     },
     "execution_count": 134,
     "metadata": {},
     "output_type": "execute_result"
    }
   ],
   "source": [
    "day2['Duration (Minutes)_x']"
   ]
  },
  {
   "cell_type": "code",
   "execution_count": 140,
   "metadata": {},
   "outputs": [],
   "source": [
    "day1['Duration (Minutes)_x']=day1['Duration (Minutes)_x'].astype('float')\n",
    "day2['Duration (Minutes)_x']=day2['Duration (Minutes)_x'].astype('float')"
   ]
  },
  {
   "cell_type": "code",
   "execution_count": 141,
   "metadata": {},
   "outputs": [],
   "source": [
    "min_attend1 = day1[day1['Duration (Minutes)_x']>10]\n",
    "min_attend2 = day2[day2['Duration (Minutes)_x']>10]\n",
    "#min_attend3 = day3[day3['Duration (Minutes)_x']>10]\n",
    "#min_attend4 = day4[day4['Duration (Minutes)_x']>10]"
   ]
  },
  {
   "cell_type": "code",
   "execution_count": 142,
   "metadata": {},
   "outputs": [
    {
     "data": {
      "text/plain": [
       "156"
      ]
     },
     "execution_count": 142,
     "metadata": {},
     "output_type": "execute_result"
    }
   ],
   "source": [
    "#len(min_attend4)+len(min_attend1)+len(min_attend2)+len(min_attend3)\n",
    "len(min_attend1)+len(min_attend2)"
   ]
  },
  {
   "cell_type": "code",
   "execution_count": 143,
   "metadata": {},
   "outputs": [],
   "source": [
    "min_attend_merge1 = pd.merge(min_attend1, min_attend2, on=['User Email'], how='inner')\n",
    "#min_attend_merge2 = pd.merge(min_attend_merge1, min_attend3, on=['User Email'], how='inner')\n",
    "#min_attend_merge3 = pd.merge(min_attend_merge2, min_attend4, on=['User Email'], how='inner')"
   ]
  },
  {
   "cell_type": "code",
   "execution_count": 144,
   "metadata": {},
   "outputs": [
    {
     "name": "stdout",
     "output_type": "stream",
     "text": [
      "<class 'pandas.core.frame.DataFrame'>\n",
      "Int64Index: 40 entries, 0 to 39\n",
      "Data columns (total 23 columns):\n",
      " #   Column                  Non-Null Count  Dtype  \n",
      "---  ------                  --------------  -----  \n",
      " 0   Unnamed: 0_x            40 non-null     int64  \n",
      " 1   First Name_x            40 non-null     object \n",
      " 2   Last Name_x             39 non-null     object \n",
      " 3   User Email              40 non-null     object \n",
      " 4   Registration Time_x     40 non-null     object \n",
      " 5   Phone_x                 40 non-null     object \n",
      " 6   Duration (Minutes)_x_x  40 non-null     float64\n",
      " 7   Name (Original Name)_x  40 non-null     object \n",
      " 8   Percentage_x            40 non-null     float64\n",
      " 9   Unnamed: 0_y            40 non-null     int64  \n",
      " 10  First Name_y            40 non-null     object \n",
      " 11  Last Name_y             38 non-null     object \n",
      " 12  Registration Time_y     40 non-null     object \n",
      " 13  Approval Status         40 non-null     object \n",
      " 14  Phone_y                 40 non-null     object \n",
      " 15  Duration (Minutes)_x_y  40 non-null     float64\n",
      " 16  Name (Original Name)_y  40 non-null     object \n",
      " 17  Join Time               40 non-null     object \n",
      " 18  Leave Time              40 non-null     object \n",
      " 19  Duration (Minutes)_y    40 non-null     float64\n",
      " 20  Guest                   40 non-null     object \n",
      " 21  Recording Consent       35 non-null     object \n",
      " 22  Percentage_y            40 non-null     float64\n",
      "dtypes: float64(5), int64(2), object(16)\n",
      "memory usage: 7.5+ KB\n"
     ]
    }
   ],
   "source": [
    "min_attend_merge1.info()"
   ]
  },
  {
   "cell_type": "code",
   "execution_count": 145,
   "metadata": {},
   "outputs": [
    {
     "data": {
      "text/plain": [
       "40"
      ]
     },
     "execution_count": 145,
     "metadata": {},
     "output_type": "execute_result"
    }
   ],
   "source": [
    "len(min_attend_merge1['User Email'].value_counts())"
   ]
  },
  {
   "cell_type": "code",
   "execution_count": 146,
   "metadata": {},
   "outputs": [],
   "source": [
    "min_attend_merge1.to_csv(\"final_certificates.csv\")"
   ]
  },
  {
   "cell_type": "code",
   "execution_count": null,
   "metadata": {},
   "outputs": [],
   "source": [
    "#onborad[~onborad['Email Address'].isin(selected.Email)]"
   ]
  },
  {
   "cell_type": "code",
   "execution_count": null,
   "metadata": {},
   "outputs": [],
   "source": []
  },
  {
   "cell_type": "code",
   "execution_count": null,
   "metadata": {},
   "outputs": [],
   "source": []
  },
  {
   "cell_type": "code",
   "execution_count": null,
   "metadata": {},
   "outputs": [],
   "source": []
  },
  {
   "cell_type": "markdown",
   "metadata": {},
   "source": [
    "# Docx to PDF\n"
   ]
  },
  {
   "cell_type": "code",
   "execution_count": 1,
   "metadata": {},
   "outputs": [],
   "source": [
    "import pandas as pd\n",
    "import numpy as np"
   ]
  },
  {
   "cell_type": "code",
   "execution_count": 4,
   "metadata": {},
   "outputs": [],
   "source": [
    "selected = pd.read_csv(r\"C:\\Users\\Kanav\\Downloads\\selected_Intern.csv\")\n",
    "onborad = pd.read_csv(r\"C:\\Users\\Kanav\\Downloads\\Onboarding Interns.csv\")"
   ]
  },
  {
   "cell_type": "code",
   "execution_count": 7,
   "metadata": {},
   "outputs": [
    {
     "data": {
      "text/plain": [
       "127"
      ]
     },
     "execution_count": 7,
     "metadata": {},
     "output_type": "execute_result"
    }
   ],
   "source": [
    "len(onborad[~onborad['Email Address'].isin(selected.Email)])"
   ]
  },
  {
   "cell_type": "code",
   "execution_count": 8,
   "metadata": {},
   "outputs": [
    {
     "name": "stdout",
     "output_type": "stream",
     "text": [
      "Collecting docx2pdf\n",
      "  Downloading docx2pdf-0.1.7-py3-none-any.whl (6.6 kB)\n",
      "Requirement already satisfied: pywin32<228,>=227; sys_platform == \"win32\" in c:\\users\\kanav\\anaconda3\\lib\\site-packages (from docx2pdf) (227)\n",
      "Requirement already satisfied: tqdm<5.0.0,>=4.41.0 in c:\\users\\kanav\\anaconda3\\lib\\site-packages (from docx2pdf) (4.50.2)\n",
      "Installing collected packages: docx2pdf\n",
      "Successfully installed docx2pdf-0.1.7\n"
     ]
    }
   ],
   "source": [
    "!pip install docx2pdf"
   ]
  },
  {
   "cell_type": "markdown",
   "metadata": {},
   "source": [
    "# Single doc file convertion"
   ]
  },
  {
   "cell_type": "code",
   "execution_count": 20,
   "metadata": {},
   "outputs": [
    {
     "data": {
      "application/vnd.jupyter.widget-view+json": {
       "model_id": "ecd3b59ecfa841089ae30b3da2b05bad",
       "version_major": 2,
       "version_minor": 0
      },
      "text/plain": [
       "HBox(children=(HTML(value=''), FloatProgress(value=0.0, max=1.0), HTML(value='')))"
      ]
     },
     "metadata": {},
     "output_type": "display_data"
    }
   ],
   "source": [
    "from docx2pdf import convert\n",
    " \n",
    "# Converting docx present in the same folder\n",
    "# as the python file\n",
    "#convert(r\"C:\\Users\\Kanav\\Downloads\\offerletter.docx\")\n",
    " \n",
    "# Converting docx specifying both the input\n",
    "# and output paths\n",
    "convert(\"Arun Kudiyal.docx\", \"./offerletter_fsd/Arun Kudiyal.pdf\")\n",
    " \n",
    "# Notice that the output filename need not be\n",
    "# the same as the docx\n",
    " \n",
    "# Bulk Conversion\n",
    "#convert(\"\")"
   ]
  },
  {
   "cell_type": "code",
   "execution_count": 13,
   "metadata": {},
   "outputs": [
    {
     "name": "stdout",
     "output_type": "stream",
     "text": [
      "Requirement already satisfied: docx in c:\\users\\kanav\\anaconda3\\lib\\site-packages (0.2.4)\n",
      "Requirement already satisfied: lxml in c:\\users\\kanav\\anaconda3\\lib\\site-packages (from docx) (4.6.1)\n",
      "Requirement already satisfied: Pillow>=2.0 in c:\\users\\kanav\\anaconda3\\lib\\site-packages (from docx) (8.0.1)\n"
     ]
    }
   ],
   "source": [
    "!pip install docx"
   ]
  },
  {
   "cell_type": "code",
   "execution_count": 2,
   "metadata": {},
   "outputs": [
    {
     "name": "stdout",
     "output_type": "stream",
     "text": [
      "\n"
     ]
    }
   ],
   "source": [
    "import docx"
   ]
  },
  {
   "cell_type": "code",
   "execution_count": 32,
   "metadata": {},
   "outputs": [
    {
     "name": "stdout",
     "output_type": "stream",
     "text": [
      "\n"
     ]
    }
   ],
   "source": [
    "doc = docx.Document(r\"C:\\Users\\Kanav\\Downloads\\offerletter.docx\")\n",
    "print(doc.paragraphs[0].text)"
   ]
  },
  {
   "cell_type": "code",
   "execution_count": 62,
   "metadata": {},
   "outputs": [
    {
     "data": {
      "text/plain": [
       "'Dea Eetakota Ramkumar,r'"
      ]
     },
     "execution_count": 62,
     "metadata": {},
     "output_type": "execute_result"
    }
   ],
   "source": [
    "doc.paragraphs[9].text"
   ]
  },
  {
   "cell_type": "code",
   "execution_count": 11,
   "metadata": {},
   "outputs": [
    {
     "data": {
      "text/html": [
       "<div>\n",
       "<style scoped>\n",
       "    .dataframe tbody tr th:only-of-type {\n",
       "        vertical-align: middle;\n",
       "    }\n",
       "\n",
       "    .dataframe tbody tr th {\n",
       "        vertical-align: top;\n",
       "    }\n",
       "\n",
       "    .dataframe thead th {\n",
       "        text-align: right;\n",
       "    }\n",
       "</style>\n",
       "<table border=\"1\" class=\"dataframe\">\n",
       "  <thead>\n",
       "    <tr style=\"text-align: right;\">\n",
       "      <th></th>\n",
       "      <th>Name</th>\n",
       "      <th>Email</th>\n",
       "      <th>Phone Number</th>\n",
       "    </tr>\n",
       "  </thead>\n",
       "  <tbody>\n",
       "    <tr>\n",
       "      <th>0</th>\n",
       "      <td>Abhijeet Laxman Patil</td>\n",
       "      <td>abhijeetpatil922@yahoo.com</td>\n",
       "      <td>8554849629</td>\n",
       "    </tr>\n",
       "    <tr>\n",
       "      <th>1</th>\n",
       "      <td>Abhijeet Subhash Raut</td>\n",
       "      <td>abhijeetraut220@gmail.com</td>\n",
       "      <td>7972023557</td>\n",
       "    </tr>\n",
       "    <tr>\n",
       "      <th>2</th>\n",
       "      <td>Aditya Kumar</td>\n",
       "      <td>adityakuumar4666@gmail.com</td>\n",
       "      <td>6203695844</td>\n",
       "    </tr>\n",
       "    <tr>\n",
       "      <th>3</th>\n",
       "      <td>Akash Dongare</td>\n",
       "      <td>akashbdongare99@gmail.com</td>\n",
       "      <td>9764814477</td>\n",
       "    </tr>\n",
       "    <tr>\n",
       "      <th>4</th>\n",
       "      <td>Akash Sharma</td>\n",
       "      <td>akashsh215@gmail.com</td>\n",
       "      <td>9821496057</td>\n",
       "    </tr>\n",
       "  </tbody>\n",
       "</table>\n",
       "</div>"
      ],
      "text/plain": [
       "                    Name                       Email  Phone Number\n",
       "0  Abhijeet Laxman Patil  abhijeetpatil922@yahoo.com    8554849629\n",
       "1  Abhijeet Subhash Raut   abhijeetraut220@gmail.com    7972023557\n",
       "2           Aditya Kumar  adityakuumar4666@gmail.com    6203695844\n",
       "3          Akash Dongare   akashbdongare99@gmail.com    9764814477\n",
       "4           Akash Sharma        akashsh215@gmail.com    9821496057"
      ]
     },
     "execution_count": 11,
     "metadata": {},
     "output_type": "execute_result"
    }
   ],
   "source": [
    "import pandas as pd\n",
    "df = pd.read_csv(r\"C:\\Users\\Kanav\\Downloads\\Intersnhip_01 - Selected Students - Sheet1.csv\")\n",
    "df.head()"
   ]
  },
  {
   "cell_type": "code",
   "execution_count": 1,
   "metadata": {},
   "outputs": [
    {
     "data": {
      "text/plain": [
       "['Jaswanthreddy Pothireddy',\n",
       " 'G N V V Sai Kumari',\n",
       " 'K Vijay Raviteja',\n",
       " 'Komali Thallapally',\n",
       " 'Angad Kadam']"
      ]
     },
     "execution_count": 1,
     "metadata": {},
     "output_type": "execute_result"
    }
   ],
   "source": [
    "a = ['Jaswanthreddy Pothireddy',\n",
    "'G N V V Sai Kumari',\n",
    "'K Vijay Raviteja',\n",
    "'Komali Thallapally',\n",
    "'Angad Kadam'\n",
    "]\n",
    "a"
   ]
  },
  {
   "cell_type": "code",
   "execution_count": 12,
   "metadata": {
    "collapsed": true
   },
   "outputs": [
    {
     "data": {
      "text/plain": [
       "['Abhijeet Laxman Patil',\n",
       " 'Abhijeet Subhash Raut',\n",
       " 'Aditya Kumar',\n",
       " 'Akash Dongare',\n",
       " 'Akash Sharma',\n",
       " 'Akshay Chavan',\n",
       " 'Amgoth Saikumar Nayak',\n",
       " 'Amit Kumar Yadav',\n",
       " 'Anant Kumawat',\n",
       " 'Anjali Bhatt',\n",
       " 'Ankit Shukla',\n",
       " 'Anmol Sonthalia',\n",
       " 'Ashwath Thadishetty',\n",
       " 'Avuladoddi Pravallika',\n",
       " 'Bhamare Vedant Vijay',\n",
       " 'Bonthu Sai Saketh Reddy',\n",
       " 'Chandra Shekar',\n",
       " 'Chandrika S',\n",
       " 'Choda Karthik',\n",
       " 'Cyrus Thapa',\n",
       " 'D Sikha Datta Reddy',\n",
       " 'Daniya Niazi',\n",
       " 'Dhanashree Laxman Paste',\n",
       " 'Dilshana V S',\n",
       " 'Divesh Rajput',\n",
       " 'Divyadharshini M',\n",
       " 'Dodda Chandu',\n",
       " 'Dodda Chandu',\n",
       " 'Farheen Shaik',\n",
       " 'Gudiyakumari Sharma',\n",
       " 'Hrishikesh Kulkarni',\n",
       " 'Ishika Pandya',\n",
       " 'Ishita Gupta',\n",
       " 'Jaswanth Yadav',\n",
       " 'Jayasree M',\n",
       " 'Jayshree Anil Mane',\n",
       " 'Jitendra Sanjay Wagh',\n",
       " 'Jyoti Ramsahai Yadav',\n",
       " 'Kartik Vashistha',\n",
       " 'Khushboo Kumari',\n",
       " 'Kiran B Ramgade',\n",
       " 'Kiran Puram',\n",
       " 'Krishna Murari',\n",
       " 'Kushagra Sharma',\n",
       " 'Latesh Nagpure',\n",
       " 'Leela Naga Sai Phanindra Yandrapu',\n",
       " 'Maganti Harish',\n",
       " 'Malaviya Priyanshu',\n",
       " 'Malay Dewangan',\n",
       " 'Manish Kumar Yadav',\n",
       " 'Minal Devpriya',\n",
       " 'Mohamed Samsu Bhasith',\n",
       " 'Mohd Usama',\n",
       " 'Mohit Abhimanyu Rajput',\n",
       " 'Mukesh Kumar Keshri',\n",
       " 'Nachiket Suhas Chaudhari',\n",
       " 'Naman Jain',\n",
       " 'Nikhil Fengse',\n",
       " 'Nikita Bhoskar',\n",
       " 'Nukala Venkata Supriya',\n",
       " 'Palash Das',\n",
       " 'Parvez Khan',\n",
       " 'Pathan Sajid Rouf',\n",
       " 'Payal Kumari Saini',\n",
       " 'Prathapaneni Gagan Kjma4 Chowdary',\n",
       " 'Pratibha Panwar',\n",
       " 'Pratik Nichite',\n",
       " 'Rahul Srivastava',\n",
       " 'Ramesh Mahesh Dhangar',\n",
       " 'Ranga Saketh ',\n",
       " 'Ranga Saketh ',\n",
       " 'Rishi Somani',\n",
       " 'Ritik Vashistha',\n",
       " 'Rujan Khadir Shaikh',\n",
       " 'Rushikesh M',\n",
       " 'Sachin Shantaram Sabale',\n",
       " 'Sai Kiran Karri',\n",
       " 'Sai Praveen Sanapalli',\n",
       " 'Sakshi Mandloi',\n",
       " 'Sameera Fathima',\n",
       " 'Saqiba Juna',\n",
       " 'Shaik Sadhik Basha',\n",
       " 'Shaik Yasmeen Sultana',\n",
       " 'Sharath Kumar Sana',\n",
       " 'Shubham Gupta',\n",
       " 'Shubham Luharuka',\n",
       " 'Shwet Shukla',\n",
       " 'Srikanth Kakkera',\n",
       " 'Sufiyan Ansari',\n",
       " 'Sujit Kunayak',\n",
       " 'Sunil Jokare',\n",
       " 'Sushrita Swain',\n",
       " 'T Sujith Kumar Reddy',\n",
       " 'Tanu Priya Yakkala',\n",
       " 'Tarun Singh',\n",
       " 'Ujjwal Garg',\n",
       " 'Umesh Jaywant Khot',\n",
       " 'Vinay Kumar',\n",
       " 'Wagh Somnath Baban',\n",
       " 'Yash Bhadiyadra',\n",
       " 'Yash Nikam',\n",
       " 'Yogesh']"
      ]
     },
     "execution_count": 12,
     "metadata": {},
     "output_type": "execute_result"
    }
   ],
   "source": [
    "a = [i.title() for i in df.Name]\n",
    "a"
   ]
  },
  {
   "cell_type": "code",
   "execution_count": 15,
   "metadata": {},
   "outputs": [
    {
     "data": {
      "text/plain": [
       "102"
      ]
     },
     "execution_count": 15,
     "metadata": {},
     "output_type": "execute_result"
    }
   ],
   "source": [
    "len(a)"
   ]
  },
  {
   "cell_type": "code",
   "execution_count": 4,
   "metadata": {},
   "outputs": [
    {
     "data": {
      "text/plain": [
       "24"
      ]
     },
     "execution_count": 4,
     "metadata": {},
     "output_type": "execute_result"
    }
   ],
   "source": [
    "len(df[\"FullName\"].to_list())"
   ]
  },
  {
   "cell_type": "code",
   "execution_count": 5,
   "metadata": {},
   "outputs": [
    {
     "data": {
      "text/plain": [
       "0                     T Ravali\n",
       "1                Anay Muzumdar\n",
       "2               Ch Pruthvi Raj\n",
       "3                     Srichand\n",
       "4         Repaka Raghu Vardhan\n",
       "5           Movidi Sai Gowtham\n",
       "6                     C Ashabi\n",
       "7                 A D Umapathi\n",
       "8               K S Tejashwini\n",
       "9         Edeti Govinda Rajulu\n",
       "10             Md Omar Farooqh\n",
       "11                     Gowtham\n",
       "12    Shubham Prabhakar Wankar\n",
       "13             Adithya Bhargav\n",
       "14     Alapati Teja Ravi Chand\n",
       "15          Meesa Vishnu Kumar\n",
       "16          Kashetti Prashanth\n",
       "17                 Sai Krishna\n",
       "18                 Abdul Ameer\n",
       "19             Harshith Bejjam\n",
       "20             Sampath Adupamu\n",
       "21           Susmitha Sri Boga\n",
       "22                  Sai Kumari\n",
       "23                        Deep\n",
       "Name: FullName, dtype: object"
      ]
     },
     "execution_count": 5,
     "metadata": {},
     "output_type": "execute_result"
    }
   ],
   "source": [
    "df[\"FullName\"]"
   ]
  },
  {
   "cell_type": "code",
   "execution_count": 11,
   "metadata": {},
   "outputs": [],
   "source": [
    "df.to_csv(\"alumni.csv\")"
   ]
  },
  {
   "cell_type": "markdown",
   "metadata": {},
   "source": [
    "# Add text into docx file"
   ]
  },
  {
   "cell_type": "code",
   "execution_count": 18,
   "metadata": {},
   "outputs": [],
   "source": [
    "import docx\n",
    "doc = docx.Document(\"offerletter_fsd.docx\")\n",
    "run = doc.paragraphs[9].runs\n",
    "name = 'Arun Kudiyal'\n",
    "run[0].add_text(' {},'.format(name))\n",
    "doc.save('{}.docx'.format(name))"
   ]
  },
  {
   "cell_type": "code",
   "execution_count": 16,
   "metadata": {
    "collapsed": true
   },
   "outputs": [
    {
     "name": "stdout",
     "output_type": "stream",
     "text": [
      "\n",
      "\n",
      "\n",
      "\n",
      "\n",
      "\n",
      "\n",
      "\n",
      "\n",
      "\n",
      "\n",
      "\n",
      "\n"
     ]
    }
   ],
   "source": [
    "import docx\n",
    "for name in ['Arun Kudiyal']:\n",
    "    if name:\n",
    "        doc = docx.Document(\"offerletter_fsd.docx\")\n",
    "        run = doc.paragraphs[9].runs\n",
    "        run[0].add_text(' {},'.format(name))\n",
    "        doc.save('./offerletter_fsd/docx/{}.docx'.format(name))"
   ]
  },
  {
   "cell_type": "markdown",
   "metadata": {},
   "source": [
    "# Convert docx to PDF"
   ]
  },
  {
   "cell_type": "code",
   "execution_count": 14,
   "metadata": {},
   "outputs": [
    {
     "name": "stdout",
     "output_type": "stream",
     "text": [
      "Abhijeet Laxman Patil\n"
     ]
    },
    {
     "data": {
      "application/vnd.jupyter.widget-view+json": {
       "model_id": "7a5f89106545451faa73f58fef3775b2",
       "version_major": 2,
       "version_minor": 0
      },
      "text/plain": [
       "HBox(children=(HTML(value=''), FloatProgress(value=0.0, max=1.0), HTML(value='')))"
      ]
     },
     "metadata": {},
     "output_type": "display_data"
    },
    {
     "name": "stdout",
     "output_type": "stream",
     "text": [
      "Abhijeet Subhash Raut\n"
     ]
    },
    {
     "data": {
      "application/vnd.jupyter.widget-view+json": {
       "model_id": "64201f24be6942ceb45171dc1579a791",
       "version_major": 2,
       "version_minor": 0
      },
      "text/plain": [
       "HBox(children=(HTML(value=''), FloatProgress(value=0.0, max=1.0), HTML(value='')))"
      ]
     },
     "metadata": {},
     "output_type": "display_data"
    },
    {
     "name": "stdout",
     "output_type": "stream",
     "text": [
      "Aditya Kumar\n",
      "\n"
     ]
    },
    {
     "data": {
      "application/vnd.jupyter.widget-view+json": {
       "model_id": "a7a1f58e4e744a87856910592d8b9c10",
       "version_major": 2,
       "version_minor": 0
      },
      "text/plain": [
       "HBox(children=(HTML(value=''), FloatProgress(value=0.0, max=1.0), HTML(value='')))"
      ]
     },
     "metadata": {},
     "output_type": "display_data"
    },
    {
     "name": "stdout",
     "output_type": "stream",
     "text": [
      "Akash Dongare\n"
     ]
    },
    {
     "data": {
      "application/vnd.jupyter.widget-view+json": {
       "model_id": "20edfa633e9742c2bf58515c7f1a4b68",
       "version_major": 2,
       "version_minor": 0
      },
      "text/plain": [
       "HBox(children=(HTML(value=''), FloatProgress(value=0.0, max=1.0), HTML(value='')))"
      ]
     },
     "metadata": {},
     "output_type": "display_data"
    },
    {
     "name": "stdout",
     "output_type": "stream",
     "text": [
      "Akash Sharma\n"
     ]
    },
    {
     "data": {
      "application/vnd.jupyter.widget-view+json": {
       "model_id": "e0ca78192b5340e3b813cb1b9619103f",
       "version_major": 2,
       "version_minor": 0
      },
      "text/plain": [
       "HBox(children=(HTML(value=''), FloatProgress(value=0.0, max=1.0), HTML(value='')))"
      ]
     },
     "metadata": {},
     "output_type": "display_data"
    },
    {
     "name": "stdout",
     "output_type": "stream",
     "text": [
      "Akshay Chavan\n",
      "\n",
      "\n"
     ]
    },
    {
     "data": {
      "application/vnd.jupyter.widget-view+json": {
       "model_id": "51a16cce62a344c9aceeb0c15c99b5ec",
       "version_major": 2,
       "version_minor": 0
      },
      "text/plain": [
       "HBox(children=(HTML(value=''), FloatProgress(value=0.0, max=1.0), HTML(value='')))"
      ]
     },
     "metadata": {},
     "output_type": "display_data"
    },
    {
     "name": "stdout",
     "output_type": "stream",
     "text": [
      "Amgoth Saikumar Nayak\n"
     ]
    },
    {
     "data": {
      "application/vnd.jupyter.widget-view+json": {
       "model_id": "4bb7a95a7a8243de8568d1b64cf5a3f1",
       "version_major": 2,
       "version_minor": 0
      },
      "text/plain": [
       "HBox(children=(HTML(value=''), FloatProgress(value=0.0, max=1.0), HTML(value='')))"
      ]
     },
     "metadata": {},
     "output_type": "display_data"
    },
    {
     "name": "stdout",
     "output_type": "stream",
     "text": [
      "Amit Kumar Yadav\n"
     ]
    },
    {
     "data": {
      "application/vnd.jupyter.widget-view+json": {
       "model_id": "b107a69c38b94fe8b1480adf9483f1f3",
       "version_major": 2,
       "version_minor": 0
      },
      "text/plain": [
       "HBox(children=(HTML(value=''), FloatProgress(value=0.0, max=1.0), HTML(value='')))"
      ]
     },
     "metadata": {},
     "output_type": "display_data"
    },
    {
     "name": "stdout",
     "output_type": "stream",
     "text": [
      "Anant Kumawat\n",
      "\n",
      "\n"
     ]
    },
    {
     "data": {
      "application/vnd.jupyter.widget-view+json": {
       "model_id": "c26d9afb478848de813476f0a13670f9",
       "version_major": 2,
       "version_minor": 0
      },
      "text/plain": [
       "HBox(children=(HTML(value=''), FloatProgress(value=0.0, max=1.0), HTML(value='')))"
      ]
     },
     "metadata": {},
     "output_type": "display_data"
    },
    {
     "name": "stdout",
     "output_type": "stream",
     "text": [
      "Anjali Bhatt\n"
     ]
    },
    {
     "data": {
      "application/vnd.jupyter.widget-view+json": {
       "model_id": "c02b40ff4e104c3d947bee5f6e2d334d",
       "version_major": 2,
       "version_minor": 0
      },
      "text/plain": [
       "HBox(children=(HTML(value=''), FloatProgress(value=0.0, max=1.0), HTML(value='')))"
      ]
     },
     "metadata": {},
     "output_type": "display_data"
    },
    {
     "name": "stdout",
     "output_type": "stream",
     "text": [
      "Ankit Shukla\n"
     ]
    },
    {
     "data": {
      "application/vnd.jupyter.widget-view+json": {
       "model_id": "4a18d7a8ddca406db9d94d21eff104b5",
       "version_major": 2,
       "version_minor": 0
      },
      "text/plain": [
       "HBox(children=(HTML(value=''), FloatProgress(value=0.0, max=1.0), HTML(value='')))"
      ]
     },
     "metadata": {},
     "output_type": "display_data"
    },
    {
     "name": "stdout",
     "output_type": "stream",
     "text": [
      "Anmol Sonthalia\n",
      "\n",
      "\n"
     ]
    },
    {
     "data": {
      "application/vnd.jupyter.widget-view+json": {
       "model_id": "0c5e5ac6543e4b5fb8b79e796630ecc1",
       "version_major": 2,
       "version_minor": 0
      },
      "text/plain": [
       "HBox(children=(HTML(value=''), FloatProgress(value=0.0, max=1.0), HTML(value='')))"
      ]
     },
     "metadata": {},
     "output_type": "display_data"
    },
    {
     "name": "stdout",
     "output_type": "stream",
     "text": [
      "Ashwath Thadishetty\n"
     ]
    },
    {
     "data": {
      "application/vnd.jupyter.widget-view+json": {
       "model_id": "83a647251ded4ce98e1f7befbf589015",
       "version_major": 2,
       "version_minor": 0
      },
      "text/plain": [
       "HBox(children=(HTML(value=''), FloatProgress(value=0.0, max=1.0), HTML(value='')))"
      ]
     },
     "metadata": {},
     "output_type": "display_data"
    },
    {
     "name": "stdout",
     "output_type": "stream",
     "text": [
      "Avuladoddi Pravallika\n",
      "\n"
     ]
    },
    {
     "data": {
      "application/vnd.jupyter.widget-view+json": {
       "model_id": "9846f294ef0a47a99941451e976b4e33",
       "version_major": 2,
       "version_minor": 0
      },
      "text/plain": [
       "HBox(children=(HTML(value=''), FloatProgress(value=0.0, max=1.0), HTML(value='')))"
      ]
     },
     "metadata": {},
     "output_type": "display_data"
    },
    {
     "name": "stdout",
     "output_type": "stream",
     "text": [
      "Bhamare Vedant Vijay\n"
     ]
    },
    {
     "data": {
      "application/vnd.jupyter.widget-view+json": {
       "model_id": "ed2b30053bf5422da3069b235c8955d8",
       "version_major": 2,
       "version_minor": 0
      },
      "text/plain": [
       "HBox(children=(HTML(value=''), FloatProgress(value=0.0, max=1.0), HTML(value='')))"
      ]
     },
     "metadata": {},
     "output_type": "display_data"
    },
    {
     "name": "stdout",
     "output_type": "stream",
     "text": [
      "Bonthu Sai Saketh Reddy\n"
     ]
    },
    {
     "data": {
      "application/vnd.jupyter.widget-view+json": {
       "model_id": "5bfc9ec5dbaf4a62a83d92825ab79e17",
       "version_major": 2,
       "version_minor": 0
      },
      "text/plain": [
       "HBox(children=(HTML(value=''), FloatProgress(value=0.0, max=1.0), HTML(value='')))"
      ]
     },
     "metadata": {},
     "output_type": "display_data"
    },
    {
     "name": "stdout",
     "output_type": "stream",
     "text": [
      "Chandra Shekar\n",
      "\n",
      "\n"
     ]
    },
    {
     "data": {
      "application/vnd.jupyter.widget-view+json": {
       "model_id": "61dc96b1d1894363baf1ca8237cf33d9",
       "version_major": 2,
       "version_minor": 0
      },
      "text/plain": [
       "HBox(children=(HTML(value=''), FloatProgress(value=0.0, max=1.0), HTML(value='')))"
      ]
     },
     "metadata": {},
     "output_type": "display_data"
    },
    {
     "name": "stdout",
     "output_type": "stream",
     "text": [
      "Chandrika S\n"
     ]
    },
    {
     "data": {
      "application/vnd.jupyter.widget-view+json": {
       "model_id": "42383e20e6b843e4af0b20b40a3cdc03",
       "version_major": 2,
       "version_minor": 0
      },
      "text/plain": [
       "HBox(children=(HTML(value=''), FloatProgress(value=0.0, max=1.0), HTML(value='')))"
      ]
     },
     "metadata": {},
     "output_type": "display_data"
    },
    {
     "name": "stdout",
     "output_type": "stream",
     "text": [
      "Choda Karthik\n"
     ]
    },
    {
     "data": {
      "application/vnd.jupyter.widget-view+json": {
       "model_id": "b813379516314fcd976e20ffa4efd7c0",
       "version_major": 2,
       "version_minor": 0
      },
      "text/plain": [
       "HBox(children=(HTML(value=''), FloatProgress(value=0.0, max=1.0), HTML(value='')))"
      ]
     },
     "metadata": {},
     "output_type": "display_data"
    },
    {
     "name": "stdout",
     "output_type": "stream",
     "text": [
      "Cyrus Thapa\n",
      "\n",
      "\n"
     ]
    },
    {
     "data": {
      "application/vnd.jupyter.widget-view+json": {
       "model_id": "a5dc47444d044670aa959cc2a89c8708",
       "version_major": 2,
       "version_minor": 0
      },
      "text/plain": [
       "HBox(children=(HTML(value=''), FloatProgress(value=0.0, max=1.0), HTML(value='')))"
      ]
     },
     "metadata": {},
     "output_type": "display_data"
    },
    {
     "name": "stdout",
     "output_type": "stream",
     "text": [
      "D Sikha Datta Reddy\n"
     ]
    },
    {
     "data": {
      "application/vnd.jupyter.widget-view+json": {
       "model_id": "d926518d1b5d4f7ea71e528acbbdcb04",
       "version_major": 2,
       "version_minor": 0
      },
      "text/plain": [
       "HBox(children=(HTML(value=''), FloatProgress(value=0.0, max=1.0), HTML(value='')))"
      ]
     },
     "metadata": {},
     "output_type": "display_data"
    },
    {
     "name": "stdout",
     "output_type": "stream",
     "text": [
      "Daniya Niazi\n"
     ]
    },
    {
     "data": {
      "application/vnd.jupyter.widget-view+json": {
       "model_id": "1335e08c4def4af8a8b66429d2e36166",
       "version_major": 2,
       "version_minor": 0
      },
      "text/plain": [
       "HBox(children=(HTML(value=''), FloatProgress(value=0.0, max=1.0), HTML(value='')))"
      ]
     },
     "metadata": {},
     "output_type": "display_data"
    },
    {
     "name": "stdout",
     "output_type": "stream",
     "text": [
      "Dhanashree Laxman Paste\n",
      "\n",
      "\n"
     ]
    },
    {
     "data": {
      "application/vnd.jupyter.widget-view+json": {
       "model_id": "def0e0f7b10f43779d1687f18d52dbae",
       "version_major": 2,
       "version_minor": 0
      },
      "text/plain": [
       "HBox(children=(HTML(value=''), FloatProgress(value=0.0, max=1.0), HTML(value='')))"
      ]
     },
     "metadata": {},
     "output_type": "display_data"
    },
    {
     "name": "stdout",
     "output_type": "stream",
     "text": [
      "Dilshana V S\n"
     ]
    },
    {
     "data": {
      "application/vnd.jupyter.widget-view+json": {
       "model_id": "a3cd0d2f94304d379ed6c0efd73ab158",
       "version_major": 2,
       "version_minor": 0
      },
      "text/plain": [
       "HBox(children=(HTML(value=''), FloatProgress(value=0.0, max=1.0), HTML(value='')))"
      ]
     },
     "metadata": {},
     "output_type": "display_data"
    },
    {
     "name": "stdout",
     "output_type": "stream",
     "text": [
      "Divesh Rajput\n"
     ]
    },
    {
     "data": {
      "application/vnd.jupyter.widget-view+json": {
       "model_id": "e99d569efc9c423db2da7d4c2b69b779",
       "version_major": 2,
       "version_minor": 0
      },
      "text/plain": [
       "HBox(children=(HTML(value=''), FloatProgress(value=0.0, max=1.0), HTML(value='')))"
      ]
     },
     "metadata": {},
     "output_type": "display_data"
    },
    {
     "name": "stdout",
     "output_type": "stream",
     "text": [
      "Divyadharshini M\n",
      "\n",
      "\n"
     ]
    },
    {
     "data": {
      "application/vnd.jupyter.widget-view+json": {
       "model_id": "00d85481b6734d62a5e28dcb99c96829",
       "version_major": 2,
       "version_minor": 0
      },
      "text/plain": [
       "HBox(children=(HTML(value=''), FloatProgress(value=0.0, max=1.0), HTML(value='')))"
      ]
     },
     "metadata": {},
     "output_type": "display_data"
    },
    {
     "name": "stdout",
     "output_type": "stream",
     "text": [
      "Dodda Chandu\n"
     ]
    },
    {
     "data": {
      "application/vnd.jupyter.widget-view+json": {
       "model_id": "aa64089ba51b43bda66d4aba2742cc79",
       "version_major": 2,
       "version_minor": 0
      },
      "text/plain": [
       "HBox(children=(HTML(value=''), FloatProgress(value=0.0, max=1.0), HTML(value='')))"
      ]
     },
     "metadata": {},
     "output_type": "display_data"
    },
    {
     "name": "stdout",
     "output_type": "stream",
     "text": [
      "Farheen Shaik\n"
     ]
    },
    {
     "data": {
      "application/vnd.jupyter.widget-view+json": {
       "model_id": "75e2ed95437e4000b1323066822af44e",
       "version_major": 2,
       "version_minor": 0
      },
      "text/plain": [
       "HBox(children=(HTML(value=''), FloatProgress(value=0.0, max=1.0), HTML(value='')))"
      ]
     },
     "metadata": {},
     "output_type": "display_data"
    },
    {
     "name": "stdout",
     "output_type": "stream",
     "text": [
      "Gudiyakumari Sharma\n",
      "\n",
      "\n"
     ]
    },
    {
     "data": {
      "application/vnd.jupyter.widget-view+json": {
       "model_id": "83608101b7a34027b2de5ed0b0da2eb8",
       "version_major": 2,
       "version_minor": 0
      },
      "text/plain": [
       "HBox(children=(HTML(value=''), FloatProgress(value=0.0, max=1.0), HTML(value='')))"
      ]
     },
     "metadata": {},
     "output_type": "display_data"
    },
    {
     "name": "stdout",
     "output_type": "stream",
     "text": [
      "Hrishikesh Kulkarni\n"
     ]
    },
    {
     "data": {
      "application/vnd.jupyter.widget-view+json": {
       "model_id": "d169dd3d1c604cccb2ce8ae519e6c8d6",
       "version_major": 2,
       "version_minor": 0
      },
      "text/plain": [
       "HBox(children=(HTML(value=''), FloatProgress(value=0.0, max=1.0), HTML(value='')))"
      ]
     },
     "metadata": {},
     "output_type": "display_data"
    },
    {
     "name": "stdout",
     "output_type": "stream",
     "text": [
      "Ishika Pandya\n"
     ]
    },
    {
     "data": {
      "application/vnd.jupyter.widget-view+json": {
       "model_id": "a4708d7e8e254e92be018149e2c939fd",
       "version_major": 2,
       "version_minor": 0
      },
      "text/plain": [
       "HBox(children=(HTML(value=''), FloatProgress(value=0.0, max=1.0), HTML(value='')))"
      ]
     },
     "metadata": {},
     "output_type": "display_data"
    },
    {
     "name": "stdout",
     "output_type": "stream",
     "text": [
      "Ishita Gupta\n",
      "\n",
      "\n",
      "\n",
      "\n",
      "\n",
      "\n",
      "\n",
      "\n",
      "\n",
      "\n",
      "\n",
      "\n"
     ]
    },
    {
     "data": {
      "application/vnd.jupyter.widget-view+json": {
       "model_id": "e8deb0a9383e426e871cc9b3b55b900e",
       "version_major": 2,
       "version_minor": 0
      },
      "text/plain": [
       "HBox(children=(HTML(value=''), FloatProgress(value=0.0, max=1.0), HTML(value='')))"
      ]
     },
     "metadata": {},
     "output_type": "display_data"
    },
    {
     "name": "stdout",
     "output_type": "stream",
     "text": [
      "Jaswanth Yadav\n"
     ]
    },
    {
     "data": {
      "application/vnd.jupyter.widget-view+json": {
       "model_id": "87282abca0924256ae7695e29ff678c7",
       "version_major": 2,
       "version_minor": 0
      },
      "text/plain": [
       "HBox(children=(HTML(value=''), FloatProgress(value=0.0, max=1.0), HTML(value='')))"
      ]
     },
     "metadata": {},
     "output_type": "display_data"
    },
    {
     "name": "stdout",
     "output_type": "stream",
     "text": [
      "Jayasree M\n"
     ]
    },
    {
     "data": {
      "application/vnd.jupyter.widget-view+json": {
       "model_id": "57c4fd1fa2a441d9af7d7955170e5399",
       "version_major": 2,
       "version_minor": 0
      },
      "text/plain": [
       "HBox(children=(HTML(value=''), FloatProgress(value=0.0, max=1.0), HTML(value='')))"
      ]
     },
     "metadata": {},
     "output_type": "display_data"
    },
    {
     "name": "stdout",
     "output_type": "stream",
     "text": [
      "Jayshree Anil Mane\n",
      "\n",
      "\n"
     ]
    },
    {
     "data": {
      "application/vnd.jupyter.widget-view+json": {
       "model_id": "00a5c1f2bb9543619bdd86d9108bfe06",
       "version_major": 2,
       "version_minor": 0
      },
      "text/plain": [
       "HBox(children=(HTML(value=''), FloatProgress(value=0.0, max=1.0), HTML(value='')))"
      ]
     },
     "metadata": {},
     "output_type": "display_data"
    },
    {
     "name": "stdout",
     "output_type": "stream",
     "text": [
      "Jitendra Sanjay Wagh\n"
     ]
    },
    {
     "data": {
      "application/vnd.jupyter.widget-view+json": {
       "model_id": "faa4b99088a4485dbf024697850c4f8b",
       "version_major": 2,
       "version_minor": 0
      },
      "text/plain": [
       "HBox(children=(HTML(value=''), FloatProgress(value=0.0, max=1.0), HTML(value='')))"
      ]
     },
     "metadata": {},
     "output_type": "display_data"
    },
    {
     "name": "stdout",
     "output_type": "stream",
     "text": [
      "Jyoti Ramsahai Yadav\n"
     ]
    },
    {
     "data": {
      "application/vnd.jupyter.widget-view+json": {
       "model_id": "81d162b861d94c179dccec229f5c0611",
       "version_major": 2,
       "version_minor": 0
      },
      "text/plain": [
       "HBox(children=(HTML(value=''), FloatProgress(value=0.0, max=1.0), HTML(value='')))"
      ]
     },
     "metadata": {},
     "output_type": "display_data"
    },
    {
     "name": "stdout",
     "output_type": "stream",
     "text": [
      "Kartik Vashistha\n",
      "\n",
      "\n"
     ]
    },
    {
     "data": {
      "application/vnd.jupyter.widget-view+json": {
       "model_id": "7ca512a3b6fa418a8f3e6ac6c18b042c",
       "version_major": 2,
       "version_minor": 0
      },
      "text/plain": [
       "HBox(children=(HTML(value=''), FloatProgress(value=0.0, max=1.0), HTML(value='')))"
      ]
     },
     "metadata": {},
     "output_type": "display_data"
    },
    {
     "name": "stdout",
     "output_type": "stream",
     "text": [
      "Khushboo Kumari\n"
     ]
    },
    {
     "data": {
      "application/vnd.jupyter.widget-view+json": {
       "model_id": "8e7770c9d9ca43ddab9bf7a0a3d3fd62",
       "version_major": 2,
       "version_minor": 0
      },
      "text/plain": [
       "HBox(children=(HTML(value=''), FloatProgress(value=0.0, max=1.0), HTML(value='')))"
      ]
     },
     "metadata": {},
     "output_type": "display_data"
    },
    {
     "name": "stdout",
     "output_type": "stream",
     "text": [
      "Kiran B Ramgade\n"
     ]
    },
    {
     "data": {
      "application/vnd.jupyter.widget-view+json": {
       "model_id": "fd27fb5739a3498087c0ba6c62d7ef81",
       "version_major": 2,
       "version_minor": 0
      },
      "text/plain": [
       "HBox(children=(HTML(value=''), FloatProgress(value=0.0, max=1.0), HTML(value='')))"
      ]
     },
     "metadata": {},
     "output_type": "display_data"
    },
    {
     "name": "stdout",
     "output_type": "stream",
     "text": [
      "Kiran Puram\n",
      "\n",
      "\n"
     ]
    },
    {
     "data": {
      "application/vnd.jupyter.widget-view+json": {
       "model_id": "39a7fac0d81a4653bdae2b1da0858a2b",
       "version_major": 2,
       "version_minor": 0
      },
      "text/plain": [
       "HBox(children=(HTML(value=''), FloatProgress(value=0.0, max=1.0), HTML(value='')))"
      ]
     },
     "metadata": {},
     "output_type": "display_data"
    },
    {
     "name": "stdout",
     "output_type": "stream",
     "text": [
      "Krishna Murari\n"
     ]
    },
    {
     "data": {
      "application/vnd.jupyter.widget-view+json": {
       "model_id": "cf55d893f16f443eb8ea5ee11ecd1c28",
       "version_major": 2,
       "version_minor": 0
      },
      "text/plain": [
       "HBox(children=(HTML(value=''), FloatProgress(value=0.0, max=1.0), HTML(value='')))"
      ]
     },
     "metadata": {},
     "output_type": "display_data"
    },
    {
     "name": "stdout",
     "output_type": "stream",
     "text": [
      "Kushagra Sharma\n",
      "\n"
     ]
    },
    {
     "data": {
      "application/vnd.jupyter.widget-view+json": {
       "model_id": "1c92c2d849ea4af6b23f8e5b38509744",
       "version_major": 2,
       "version_minor": 0
      },
      "text/plain": [
       "HBox(children=(HTML(value=''), FloatProgress(value=0.0, max=1.0), HTML(value='')))"
      ]
     },
     "metadata": {},
     "output_type": "display_data"
    },
    {
     "name": "stdout",
     "output_type": "stream",
     "text": [
      "Latesh Nagpure\n"
     ]
    },
    {
     "data": {
      "application/vnd.jupyter.widget-view+json": {
       "model_id": "6346e1d6342f42628fdeda36eb8c4cce",
       "version_major": 2,
       "version_minor": 0
      },
      "text/plain": [
       "HBox(children=(HTML(value=''), FloatProgress(value=0.0, max=1.0), HTML(value='')))"
      ]
     },
     "metadata": {},
     "output_type": "display_data"
    },
    {
     "name": "stdout",
     "output_type": "stream",
     "text": [
      "Leela Naga Sai Phanindra Yandrapu\n"
     ]
    },
    {
     "data": {
      "application/vnd.jupyter.widget-view+json": {
       "model_id": "5f50b2904a984daf9ded9984888a6001",
       "version_major": 2,
       "version_minor": 0
      },
      "text/plain": [
       "HBox(children=(HTML(value=''), FloatProgress(value=0.0, max=1.0), HTML(value='')))"
      ]
     },
     "metadata": {},
     "output_type": "display_data"
    },
    {
     "name": "stdout",
     "output_type": "stream",
     "text": [
      "Maganti Harish\n",
      "\n",
      "\n"
     ]
    },
    {
     "data": {
      "application/vnd.jupyter.widget-view+json": {
       "model_id": "b5c52d4aa2ce404eaf7d2f5e3b260926",
       "version_major": 2,
       "version_minor": 0
      },
      "text/plain": [
       "HBox(children=(HTML(value=''), FloatProgress(value=0.0, max=1.0), HTML(value='')))"
      ]
     },
     "metadata": {},
     "output_type": "display_data"
    },
    {
     "name": "stdout",
     "output_type": "stream",
     "text": [
      "Malaviya Priyanshu\n"
     ]
    },
    {
     "data": {
      "application/vnd.jupyter.widget-view+json": {
       "model_id": "977fd1d675f64fb3bda08e1454113c51",
       "version_major": 2,
       "version_minor": 0
      },
      "text/plain": [
       "HBox(children=(HTML(value=''), FloatProgress(value=0.0, max=1.0), HTML(value='')))"
      ]
     },
     "metadata": {},
     "output_type": "display_data"
    },
    {
     "name": "stdout",
     "output_type": "stream",
     "text": [
      "Malay Dewangan\n"
     ]
    },
    {
     "data": {
      "application/vnd.jupyter.widget-view+json": {
       "model_id": "451d83f5353640d2aa70fbbf4214d913",
       "version_major": 2,
       "version_minor": 0
      },
      "text/plain": [
       "HBox(children=(HTML(value=''), FloatProgress(value=0.0, max=1.0), HTML(value='')))"
      ]
     },
     "metadata": {},
     "output_type": "display_data"
    },
    {
     "name": "stdout",
     "output_type": "stream",
     "text": [
      "Manish Kumar Yadav\n",
      "\n",
      "\n"
     ]
    },
    {
     "data": {
      "application/vnd.jupyter.widget-view+json": {
       "model_id": "354537bc11744f519481e380aa400a27",
       "version_major": 2,
       "version_minor": 0
      },
      "text/plain": [
       "HBox(children=(HTML(value=''), FloatProgress(value=0.0, max=1.0), HTML(value='')))"
      ]
     },
     "metadata": {},
     "output_type": "display_data"
    },
    {
     "name": "stdout",
     "output_type": "stream",
     "text": [
      "Minal Devpriya\n"
     ]
    },
    {
     "data": {
      "application/vnd.jupyter.widget-view+json": {
       "model_id": "5436ab9b51084c5784610b1da430be25",
       "version_major": 2,
       "version_minor": 0
      },
      "text/plain": [
       "HBox(children=(HTML(value=''), FloatProgress(value=0.0, max=1.0), HTML(value='')))"
      ]
     },
     "metadata": {},
     "output_type": "display_data"
    },
    {
     "name": "stdout",
     "output_type": "stream",
     "text": [
      "Mohamed Samsu Bhasith\n"
     ]
    },
    {
     "data": {
      "application/vnd.jupyter.widget-view+json": {
       "model_id": "7cef581565d148438de847344f82f6cc",
       "version_major": 2,
       "version_minor": 0
      },
      "text/plain": [
       "HBox(children=(HTML(value=''), FloatProgress(value=0.0, max=1.0), HTML(value='')))"
      ]
     },
     "metadata": {},
     "output_type": "display_data"
    },
    {
     "name": "stdout",
     "output_type": "stream",
     "text": [
      "Mohd Usama\n",
      "\n",
      "\n"
     ]
    },
    {
     "data": {
      "application/vnd.jupyter.widget-view+json": {
       "model_id": "94134367d3074020939df4dbc18b7804",
       "version_major": 2,
       "version_minor": 0
      },
      "text/plain": [
       "HBox(children=(HTML(value=''), FloatProgress(value=0.0, max=1.0), HTML(value='')))"
      ]
     },
     "metadata": {},
     "output_type": "display_data"
    },
    {
     "name": "stdout",
     "output_type": "stream",
     "text": [
      "Mohit Abhimanyu Rajput\n"
     ]
    },
    {
     "data": {
      "application/vnd.jupyter.widget-view+json": {
       "model_id": "fd68928b72f44f968ef182f1c8beeb71",
       "version_major": 2,
       "version_minor": 0
      },
      "text/plain": [
       "HBox(children=(HTML(value=''), FloatProgress(value=0.0, max=1.0), HTML(value='')))"
      ]
     },
     "metadata": {},
     "output_type": "display_data"
    },
    {
     "name": "stdout",
     "output_type": "stream",
     "text": [
      "Mukesh Kumar Keshri\n"
     ]
    },
    {
     "data": {
      "application/vnd.jupyter.widget-view+json": {
       "model_id": "9719dba21767402f9e1428a42e0444b8",
       "version_major": 2,
       "version_minor": 0
      },
      "text/plain": [
       "HBox(children=(HTML(value=''), FloatProgress(value=0.0, max=1.0), HTML(value='')))"
      ]
     },
     "metadata": {},
     "output_type": "display_data"
    },
    {
     "name": "stdout",
     "output_type": "stream",
     "text": [
      "Nachiket Suhas Chaudhari\n",
      "\n",
      "\n"
     ]
    },
    {
     "data": {
      "application/vnd.jupyter.widget-view+json": {
       "model_id": "5a9352b8bd894f789ba026fc50fc6b76",
       "version_major": 2,
       "version_minor": 0
      },
      "text/plain": [
       "HBox(children=(HTML(value=''), FloatProgress(value=0.0, max=1.0), HTML(value='')))"
      ]
     },
     "metadata": {},
     "output_type": "display_data"
    },
    {
     "name": "stdout",
     "output_type": "stream",
     "text": [
      "Naman Jain\n"
     ]
    },
    {
     "data": {
      "application/vnd.jupyter.widget-view+json": {
       "model_id": "c99efd29436540c3a5ecf329d727ee33",
       "version_major": 2,
       "version_minor": 0
      },
      "text/plain": [
       "HBox(children=(HTML(value=''), FloatProgress(value=0.0, max=1.0), HTML(value='')))"
      ]
     },
     "metadata": {},
     "output_type": "display_data"
    },
    {
     "name": "stdout",
     "output_type": "stream",
     "text": [
      "Nikhil Fengse\n"
     ]
    },
    {
     "data": {
      "application/vnd.jupyter.widget-view+json": {
       "model_id": "fe8999793c124829b3cdfe3a508904f9",
       "version_major": 2,
       "version_minor": 0
      },
      "text/plain": [
       "HBox(children=(HTML(value=''), FloatProgress(value=0.0, max=1.0), HTML(value='')))"
      ]
     },
     "metadata": {},
     "output_type": "display_data"
    },
    {
     "name": "stdout",
     "output_type": "stream",
     "text": [
      "Nikita Bhoskar\n",
      "\n",
      "\n"
     ]
    },
    {
     "data": {
      "application/vnd.jupyter.widget-view+json": {
       "model_id": "be876960cdcf4a3896114cf655cbf10c",
       "version_major": 2,
       "version_minor": 0
      },
      "text/plain": [
       "HBox(children=(HTML(value=''), FloatProgress(value=0.0, max=1.0), HTML(value='')))"
      ]
     },
     "metadata": {},
     "output_type": "display_data"
    },
    {
     "name": "stdout",
     "output_type": "stream",
     "text": [
      "Nukala Venkata Supriya\n"
     ]
    },
    {
     "data": {
      "application/vnd.jupyter.widget-view+json": {
       "model_id": "0c21b6b70d064b8ba99b598c6ee80ce6",
       "version_major": 2,
       "version_minor": 0
      },
      "text/plain": [
       "HBox(children=(HTML(value=''), FloatProgress(value=0.0, max=1.0), HTML(value='')))"
      ]
     },
     "metadata": {},
     "output_type": "display_data"
    },
    {
     "name": "stdout",
     "output_type": "stream",
     "text": [
      "Palash Das\n"
     ]
    },
    {
     "data": {
      "application/vnd.jupyter.widget-view+json": {
       "model_id": "4bbce0243e9847a5b6ff9a67c47ed17b",
       "version_major": 2,
       "version_minor": 0
      },
      "text/plain": [
       "HBox(children=(HTML(value=''), FloatProgress(value=0.0, max=1.0), HTML(value='')))"
      ]
     },
     "metadata": {},
     "output_type": "display_data"
    },
    {
     "name": "stdout",
     "output_type": "stream",
     "text": [
      "Parvez Khan\n",
      "\n",
      "\n"
     ]
    },
    {
     "data": {
      "application/vnd.jupyter.widget-view+json": {
       "model_id": "2a34c0e0f0954fafa84fdc10fdf7dff9",
       "version_major": 2,
       "version_minor": 0
      },
      "text/plain": [
       "HBox(children=(HTML(value=''), FloatProgress(value=0.0, max=1.0), HTML(value='')))"
      ]
     },
     "metadata": {},
     "output_type": "display_data"
    },
    {
     "name": "stdout",
     "output_type": "stream",
     "text": [
      "Pathan Sajid Rouf\n"
     ]
    },
    {
     "data": {
      "application/vnd.jupyter.widget-view+json": {
       "model_id": "be0d32900f2a4d918675b5ab50841f47",
       "version_major": 2,
       "version_minor": 0
      },
      "text/plain": [
       "HBox(children=(HTML(value=''), FloatProgress(value=0.0, max=1.0), HTML(value='')))"
      ]
     },
     "metadata": {},
     "output_type": "display_data"
    },
    {
     "name": "stdout",
     "output_type": "stream",
     "text": [
      "Payal Kumari Saini\n"
     ]
    },
    {
     "data": {
      "application/vnd.jupyter.widget-view+json": {
       "model_id": "2b43e78a01204483a6e27e4c12495c6e",
       "version_major": 2,
       "version_minor": 0
      },
      "text/plain": [
       "HBox(children=(HTML(value=''), FloatProgress(value=0.0, max=1.0), HTML(value='')))"
      ]
     },
     "metadata": {},
     "output_type": "display_data"
    },
    {
     "name": "stdout",
     "output_type": "stream",
     "text": [
      "Prathapaneni Gagan Kjma4 Chowdary\n",
      "\n",
      "\n"
     ]
    },
    {
     "data": {
      "application/vnd.jupyter.widget-view+json": {
       "model_id": "ce4c0e68675f48dfb4ccfe03a6bc5c41",
       "version_major": 2,
       "version_minor": 0
      },
      "text/plain": [
       "HBox(children=(HTML(value=''), FloatProgress(value=0.0, max=1.0), HTML(value='')))"
      ]
     },
     "metadata": {},
     "output_type": "display_data"
    },
    {
     "name": "stdout",
     "output_type": "stream",
     "text": [
      "Pratibha Panwar\n"
     ]
    },
    {
     "data": {
      "application/vnd.jupyter.widget-view+json": {
       "model_id": "49f1f879b99841678be6df857bf4360c",
       "version_major": 2,
       "version_minor": 0
      },
      "text/plain": [
       "HBox(children=(HTML(value=''), FloatProgress(value=0.0, max=1.0), HTML(value='')))"
      ]
     },
     "metadata": {},
     "output_type": "display_data"
    },
    {
     "name": "stdout",
     "output_type": "stream",
     "text": [
      "Pratik Nichite\n",
      "\n",
      "\n",
      "\n",
      "\n",
      "\n",
      "\n",
      "\n",
      "\n",
      "\n",
      "\n",
      "\n",
      "\n"
     ]
    },
    {
     "data": {
      "application/vnd.jupyter.widget-view+json": {
       "model_id": "b6e5f73e360549dcb92816611163cf93",
       "version_major": 2,
       "version_minor": 0
      },
      "text/plain": [
       "HBox(children=(HTML(value=''), FloatProgress(value=0.0, max=1.0), HTML(value='')))"
      ]
     },
     "metadata": {},
     "output_type": "display_data"
    },
    {
     "name": "stdout",
     "output_type": "stream",
     "text": [
      "Rahul Srivastava\n"
     ]
    },
    {
     "data": {
      "application/vnd.jupyter.widget-view+json": {
       "model_id": "1a074658902a4bcba761fb18dc3729d3",
       "version_major": 2,
       "version_minor": 0
      },
      "text/plain": [
       "HBox(children=(HTML(value=''), FloatProgress(value=0.0, max=1.0), HTML(value='')))"
      ]
     },
     "metadata": {},
     "output_type": "display_data"
    },
    {
     "name": "stdout",
     "output_type": "stream",
     "text": [
      "Ramesh Mahesh Dhangar\n"
     ]
    },
    {
     "data": {
      "application/vnd.jupyter.widget-view+json": {
       "model_id": "4a66288a01ee44dcb13f3a884e42b0ab",
       "version_major": 2,
       "version_minor": 0
      },
      "text/plain": [
       "HBox(children=(HTML(value=''), FloatProgress(value=0.0, max=1.0), HTML(value='')))"
      ]
     },
     "metadata": {},
     "output_type": "display_data"
    },
    {
     "name": "stdout",
     "output_type": "stream",
     "text": [
      "Ranga Saketh \n",
      "\n",
      "\n"
     ]
    },
    {
     "data": {
      "application/vnd.jupyter.widget-view+json": {
       "model_id": "3e397ada57344bce9b0f3958c1aec8a3",
       "version_major": 2,
       "version_minor": 0
      },
      "text/plain": [
       "HBox(children=(HTML(value=''), FloatProgress(value=0.0, max=1.0), HTML(value='')))"
      ]
     },
     "metadata": {},
     "output_type": "display_data"
    },
    {
     "name": "stdout",
     "output_type": "stream",
     "text": [
      "Rishi Somani\n"
     ]
    },
    {
     "data": {
      "application/vnd.jupyter.widget-view+json": {
       "model_id": "2b43415d86244e0aa13c25ecddab6b04",
       "version_major": 2,
       "version_minor": 0
      },
      "text/plain": [
       "HBox(children=(HTML(value=''), FloatProgress(value=0.0, max=1.0), HTML(value='')))"
      ]
     },
     "metadata": {},
     "output_type": "display_data"
    },
    {
     "name": "stdout",
     "output_type": "stream",
     "text": [
      "Ritik Vashistha\n"
     ]
    },
    {
     "data": {
      "application/vnd.jupyter.widget-view+json": {
       "model_id": "220733da8e3f4a66b8c835fcf4bc6368",
       "version_major": 2,
       "version_minor": 0
      },
      "text/plain": [
       "HBox(children=(HTML(value=''), FloatProgress(value=0.0, max=1.0), HTML(value='')))"
      ]
     },
     "metadata": {},
     "output_type": "display_data"
    },
    {
     "name": "stdout",
     "output_type": "stream",
     "text": [
      "Rujan Khadir Shaikh\n",
      "\n",
      "\n"
     ]
    },
    {
     "data": {
      "application/vnd.jupyter.widget-view+json": {
       "model_id": "f3c74233d6f3447b981792a61d19b319",
       "version_major": 2,
       "version_minor": 0
      },
      "text/plain": [
       "HBox(children=(HTML(value=''), FloatProgress(value=0.0, max=1.0), HTML(value='')))"
      ]
     },
     "metadata": {},
     "output_type": "display_data"
    },
    {
     "name": "stdout",
     "output_type": "stream",
     "text": [
      "Rushikesh M\n"
     ]
    },
    {
     "data": {
      "application/vnd.jupyter.widget-view+json": {
       "model_id": "49b4a7f21023426a8c0b4f81192d5f76",
       "version_major": 2,
       "version_minor": 0
      },
      "text/plain": [
       "HBox(children=(HTML(value=''), FloatProgress(value=0.0, max=1.0), HTML(value='')))"
      ]
     },
     "metadata": {},
     "output_type": "display_data"
    },
    {
     "name": "stdout",
     "output_type": "stream",
     "text": [
      "Sachin Shantaram Sabale\n"
     ]
    },
    {
     "data": {
      "application/vnd.jupyter.widget-view+json": {
       "model_id": "72821e0bfb744a5ca630675ed4382822",
       "version_major": 2,
       "version_minor": 0
      },
      "text/plain": [
       "HBox(children=(HTML(value=''), FloatProgress(value=0.0, max=1.0), HTML(value='')))"
      ]
     },
     "metadata": {},
     "output_type": "display_data"
    },
    {
     "name": "stdout",
     "output_type": "stream",
     "text": [
      "Sai Kiran Karri\n",
      "\n",
      "\n"
     ]
    },
    {
     "data": {
      "application/vnd.jupyter.widget-view+json": {
       "model_id": "62a3bf4194db4cf2883726f6517c790f",
       "version_major": 2,
       "version_minor": 0
      },
      "text/plain": [
       "HBox(children=(HTML(value=''), FloatProgress(value=0.0, max=1.0), HTML(value='')))"
      ]
     },
     "metadata": {},
     "output_type": "display_data"
    },
    {
     "name": "stdout",
     "output_type": "stream",
     "text": [
      "Sai Praveen Sanapalli\n"
     ]
    },
    {
     "data": {
      "application/vnd.jupyter.widget-view+json": {
       "model_id": "496a6270553547de832483baabca26b8",
       "version_major": 2,
       "version_minor": 0
      },
      "text/plain": [
       "HBox(children=(HTML(value=''), FloatProgress(value=0.0, max=1.0), HTML(value='')))"
      ]
     },
     "metadata": {},
     "output_type": "display_data"
    },
    {
     "name": "stdout",
     "output_type": "stream",
     "text": [
      "Sakshi Mandloi\n"
     ]
    },
    {
     "data": {
      "application/vnd.jupyter.widget-view+json": {
       "model_id": "5459f7c7e30345848e03a982087631bf",
       "version_major": 2,
       "version_minor": 0
      },
      "text/plain": [
       "HBox(children=(HTML(value=''), FloatProgress(value=0.0, max=1.0), HTML(value='')))"
      ]
     },
     "metadata": {},
     "output_type": "display_data"
    },
    {
     "name": "stdout",
     "output_type": "stream",
     "text": [
      "Sameera Fathima\n",
      "\n",
      "\n"
     ]
    },
    {
     "data": {
      "application/vnd.jupyter.widget-view+json": {
       "model_id": "d27b1af16afc4783934133eedffb2bb0",
       "version_major": 2,
       "version_minor": 0
      },
      "text/plain": [
       "HBox(children=(HTML(value=''), FloatProgress(value=0.0, max=1.0), HTML(value='')))"
      ]
     },
     "metadata": {},
     "output_type": "display_data"
    },
    {
     "name": "stdout",
     "output_type": "stream",
     "text": [
      "Saqiba Juna\n"
     ]
    },
    {
     "data": {
      "application/vnd.jupyter.widget-view+json": {
       "model_id": "66fbd6c653fe4393a1e8461be2a0f03d",
       "version_major": 2,
       "version_minor": 0
      },
      "text/plain": [
       "HBox(children=(HTML(value=''), FloatProgress(value=0.0, max=1.0), HTML(value='')))"
      ]
     },
     "metadata": {},
     "output_type": "display_data"
    },
    {
     "name": "stdout",
     "output_type": "stream",
     "text": [
      "Shaik Sadhik Basha\n"
     ]
    },
    {
     "data": {
      "application/vnd.jupyter.widget-view+json": {
       "model_id": "22efb55584e844539baf4a011be41081",
       "version_major": 2,
       "version_minor": 0
      },
      "text/plain": [
       "HBox(children=(HTML(value=''), FloatProgress(value=0.0, max=1.0), HTML(value='')))"
      ]
     },
     "metadata": {},
     "output_type": "display_data"
    },
    {
     "name": "stdout",
     "output_type": "stream",
     "text": [
      "Shaik Yasmeen Sultana\n",
      "\n",
      "\n"
     ]
    },
    {
     "data": {
      "application/vnd.jupyter.widget-view+json": {
       "model_id": "6ae9f792505a4c26979a86bc57b36c49",
       "version_major": 2,
       "version_minor": 0
      },
      "text/plain": [
       "HBox(children=(HTML(value=''), FloatProgress(value=0.0, max=1.0), HTML(value='')))"
      ]
     },
     "metadata": {},
     "output_type": "display_data"
    },
    {
     "name": "stdout",
     "output_type": "stream",
     "text": [
      "Sharath Kumar Sana\n"
     ]
    },
    {
     "data": {
      "application/vnd.jupyter.widget-view+json": {
       "model_id": "8b97694614cb484c9900faaca0589e9d",
       "version_major": 2,
       "version_minor": 0
      },
      "text/plain": [
       "HBox(children=(HTML(value=''), FloatProgress(value=0.0, max=1.0), HTML(value='')))"
      ]
     },
     "metadata": {},
     "output_type": "display_data"
    },
    {
     "name": "stdout",
     "output_type": "stream",
     "text": [
      "Shubham Gupta\n"
     ]
    },
    {
     "data": {
      "application/vnd.jupyter.widget-view+json": {
       "model_id": "e076b24a764c4748963d191d680b5159",
       "version_major": 2,
       "version_minor": 0
      },
      "text/plain": [
       "HBox(children=(HTML(value=''), FloatProgress(value=0.0, max=1.0), HTML(value='')))"
      ]
     },
     "metadata": {},
     "output_type": "display_data"
    },
    {
     "name": "stdout",
     "output_type": "stream",
     "text": [
      "Shubham Luharuka\n",
      "\n",
      "\n"
     ]
    },
    {
     "data": {
      "application/vnd.jupyter.widget-view+json": {
       "model_id": "6bb9b0de9ae74089b24652f71bc1d963",
       "version_major": 2,
       "version_minor": 0
      },
      "text/plain": [
       "HBox(children=(HTML(value=''), FloatProgress(value=0.0, max=1.0), HTML(value='')))"
      ]
     },
     "metadata": {},
     "output_type": "display_data"
    },
    {
     "name": "stdout",
     "output_type": "stream",
     "text": [
      "Shwet Shukla\n"
     ]
    },
    {
     "data": {
      "application/vnd.jupyter.widget-view+json": {
       "model_id": "6253139dcdc645628b662bf23b7e36dc",
       "version_major": 2,
       "version_minor": 0
      },
      "text/plain": [
       "HBox(children=(HTML(value=''), FloatProgress(value=0.0, max=1.0), HTML(value='')))"
      ]
     },
     "metadata": {},
     "output_type": "display_data"
    },
    {
     "name": "stdout",
     "output_type": "stream",
     "text": [
      "Srikanth Kakkera\n"
     ]
    },
    {
     "data": {
      "application/vnd.jupyter.widget-view+json": {
       "model_id": "f40421ffbef048e48f9adffeccd79afc",
       "version_major": 2,
       "version_minor": 0
      },
      "text/plain": [
       "HBox(children=(HTML(value=''), FloatProgress(value=0.0, max=1.0), HTML(value='')))"
      ]
     },
     "metadata": {},
     "output_type": "display_data"
    },
    {
     "name": "stdout",
     "output_type": "stream",
     "text": [
      "Sufiyan Ansari\n",
      "\n",
      "\n"
     ]
    },
    {
     "data": {
      "application/vnd.jupyter.widget-view+json": {
       "model_id": "8bf50cb2101f40b08279fc01365dd76e",
       "version_major": 2,
       "version_minor": 0
      },
      "text/plain": [
       "HBox(children=(HTML(value=''), FloatProgress(value=0.0, max=1.0), HTML(value='')))"
      ]
     },
     "metadata": {},
     "output_type": "display_data"
    },
    {
     "name": "stdout",
     "output_type": "stream",
     "text": [
      "Sujit Kunayak\n"
     ]
    },
    {
     "data": {
      "application/vnd.jupyter.widget-view+json": {
       "model_id": "472ee4fe10344bd69cfe8eb07819784d",
       "version_major": 2,
       "version_minor": 0
      },
      "text/plain": [
       "HBox(children=(HTML(value=''), FloatProgress(value=0.0, max=1.0), HTML(value='')))"
      ]
     },
     "metadata": {},
     "output_type": "display_data"
    },
    {
     "name": "stdout",
     "output_type": "stream",
     "text": [
      "Sunil Jokare\n"
     ]
    },
    {
     "data": {
      "application/vnd.jupyter.widget-view+json": {
       "model_id": "24a875e7d25d4fb28529bff52bcfcad4",
       "version_major": 2,
       "version_minor": 0
      },
      "text/plain": [
       "HBox(children=(HTML(value=''), FloatProgress(value=0.0, max=1.0), HTML(value='')))"
      ]
     },
     "metadata": {},
     "output_type": "display_data"
    },
    {
     "name": "stdout",
     "output_type": "stream",
     "text": [
      "Sushrita Swain\n",
      "\n",
      "\n"
     ]
    },
    {
     "data": {
      "application/vnd.jupyter.widget-view+json": {
       "model_id": "a74a8c33b7414f74b55d76145691b3fb",
       "version_major": 2,
       "version_minor": 0
      },
      "text/plain": [
       "HBox(children=(HTML(value=''), FloatProgress(value=0.0, max=1.0), HTML(value='')))"
      ]
     },
     "metadata": {},
     "output_type": "display_data"
    },
    {
     "name": "stdout",
     "output_type": "stream",
     "text": [
      "T Sujith Kumar Reddy\n"
     ]
    },
    {
     "data": {
      "application/vnd.jupyter.widget-view+json": {
       "model_id": "808d489c0c17429d80edb5092a1b62ef",
       "version_major": 2,
       "version_minor": 0
      },
      "text/plain": [
       "HBox(children=(HTML(value=''), FloatProgress(value=0.0, max=1.0), HTML(value='')))"
      ]
     },
     "metadata": {},
     "output_type": "display_data"
    },
    {
     "name": "stdout",
     "output_type": "stream",
     "text": [
      "Tanu Priya Yakkala\n",
      "\n"
     ]
    },
    {
     "data": {
      "application/vnd.jupyter.widget-view+json": {
       "model_id": "3a6110fa88a7422eab0a597355d1ea05",
       "version_major": 2,
       "version_minor": 0
      },
      "text/plain": [
       "HBox(children=(HTML(value=''), FloatProgress(value=0.0, max=1.0), HTML(value='')))"
      ]
     },
     "metadata": {},
     "output_type": "display_data"
    },
    {
     "name": "stdout",
     "output_type": "stream",
     "text": [
      "Tarun Singh\n"
     ]
    },
    {
     "data": {
      "application/vnd.jupyter.widget-view+json": {
       "model_id": "542dafc967004020bfff630706c74bd2",
       "version_major": 2,
       "version_minor": 0
      },
      "text/plain": [
       "HBox(children=(HTML(value=''), FloatProgress(value=0.0, max=1.0), HTML(value='')))"
      ]
     },
     "metadata": {},
     "output_type": "display_data"
    },
    {
     "name": "stdout",
     "output_type": "stream",
     "text": [
      "Ujjwal Garg\n"
     ]
    },
    {
     "data": {
      "application/vnd.jupyter.widget-view+json": {
       "model_id": "fc36bd3f6f1042908f36812ddcabcaaf",
       "version_major": 2,
       "version_minor": 0
      },
      "text/plain": [
       "HBox(children=(HTML(value=''), FloatProgress(value=0.0, max=1.0), HTML(value='')))"
      ]
     },
     "metadata": {},
     "output_type": "display_data"
    },
    {
     "name": "stdout",
     "output_type": "stream",
     "text": [
      "Umesh Jaywant Khot\n",
      "\n",
      "\n"
     ]
    },
    {
     "data": {
      "application/vnd.jupyter.widget-view+json": {
       "model_id": "091322817b3d45fe9e658b1abfd27760",
       "version_major": 2,
       "version_minor": 0
      },
      "text/plain": [
       "HBox(children=(HTML(value=''), FloatProgress(value=0.0, max=1.0), HTML(value='')))"
      ]
     },
     "metadata": {},
     "output_type": "display_data"
    },
    {
     "name": "stdout",
     "output_type": "stream",
     "text": [
      "Vinay Kumar\n"
     ]
    },
    {
     "data": {
      "application/vnd.jupyter.widget-view+json": {
       "model_id": "769f1a64df5c4d3e945ad9f3e74fae70",
       "version_major": 2,
       "version_minor": 0
      },
      "text/plain": [
       "HBox(children=(HTML(value=''), FloatProgress(value=0.0, max=1.0), HTML(value='')))"
      ]
     },
     "metadata": {},
     "output_type": "display_data"
    },
    {
     "name": "stdout",
     "output_type": "stream",
     "text": [
      "Wagh Somnath Baban\n"
     ]
    },
    {
     "data": {
      "application/vnd.jupyter.widget-view+json": {
       "model_id": "527ca5bb0e2a4c1294af4a0967abcd7c",
       "version_major": 2,
       "version_minor": 0
      },
      "text/plain": [
       "HBox(children=(HTML(value=''), FloatProgress(value=0.0, max=1.0), HTML(value='')))"
      ]
     },
     "metadata": {},
     "output_type": "display_data"
    },
    {
     "name": "stdout",
     "output_type": "stream",
     "text": [
      "Yash Bhadiyadra\n",
      "\n",
      "\n"
     ]
    },
    {
     "data": {
      "application/vnd.jupyter.widget-view+json": {
       "model_id": "ae8841c0453e460daf083349b2ba2610",
       "version_major": 2,
       "version_minor": 0
      },
      "text/plain": [
       "HBox(children=(HTML(value=''), FloatProgress(value=0.0, max=1.0), HTML(value='')))"
      ]
     },
     "metadata": {},
     "output_type": "display_data"
    },
    {
     "name": "stdout",
     "output_type": "stream",
     "text": [
      "Yash Nikam\n"
     ]
    },
    {
     "data": {
      "application/vnd.jupyter.widget-view+json": {
       "model_id": "4948e1f00f2c45bc869bbbfb04a046c9",
       "version_major": 2,
       "version_minor": 0
      },
      "text/plain": [
       "HBox(children=(HTML(value=''), FloatProgress(value=0.0, max=1.0), HTML(value='')))"
      ]
     },
     "metadata": {},
     "output_type": "display_data"
    },
    {
     "name": "stdout",
     "output_type": "stream",
     "text": [
      "Yogesh\n"
     ]
    },
    {
     "data": {
      "application/vnd.jupyter.widget-view+json": {
       "model_id": "311fb63231404284bc119932ace1a72b",
       "version_major": 2,
       "version_minor": 0
      },
      "text/plain": [
       "HBox(children=(HTML(value=''), FloatProgress(value=0.0, max=1.0), HTML(value='')))"
      ]
     },
     "metadata": {},
     "output_type": "display_data"
    }
   ],
   "source": [
    "# convert docx to pdf\n",
    "from docx2pdf import convert\n",
    "import glob\n",
    "for f in glob.glob('./offerletter_fsd/docx/*.docx'):\n",
    "    print(f.split(\".\")[1].split('\\\\')[1])\n",
    "    convert(f, \"./offerletter_fsd/pdf/{}.pdf\".format(f.split(\".\")[1].split('\\\\')[1]))"
   ]
  },
  {
   "cell_type": "code",
   "execution_count": 86,
   "metadata": {},
   "outputs": [
    {
     "data": {
      "text/plain": [
       "'./offerletters_doc\\\\A D Umapathi.docx'"
      ]
     },
     "execution_count": 86,
     "metadata": {},
     "output_type": "execute_result"
    }
   ],
   "source": [
    "a = './offerletters_doc\\A D Umapathi.docx'\n",
    "a"
   ]
  },
  {
   "cell_type": "code",
   "execution_count": 91,
   "metadata": {},
   "outputs": [
    {
     "data": {
      "text/plain": [
       "'A D Umapathi'"
      ]
     },
     "execution_count": 91,
     "metadata": {},
     "output_type": "execute_result"
    }
   ],
   "source": [
    "a.split(\".\")[1].split('\\\\')[1]"
   ]
  },
  {
   "cell_type": "code",
   "execution_count": null,
   "metadata": {},
   "outputs": [],
   "source": []
  }
 ],
 "metadata": {
  "kernelspec": {
   "display_name": "Python 3",
   "language": "python",
   "name": "python3"
  },
  "language_info": {
   "codemirror_mode": {
    "name": "ipython",
    "version": 3
   },
   "file_extension": ".py",
   "mimetype": "text/x-python",
   "name": "python",
   "nbconvert_exporter": "python",
   "pygments_lexer": "ipython3",
   "version": "3.8.5"
  }
 },
 "nbformat": 4,
 "nbformat_minor": 5
}
