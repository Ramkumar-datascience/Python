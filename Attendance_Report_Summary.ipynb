{
 "cells": [
  {
   "cell_type": "code",
   "execution_count": 21,
   "metadata": {
    "collapsed": true
   },
   "outputs": [
    {
     "name": "stdout",
     "output_type": "stream",
     "text": [
      "Collecting imgkit\n",
      "  Downloading imgkit-1.2.2-py3-none-any.whl (10 kB)\n",
      "Requirement already satisfied: six in c:\\users\\kanav\\anaconda3\\lib\\site-packages (from imgkit) (1.15.0)\n",
      "Installing collected packages: imgkit\n",
      "Successfully installed imgkit-1.2.2\n"
     ]
    }
   ],
   "source": [
    "!pip install imgkit"
   ]
  },
  {
   "cell_type": "code",
   "execution_count": 33,
   "metadata": {
    "collapsed": true
   },
   "outputs": [
    {
     "name": "stdout",
     "output_type": "stream",
     "text": [
      "Collecting wkhtmltopdf\n",
      "  Downloading wkhtmltopdf-0.2.tar.gz (9.7 kB)\n",
      "Building wheels for collected packages: wkhtmltopdf\n",
      "  Building wheel for wkhtmltopdf (setup.py): started\n",
      "  Building wheel for wkhtmltopdf (setup.py): finished with status 'done'\n",
      "  Created wheel for wkhtmltopdf: filename=wkhtmltopdf-0.2-py3-none-any.whl size=11119 sha256=dad2c7fa49b8c4c7833930e3547ba783c78849e7f4ed28682d7b65c7564db15a\n",
      "  Stored in directory: c:\\users\\kanav\\appdata\\local\\pip\\cache\\wheels\\1b\\47\\0c\\7a2def248029e992e2e8f2fc6bd479cb8648fc6cef2c374deb\n",
      "Successfully built wkhtmltopdf\n",
      "Installing collected packages: wkhtmltopdf\n",
      "Successfully installed wkhtmltopdf-0.2\n"
     ]
    }
   ],
   "source": [
    "!pip install wkhtmltopdf"
   ]
  },
  {
   "cell_type": "code",
   "execution_count": 57,
   "metadata": {},
   "outputs": [
    {
     "name": "stdout",
     "output_type": "stream",
     "text": [
      "Requirement already satisfied: pdfkit in c:\\users\\kanav\\anaconda3\\lib\\site-packages (1.0.0)\n"
     ]
    }
   ],
   "source": [
    "!pip install pdfkit"
   ]
  },
  {
   "cell_type": "code",
   "execution_count": 23,
   "metadata": {},
   "outputs": [],
   "source": [
    "import pandas as pd\n",
    "import random\n",
    "import os\n",
    "import imgkit"
   ]
  },
  {
   "cell_type": "code",
   "execution_count": 24,
   "metadata": {},
   "outputs": [
    {
     "data": {
      "text/html": [
       "<div>\n",
       "<style scoped>\n",
       "    .dataframe tbody tr th:only-of-type {\n",
       "        vertical-align: middle;\n",
       "    }\n",
       "\n",
       "    .dataframe tbody tr th {\n",
       "        vertical-align: top;\n",
       "    }\n",
       "\n",
       "    .dataframe thead th {\n",
       "        text-align: right;\n",
       "    }\n",
       "</style>\n",
       "<table border=\"1\" class=\"dataframe\">\n",
       "  <thead>\n",
       "    <tr style=\"text-align: right;\">\n",
       "      <th></th>\n",
       "      <th>Employee ID</th>\n",
       "      <th>Employee Name</th>\n",
       "      <th>Total present</th>\n",
       "      <th>Total Leaves taken</th>\n",
       "      <th>Halfdays</th>\n",
       "      <th>Total late</th>\n",
       "      <th>Deduction for lates (in days)</th>\n",
       "      <th>Available Leave balance</th>\n",
       "      <th>Available for next month(February )</th>\n",
       "      <th>Compensatory off</th>\n",
       "      <th>Available Compensatory off till next month (Feb)</th>\n",
       "      <th>Total for payroll</th>\n",
       "    </tr>\n",
       "  </thead>\n",
       "  <tbody>\n",
       "    <tr>\n",
       "      <th>0</th>\n",
       "      <td>ZM10002</td>\n",
       "      <td>Raghuram Aduri</td>\n",
       "      <td>29</td>\n",
       "      <td>2</td>\n",
       "      <td>0</td>\n",
       "      <td>0</td>\n",
       "      <td>0.0</td>\n",
       "      <td>4.0</td>\n",
       "      <td>2.0</td>\n",
       "      <td>0.0</td>\n",
       "      <td>0.0</td>\n",
       "      <td>31.0</td>\n",
       "    </tr>\n",
       "    <tr>\n",
       "      <th>1</th>\n",
       "      <td>ZM10009</td>\n",
       "      <td>Ramkumar Eetakota</td>\n",
       "      <td>28</td>\n",
       "      <td>2</td>\n",
       "      <td>0</td>\n",
       "      <td>1</td>\n",
       "      <td>0.0</td>\n",
       "      <td>3.5</td>\n",
       "      <td>1.5</td>\n",
       "      <td>0.0</td>\n",
       "      <td>0.0</td>\n",
       "      <td>31.0</td>\n",
       "    </tr>\n",
       "    <tr>\n",
       "      <th>2</th>\n",
       "      <td>ZM10011</td>\n",
       "      <td>Pradeep Naroju</td>\n",
       "      <td>27</td>\n",
       "      <td>0</td>\n",
       "      <td>0</td>\n",
       "      <td>4</td>\n",
       "      <td>0.5</td>\n",
       "      <td>1.0</td>\n",
       "      <td>0.5</td>\n",
       "      <td>0.0</td>\n",
       "      <td>0.0</td>\n",
       "      <td>31.0</td>\n",
       "    </tr>\n",
       "    <tr>\n",
       "      <th>3</th>\n",
       "      <td>ZM10013</td>\n",
       "      <td>AdiLakshmi Nadipineni</td>\n",
       "      <td>28</td>\n",
       "      <td>3</td>\n",
       "      <td>0</td>\n",
       "      <td>0</td>\n",
       "      <td>0.0</td>\n",
       "      <td>4.5</td>\n",
       "      <td>1.5</td>\n",
       "      <td>0.0</td>\n",
       "      <td>0.0</td>\n",
       "      <td>31.0</td>\n",
       "    </tr>\n",
       "    <tr>\n",
       "      <th>4</th>\n",
       "      <td>ZM10034</td>\n",
       "      <td>Kanav Bansal</td>\n",
       "      <td>31</td>\n",
       "      <td>0</td>\n",
       "      <td>0</td>\n",
       "      <td>0</td>\n",
       "      <td>0.0</td>\n",
       "      <td>12.0</td>\n",
       "      <td>12.0</td>\n",
       "      <td>0.0</td>\n",
       "      <td>0.0</td>\n",
       "      <td>31.0</td>\n",
       "    </tr>\n",
       "  </tbody>\n",
       "</table>\n",
       "</div>"
      ],
      "text/plain": [
       "  Employee ID          Employee Name   Total present  Total Leaves taken   \\\n",
       "0      ZM10002         Raghuram Aduri             29                    2   \n",
       "1      ZM10009      Ramkumar Eetakota             28                    2   \n",
       "2      ZM10011         Pradeep Naroju             27                    0   \n",
       "3      ZM10013  AdiLakshmi Nadipineni             28                    3   \n",
       "4      ZM10034           Kanav Bansal             31                    0   \n",
       "\n",
       "   Halfdays  Total late   Deduction for lates (in days)  \\\n",
       "0         0            0                            0.0   \n",
       "1         0            1                            0.0   \n",
       "2         0            4                            0.5   \n",
       "3         0            0                            0.0   \n",
       "4         0            0                            0.0   \n",
       "\n",
       "   Available Leave balance   Available for next month(February )  \\\n",
       "0                       4.0                                  2.0   \n",
       "1                       3.5                                  1.5   \n",
       "2                       1.0                                  0.5   \n",
       "3                       4.5                                  1.5   \n",
       "4                      12.0                                 12.0   \n",
       "\n",
       "   Compensatory off  Available Compensatory off till next month (Feb)  \\\n",
       "0               0.0                                               0.0   \n",
       "1               0.0                                               0.0   \n",
       "2               0.0                                               0.0   \n",
       "3               0.0                                               0.0   \n",
       "4               0.0                                               0.0   \n",
       "\n",
       "   Total for payroll  \n",
       "0               31.0  \n",
       "1               31.0  \n",
       "2               31.0  \n",
       "3               31.0  \n",
       "4               31.0  "
      ]
     },
     "execution_count": 24,
     "metadata": {},
     "output_type": "execute_result"
    }
   ],
   "source": [
    "data = pd.read_excel(\"summary report-Jan'21.xlsx\")\n",
    "data.head()"
   ]
  },
  {
   "cell_type": "code",
   "execution_count": 25,
   "metadata": {},
   "outputs": [],
   "source": [
    "ram = data[data['Employee ID '] == 'ZM10009']"
   ]
  },
  {
   "cell_type": "code",
   "execution_count": 51,
   "metadata": {},
   "outputs": [],
   "source": [
    "dic = dict(zip(data['Employee ID '],data['Employee Name ']))\n",
    "for id_,name in dic.items():\n",
    "    if id_==id_:\n",
    "        single_df = data[data['Employee ID ']==id_]\n",
    "        options = {\"format\": format}\n",
    "        text_file = open(\"./Emp_list/\"+name+\".html\", \"w\")\n",
    "\n",
    "        # write the CSS\n",
    "        text_file.write(css)\n",
    "        # write the HTML-ized Pandas DataFrame\n",
    "        text_file.write(single_df.to_html())\n",
    "        text_file.close()"
   ]
  },
  {
   "cell_type": "code",
   "execution_count": 38,
   "metadata": {},
   "outputs": [],
   "source": [
    "def DataFrame_to_image(data, css, outputfile=\"out.jpg\", format=\"jpg\"):\n",
    "    '''\n",
    "    For rendering a Pandas DataFrame as an image.\n",
    "    data: a pandas DataFrame\n",
    "    css: a string containing rules for styling the output table. This must \n",
    "         contain both the opening an closing <style> tags.\n",
    "    *outputimage: filename for saving of generated image\n",
    "    *format: output format, as supported by IMGKit. Default is \"png\"\n",
    "    '''\n",
    "    fn = str(random.random()*100000000).split(\".\")[0] + \".html\"\n",
    "    \n",
    "    try:\n",
    "        os.remove(fn)\n",
    "    except:\n",
    "        None\n",
    "    text_file = open(fn, \"a\")\n",
    "    \n",
    "    # write the CSS\n",
    "    text_file.write(css)\n",
    "    # write the HTML-ized Pandas DataFrame\n",
    "    text_file.write(data.to_html())\n",
    "    text_file.close()\n",
    "    \n",
    "    # See IMGKit options for full configuration,\n",
    "    # e.g. cropping of final image\n",
    "    imgkitoptions = {\"format\": format}\n",
    "    \n",
    "    imgkit.from_file(fn, outputfile, options=imgkitoptions,css=css)\n",
    "    os.remove(fn)"
   ]
  },
  {
   "cell_type": "code",
   "execution_count": 26,
   "metadata": {},
   "outputs": [],
   "source": [
    "boiler = \"\"\"\n",
    "<!DOCTYPE html>\n",
    "<html lang=\"en\">\n",
    "<head>\n",
    "    <meta charset=\"UTF-8\">\n",
    "    <meta http-equiv=\"X-UA-Compatible\" content=\"IE=edge\">\n",
    "    <meta name=\"viewport\" content=\"width=device-width, initial-scale=1.0\">\n",
    "    <!-- Latest compiled and minified CSS -->\n",
    "    <link rel=\"stylesheet\" href=\"https://maxcdn.bootstrapcdn.com/bootstrap/3.3.7/css/bootstrap.min.css\" integrity=\"sha384-BVYiiSIFeK1dGmJRAkycuHAHRg32OmUcww7on3RYdg4Va+PmSTsz/K68vbdEjh4u\" crossorigin=\"anonymous\">\n",
    "    <title>Document</title>\n",
    "    <style>\n",
    "      body {\n",
    "        font-family: sans-serif;\n",
    "        line-height: 25px;\n",
    "        background: white;\n",
    "        color: black;\n",
    "      }\n",
    "\n",
    "      .table {\n",
    "        width:100%;\n",
    "        margin-bottom: 1rem;\n",
    "        border: 1px solid grey;\n",
    "        color:#212529;\n",
    "      }\n",
    "\n",
    "      .table th {\n",
    "        border-bottom: 1px solid grey;\n",
    "      }\n",
    "\n",
    "      .table td,.table th{\n",
    "        padding:.75rem;\n",
    "        vertical-align:top;\n",
    "        text-align: center;\n",
    "      }\n",
    "\n",
    "      .table th:nth-child(even) {\n",
    "        background-color: black;\n",
    "        color: white;\n",
    "      }\n",
    "\n",
    "      .table th:nth-child(odd) {\n",
    "        background-color: red;\n",
    "        color: black;\n",
    "      }\n",
    "\n",
    "      .table tbody {\n",
    "        border-bottom: 2px solid grey;\n",
    "      }\n",
    "\n",
    "      .table td {\n",
    "        font-weight: 900;\n",
    "      }\n",
    "    </style>\n",
    "</head>\n",
    "<body>\n",
    "    <header>\n",
    "      <nav>\n",
    "        <div class=\"row\">\n",
    "          <div class=\"col-sm-3\">\n",
    "            <img style=\"height: 4em;\" src=\"https://raw.githubusercontent.com/akhila2710/TFA_Files/main/inno%20logo%20hd%20png%20(1).png\" alt=\"LOGO\">\n",
    "          </div>\n",
    "          <div class=\"col-sm-3\" style=\"margin-left: 12em;\" ><h1 style=\"text-align: center;\"> <u style=\"font-size: 0.9em;\">Attendance Summary Report</u> </h1></div>\n",
    "          <div class=\"col-sm-3\"></div>\n",
    "          <div class=\"col-sm-3\"></div>\n",
    "        </div>\n",
    "      </nav>\n",
    "    </header>\n",
    "    <div class=\"background\"></div>\n",
    "</body>\n",
    "</html>\n",
    "\"\"\""
   ]
  },
  {
   "cell_type": "markdown",
   "metadata": {},
   "source": [
    "## Converting dataframe to html format"
   ]
  },
  {
   "cell_type": "code",
   "execution_count": 29,
   "metadata": {},
   "outputs": [],
   "source": [
    "dic = dict(zip(data['Employee ID '],data['Employee Name ']))\n",
    "for id_,name in dic.items():\n",
    "    if id_==id_:\n",
    "        single_df = data[data['Employee ID ']==id_]\n",
    "        options = {\"format\": format}\n",
    "        text_file = open(\"./layout.html\", \"w\")\n",
    "\n",
    "        # write the CSS\n",
    "        text_file.write(boiler)\n",
    "        text_file.close()\n",
    "        read_file = open(\"layout.html\",\"r\")\n",
    "        lines = read_file.read()\n",
    "        chars = lines[:1817]+single_df.to_html(classes=\"table table-bordered table-condensed table-hover\")+lines[1820:]\n",
    "        creating = open(\"./Emp_list/\"+name+\".html\", \"w\")\n",
    "        creating.write(chars)\n",
    "        creating.close()"
   ]
  },
  {
   "cell_type": "raw",
   "metadata": {},
   "source": [
    "options = {\"format\": format}\n",
    "text_file = open(\"./layout.html\", \"w\")\n",
    "    \n",
    "# write the CSS\n",
    "text_file.write(boiler)\n",
    "# write the HTML-ized Pandas DataFrame\n",
    "#text_file.write(ram.to_html())\n",
    "\n",
    "text_file.close()\n",
    "read_file = open(\"layout.html\",\"r\")\n",
    "a = read_file.read()\n",
    "#print(a[1820:])\n",
    "chars = a[:1817]+ram.to_html(classes=\"table table-bordered table-condensed table-hover\")+a[1820:]\n",
    "print(chars)\n",
    "#imgkit.from_file('ram.html',output_path=\"./\", options=options, css=css)"
   ]
  },
  {
   "cell_type": "code",
   "execution_count": 5,
   "metadata": {},
   "outputs": [
    {
     "name": "stdout",
     "output_type": "stream",
     "text": [
      "Collecting html2image\n",
      "  Downloading html2image-2.0.1-py3-none-any.whl (17 kB)\n",
      "Installing collected packages: html2image\n",
      "Successfully installed html2image-2.0.1\n"
     ]
    }
   ],
   "source": [
    "!pip install html2image"
   ]
  },
  {
   "cell_type": "markdown",
   "metadata": {},
   "source": [
    "## Converting multiple HTML to .JPG"
   ]
  },
  {
   "cell_type": "code",
   "execution_count": 40,
   "metadata": {},
   "outputs": [],
   "source": [
    "from html2image import Html2Image\n",
    "import glob\n",
    "hti = Html2Image()\n",
    "for file in glob.glob(\"./Emp_list/*.html\"):\n",
    "    name = file.split(\"\\\\\")[1].split(\".\")[0]\n",
    "    hti.output_path = './jpg/'\n",
    "    hti.screenshot(html_file=file, save_as=name+'.jpg')"
   ]
  },
  {
   "cell_type": "markdown",
   "metadata": {},
   "source": [
    "## Converting single HTML to .JPG"
   ]
  },
  {
   "cell_type": "code",
   "execution_count": null,
   "metadata": {},
   "outputs": [],
   "source": [
    "hti = Html2Image()\n",
    "hti.output_path = './jpg/'\n",
    "hti.screenshot(html_file=file, save_as='name.jpg')"
   ]
  }
 ],
 "metadata": {
  "kernelspec": {
   "display_name": "Python 3",
   "language": "python",
   "name": "python3"
  },
  "language_info": {
   "codemirror_mode": {
    "name": "ipython",
    "version": 3
   },
   "file_extension": ".py",
   "mimetype": "text/x-python",
   "name": "python",
   "nbconvert_exporter": "python",
   "pygments_lexer": "ipython3",
   "version": "3.8.5"
  }
 },
 "nbformat": 4,
 "nbformat_minor": 4
}
